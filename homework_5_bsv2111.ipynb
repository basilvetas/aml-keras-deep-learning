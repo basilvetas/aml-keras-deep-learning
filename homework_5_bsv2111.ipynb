{
 "cells": [
  {
   "cell_type": "markdown",
   "metadata": {
    "colab_type": "text",
    "id": "Vno1YsVn6cUc"
   },
   "source": [
    "# Homework 5\n"
   ]
  },
  {
   "cell_type": "code",
   "execution_count": 0,
   "metadata": {
    "colab": {
     "base_uri": "https://localhost:8080/",
     "height": 377
    },
    "colab_type": "code",
    "id": "R7bZrqow3pYS",
    "outputId": "ba7cbf73-35d4-463e-d4c0-cce2db78d5dc"
   },
   "outputs": [
    {
     "name": "stdout",
     "output_type": "stream",
     "text": [
      "Requirement already satisfied: tensorflow-gpu in /usr/local/lib/python3.6/dist-packages (1.13.1)\n",
      "Requirement already satisfied: wheel>=0.26 in /usr/local/lib/python3.6/dist-packages (from tensorflow-gpu) (0.33.1)\n",
      "Requirement already satisfied: grpcio>=1.8.6 in /usr/local/lib/python3.6/dist-packages (from tensorflow-gpu) (1.15.0)\n",
      "Requirement already satisfied: gast>=0.2.0 in /usr/local/lib/python3.6/dist-packages (from tensorflow-gpu) (0.2.2)\n",
      "Requirement already satisfied: tensorboard<1.14.0,>=1.13.0 in /usr/local/lib/python3.6/dist-packages (from tensorflow-gpu) (1.13.1)\n",
      "Requirement already satisfied: numpy>=1.13.3 in /usr/local/lib/python3.6/dist-packages (from tensorflow-gpu) (1.16.3)\n",
      "Requirement already satisfied: absl-py>=0.1.6 in /usr/local/lib/python3.6/dist-packages (from tensorflow-gpu) (0.7.1)\n",
      "Requirement already satisfied: tensorflow-estimator<1.14.0rc0,>=1.13.0 in /usr/local/lib/python3.6/dist-packages (from tensorflow-gpu) (1.13.0)\n",
      "Requirement already satisfied: keras-preprocessing>=1.0.5 in /usr/local/lib/python3.6/dist-packages (from tensorflow-gpu) (1.0.9)\n",
      "Requirement already satisfied: keras-applications>=1.0.6 in /usr/local/lib/python3.6/dist-packages (from tensorflow-gpu) (1.0.7)\n",
      "Requirement already satisfied: six>=1.10.0 in /usr/local/lib/python3.6/dist-packages (from tensorflow-gpu) (1.12.0)\n",
      "Requirement already satisfied: termcolor>=1.1.0 in /usr/local/lib/python3.6/dist-packages (from tensorflow-gpu) (1.1.0)\n",
      "Requirement already satisfied: astor>=0.6.0 in /usr/local/lib/python3.6/dist-packages (from tensorflow-gpu) (0.7.1)\n",
      "Requirement already satisfied: protobuf>=3.6.1 in /usr/local/lib/python3.6/dist-packages (from tensorflow-gpu) (3.7.1)\n",
      "Requirement already satisfied: werkzeug>=0.11.15 in /usr/local/lib/python3.6/dist-packages (from tensorboard<1.14.0,>=1.13.0->tensorflow-gpu) (0.15.2)\n",
      "Requirement already satisfied: markdown>=2.6.8 in /usr/local/lib/python3.6/dist-packages (from tensorboard<1.14.0,>=1.13.0->tensorflow-gpu) (3.1)\n",
      "Requirement already satisfied: mock>=2.0.0 in /usr/local/lib/python3.6/dist-packages (from tensorflow-estimator<1.14.0rc0,>=1.13.0->tensorflow-gpu) (2.0.0)\n",
      "Requirement already satisfied: h5py in /usr/local/lib/python3.6/dist-packages (from keras-applications>=1.0.6->tensorflow-gpu) (2.8.0)\n",
      "Requirement already satisfied: setuptools in /usr/local/lib/python3.6/dist-packages (from protobuf>=3.6.1->tensorflow-gpu) (40.9.0)\n",
      "Requirement already satisfied: pbr>=0.11 in /usr/local/lib/python3.6/dist-packages (from mock>=2.0.0->tensorflow-estimator<1.14.0rc0,>=1.13.0->tensorflow-gpu) (5.1.3)\n"
     ]
    }
   ],
   "source": [
    "!pip install tensorflow-gpu"
   ]
  },
  {
   "cell_type": "code",
   "execution_count": 0,
   "metadata": {
    "colab": {
     "base_uri": "https://localhost:8080/",
     "height": 34
    },
    "colab_type": "code",
    "id": "ljKZc3J33u7p",
    "outputId": "40dcf8cf-f408-4c31-c6c4-c6c36a8c9fe4"
   },
   "outputs": [
    {
     "name": "stdout",
     "output_type": "stream",
     "text": [
      "1.13.1\n"
     ]
    }
   ],
   "source": [
    "import tensorflow as tf\n",
    "print(tf.__version__)"
   ]
  },
  {
   "cell_type": "code",
   "execution_count": 0,
   "metadata": {
    "colab": {
     "base_uri": "https://localhost:8080/",
     "height": 224
    },
    "colab_type": "code",
    "id": "qszTDYgeDqNf",
    "outputId": "3caad803-eed4-4d41-e966-54a970f054d2"
   },
   "outputs": [
    {
     "name": "stdout",
     "output_type": "stream",
     "text": [
      "Requirement already satisfied: kaggle in /usr/local/lib/python3.6/dist-packages (1.5.3)\n",
      "Requirement already satisfied: urllib3<1.25,>=1.21.1 in /usr/local/lib/python3.6/dist-packages (from kaggle) (1.24.2)\n",
      "Requirement already satisfied: six>=1.10 in /usr/local/lib/python3.6/dist-packages (from kaggle) (1.12.0)\n",
      "Requirement already satisfied: certifi in /usr/local/lib/python3.6/dist-packages (from kaggle) (2019.3.9)\n",
      "Requirement already satisfied: python-dateutil in /usr/local/lib/python3.6/dist-packages (from kaggle) (2.5.3)\n",
      "Requirement already satisfied: requests in /usr/local/lib/python3.6/dist-packages (from kaggle) (2.21.0)\n",
      "Requirement already satisfied: tqdm in /usr/local/lib/python3.6/dist-packages (from kaggle) (4.28.1)\n",
      "Requirement already satisfied: python-slugify in /usr/local/lib/python3.6/dist-packages (from kaggle) (3.0.2)\n",
      "Requirement already satisfied: chardet<3.1.0,>=3.0.2 in /usr/local/lib/python3.6/dist-packages (from requests->kaggle) (3.0.4)\n",
      "Requirement already satisfied: idna<2.9,>=2.5 in /usr/local/lib/python3.6/dist-packages (from requests->kaggle) (2.8)\n",
      "Requirement already satisfied: text-unidecode==1.2 in /usr/local/lib/python3.6/dist-packages (from python-slugify->kaggle) (1.2)\n"
     ]
    }
   ],
   "source": [
    "!pip install kaggle"
   ]
  },
  {
   "cell_type": "code",
   "execution_count": 0,
   "metadata": {
    "colab": {},
    "colab_type": "code",
    "id": "qFEMx8bgRedt"
   },
   "outputs": [],
   "source": [
    "import os\n",
    "import cv2\n",
    "\n",
    "import numpy as np\n",
    "import pandas as pd\n",
    "import matplotlib.pyplot as plt\n",
    "\n",
    "from google.colab import files\n",
    "from glob import glob"
   ]
  },
  {
   "cell_type": "code",
   "execution_count": 0,
   "metadata": {
    "colab": {
     "base_uri": "https://localhost:8080/",
     "height": 34
    },
    "colab_type": "code",
    "id": "cp2vS1jN5Hr2",
    "outputId": "56588741-a53e-4fbb-ece6-c6f966e83c5d"
   },
   "outputs": [
    {
     "name": "stderr",
     "output_type": "stream",
     "text": [
      "Using TensorFlow backend.\n"
     ]
    }
   ],
   "source": [
    "import keras\n",
    "from keras import regularizers\n",
    "from keras.models import Sequential, Model\n",
    "from keras.layers import (\n",
    "    Dense, \n",
    "    Activation, \n",
    "    Dropout, \n",
    "    BatchNormalization, \n",
    "    Input, \n",
    "    Add,\n",
    "    Conv2D,\n",
    "    MaxPooling2D,\n",
    "    Flatten\n",
    ")\n",
    "\n",
    "from keras.wrappers.scikit_learn import KerasClassifier, KerasRegressor\n",
    "from keras.datasets import fashion_mnist\n",
    "from keras.preprocessing.image import ImageDataGenerator\n",
    "from keras.optimizers import SGD"
   ]
  },
  {
   "cell_type": "code",
   "execution_count": 0,
   "metadata": {
    "colab": {},
    "colab_type": "code",
    "id": "z4Qy3-m37eRC"
   },
   "outputs": [],
   "source": [
    "from sklearn import datasets\n",
    "from sklearn.model_selection import train_test_split\n",
    "from sklearn.model_selection import StratifiedShuffleSplit\n",
    "from sklearn.model_selection import GridSearchCV"
   ]
  },
  {
   "cell_type": "markdown",
   "metadata": {
    "colab_type": "text",
    "id": "8qWHQTLD6YE8"
   },
   "source": [
    "### Task 1\n",
    "\n",
    "Run a multilayer perceptron (feed forward neural network) with two hidden layers and rectified linear nonlinearities on the iris dataset using the keras​ Sequential interface​. Include code for selecting regularization strength and number of hidden units using GridSearchCV and evaluation on an independent test-set.\n"
   ]
  },
  {
   "cell_type": "code",
   "execution_count": 0,
   "metadata": {
    "colab": {
     "base_uri": "https://localhost:8080/",
     "height": 34
    },
    "colab_type": "code",
    "id": "ASqL-pNtm3HR",
    "outputId": "52054e02-7500-4e68-b0d8-58783b81fdb7"
   },
   "outputs": [
    {
     "data": {
      "text/plain": [
       "(150, 4)"
      ]
     },
     "execution_count": 7,
     "metadata": {
      "tags": []
     },
     "output_type": "execute_result"
    }
   ],
   "source": [
    "iris = datasets.load_iris()\n",
    "iris.data.shape"
   ]
  },
  {
   "cell_type": "code",
   "execution_count": 0,
   "metadata": {
    "colab": {},
    "colab_type": "code",
    "id": "3U6lwkxg82Be"
   },
   "outputs": [],
   "source": [
    "X_train, X_test, y_train, y_test = train_test_split(\n",
    "    iris.data, iris.target, stratify=iris.target, random_state=0)"
   ]
  },
  {
   "cell_type": "code",
   "execution_count": 0,
   "metadata": {
    "colab": {},
    "colab_type": "code",
    "id": "ynt1UMq_A6m_"
   },
   "outputs": [],
   "source": [
    "num_classes = len(iris.target_names)"
   ]
  },
  {
   "cell_type": "code",
   "execution_count": 0,
   "metadata": {
    "colab": {},
    "colab_type": "code",
    "id": "uv35Idia-UdE"
   },
   "outputs": [],
   "source": [
    "# convert class vectors to binary class matrices\n",
    "y_train = keras.utils.to_categorical(y_train, num_classes)\n",
    "y_test = keras.utils.to_categorical(y_test, num_classes)"
   ]
  },
  {
   "cell_type": "code",
   "execution_count": 0,
   "metadata": {
    "colab": {},
    "colab_type": "code",
    "id": "I0_kj3SXCFBb"
   },
   "outputs": [],
   "source": [
    "def make_model(optimizer='adam', hidden_size=32, alpha=0.1):\n",
    "  \n",
    "    model = Sequential([\n",
    "        Dense(\n",
    "            hidden_size, \n",
    "            kernel_regularizer=regularizers.l2(alpha),\n",
    "            input_shape=(iris.data.shape[1], )),\n",
    "        Activation('relu'),\n",
    "        Dense(num_classes),\n",
    "        Activation('softmax')\n",
    "    ])\n",
    "    \n",
    "    model.compile(optimizer=optimizer, loss='categorical_crossentropy', metrics=['accuracy'])\n",
    "    return model\n"
   ]
  },
  {
   "cell_type": "code",
   "execution_count": 0,
   "metadata": {
    "colab": {
     "base_uri": "https://localhost:8080/",
     "height": 343
    },
    "colab_type": "code",
    "id": "a3F9fWrREKU4",
    "outputId": "7405f69b-4f99-4278-d453-66a4d80b709c"
   },
   "outputs": [
    {
     "name": "stdout",
     "output_type": "stream",
     "text": [
      "WARNING:tensorflow:From /usr/local/lib/python3.6/dist-packages/tensorflow/python/framework/op_def_library.py:263: colocate_with (from tensorflow.python.framework.ops) is deprecated and will be removed in a future version.\n",
      "Instructions for updating:\n",
      "Colocations handled automatically by placer.\n",
      "_________________________________________________________________\n",
      "Layer (type)                 Output Shape              Param #   \n",
      "=================================================================\n",
      "dense_1 (Dense)              (None, 32)                160       \n",
      "_________________________________________________________________\n",
      "activation_1 (Activation)    (None, 32)                0         \n",
      "_________________________________________________________________\n",
      "dense_2 (Dense)              (None, 3)                 99        \n",
      "_________________________________________________________________\n",
      "activation_2 (Activation)    (None, 3)                 0         \n",
      "=================================================================\n",
      "Total params: 259\n",
      "Trainable params: 259\n",
      "Non-trainable params: 0\n",
      "_________________________________________________________________\n"
     ]
    }
   ],
   "source": [
    "make_model().summary()"
   ]
  },
  {
   "cell_type": "markdown",
   "metadata": {
    "colab_type": "text",
    "id": "z69ALrJpHRfw"
   },
   "source": [
    "Below I set up a parameter grid for selecting regularization strength and number of hidden units within GridSearchCV:"
   ]
  },
  {
   "cell_type": "code",
   "execution_count": 0,
   "metadata": {
    "colab": {
     "base_uri": "https://localhost:8080/",
     "height": 29702
    },
    "colab_type": "code",
    "id": "jTkLh082CSXk",
    "outputId": "89a80b3a-5865-496d-dcbc-d1c2bc30f56d"
   },
   "outputs": [
    {
     "name": "stdout",
     "output_type": "stream",
     "text": [
      "WARNING:tensorflow:From /usr/local/lib/python3.6/dist-packages/tensorflow/python/ops/math_ops.py:3066: to_int32 (from tensorflow.python.ops.math_ops) is deprecated and will be removed in a future version.\n",
      "Instructions for updating:\n",
      "Use tf.cast instead.\n",
      "Epoch 1/30\n",
      "100/100 [==============================] - 1s 15ms/step - loss: 2.0401 - acc: 0.6600\n",
      "Epoch 2/30\n",
      "100/100 [==============================] - 0s 152us/step - loss: 1.9369 - acc: 0.6600\n",
      "Epoch 3/30\n",
      "100/100 [==============================] - 0s 144us/step - loss: 1.8422 - acc: 0.6700\n",
      "Epoch 4/30\n",
      "100/100 [==============================] - 0s 162us/step - loss: 1.7547 - acc: 0.6700\n",
      "Epoch 5/30\n",
      "100/100 [==============================] - 0s 139us/step - loss: 1.6782 - acc: 0.6700\n",
      "Epoch 6/30\n",
      "100/100 [==============================] - 0s 172us/step - loss: 1.6140 - acc: 0.6700\n",
      "Epoch 7/30\n",
      "100/100 [==============================] - 0s 172us/step - loss: 1.5587 - acc: 0.6700\n",
      "Epoch 8/30\n",
      "100/100 [==============================] - 0s 175us/step - loss: 1.5123 - acc: 0.6700\n",
      "Epoch 9/30\n",
      "100/100 [==============================] - 0s 163us/step - loss: 1.4794 - acc: 0.6700\n",
      "Epoch 10/30\n",
      "100/100 [==============================] - 0s 161us/step - loss: 1.4498 - acc: 0.6700\n",
      "Epoch 11/30\n",
      "100/100 [==============================] - 0s 162us/step - loss: 1.4253 - acc: 0.6700\n",
      "Epoch 12/30\n",
      "100/100 [==============================] - 0s 160us/step - loss: 1.4027 - acc: 0.6700\n",
      "Epoch 13/30\n",
      "100/100 [==============================] - 0s 159us/step - loss: 1.3811 - acc: 0.6700\n",
      "Epoch 14/30\n",
      "100/100 [==============================] - 0s 156us/step - loss: 1.3604 - acc: 0.6700\n",
      "Epoch 15/30\n",
      "100/100 [==============================] - 0s 160us/step - loss: 1.3403 - acc: 0.6700\n",
      "Epoch 16/30\n",
      "100/100 [==============================] - 0s 158us/step - loss: 1.3208 - acc: 0.6700\n",
      "Epoch 17/30\n",
      "100/100 [==============================] - 0s 167us/step - loss: 1.3013 - acc: 0.6900\n",
      "Epoch 18/30\n",
      "100/100 [==============================] - 0s 166us/step - loss: 1.2845 - acc: 0.7500\n",
      "Epoch 19/30\n",
      "100/100 [==============================] - 0s 156us/step - loss: 1.2674 - acc: 0.8600\n",
      "Epoch 20/30\n",
      "100/100 [==============================] - 0s 160us/step - loss: 1.2520 - acc: 0.9000\n",
      "Epoch 21/30\n",
      "100/100 [==============================] - 0s 158us/step - loss: 1.2361 - acc: 0.9200\n",
      "Epoch 22/30\n",
      "100/100 [==============================] - 0s 154us/step - loss: 1.2186 - acc: 0.8600\n",
      "Epoch 23/30\n",
      "100/100 [==============================] - 0s 152us/step - loss: 1.1992 - acc: 0.7300\n",
      "Epoch 24/30\n",
      "100/100 [==============================] - 0s 211us/step - loss: 1.1834 - acc: 0.7100\n",
      "Epoch 25/30\n",
      "100/100 [==============================] - 0s 172us/step - loss: 1.1672 - acc: 0.6800\n",
      "Epoch 26/30\n",
      "100/100 [==============================] - 0s 157us/step - loss: 1.1525 - acc: 0.6900\n",
      "Epoch 27/30\n",
      "100/100 [==============================] - 0s 155us/step - loss: 1.1376 - acc: 0.7000\n",
      "Epoch 28/30\n",
      "100/100 [==============================] - 0s 161us/step - loss: 1.1235 - acc: 0.7200\n",
      "Epoch 29/30\n",
      "100/100 [==============================] - 0s 147us/step - loss: 1.1096 - acc: 0.7400\n",
      "Epoch 30/30\n",
      "100/100 [==============================] - 0s 154us/step - loss: 1.0965 - acc: 0.7900\n",
      "12/12 [==============================] - 0s 3ms/step\n",
      "100/100 [==============================] - 0s 84us/step\n",
      "Epoch 1/30\n",
      "100/100 [==============================] - 0s 2ms/step - loss: 2.6043 - acc: 0.3300\n",
      "Epoch 2/30\n",
      "100/100 [==============================] - 0s 191us/step - loss: 2.4130 - acc: 0.3300\n",
      "Epoch 3/30\n",
      "100/100 [==============================] - 0s 183us/step - loss: 2.2404 - acc: 0.3300\n",
      "Epoch 4/30\n",
      "100/100 [==============================] - 0s 165us/step - loss: 2.0965 - acc: 0.3300\n",
      "Epoch 5/30\n",
      "100/100 [==============================] - 0s 176us/step - loss: 1.9714 - acc: 0.3300\n",
      "Epoch 6/30\n",
      "100/100 [==============================] - 0s 182us/step - loss: 1.8663 - acc: 0.3300\n",
      "Epoch 7/30\n",
      "100/100 [==============================] - 0s 194us/step - loss: 1.7734 - acc: 0.3300\n",
      "Epoch 8/30\n",
      "100/100 [==============================] - 0s 184us/step - loss: 1.6990 - acc: 0.3300\n",
      "Epoch 9/30\n",
      "100/100 [==============================] - 0s 179us/step - loss: 1.6347 - acc: 0.4700\n",
      "Epoch 10/30\n",
      "100/100 [==============================] - 0s 180us/step - loss: 1.5846 - acc: 0.6600\n",
      "Epoch 11/30\n",
      "100/100 [==============================] - 0s 176us/step - loss: 1.5410 - acc: 0.6700\n",
      "Epoch 12/30\n",
      "100/100 [==============================] - 0s 203us/step - loss: 1.5024 - acc: 0.6700\n",
      "Epoch 13/30\n",
      "100/100 [==============================] - 0s 214us/step - loss: 1.4663 - acc: 0.6700\n",
      "Epoch 14/30\n",
      "100/100 [==============================] - 0s 191us/step - loss: 1.4349 - acc: 0.6700\n",
      "Epoch 15/30\n",
      "100/100 [==============================] - 0s 198us/step - loss: 1.4047 - acc: 0.6700\n",
      "Epoch 16/30\n",
      "100/100 [==============================] - 0s 176us/step - loss: 1.3760 - acc: 0.6700\n",
      "Epoch 17/30\n",
      "100/100 [==============================] - 0s 173us/step - loss: 1.3483 - acc: 0.6700\n",
      "Epoch 18/30\n",
      "100/100 [==============================] - 0s 175us/step - loss: 1.3237 - acc: 0.6700\n",
      "Epoch 19/30\n",
      "100/100 [==============================] - 0s 188us/step - loss: 1.2971 - acc: 0.6700\n",
      "Epoch 20/30\n",
      "100/100 [==============================] - 0s 177us/step - loss: 1.2750 - acc: 0.6700\n",
      "Epoch 21/30\n",
      "100/100 [==============================] - 0s 177us/step - loss: 1.2545 - acc: 0.6700\n",
      "Epoch 22/30\n",
      "100/100 [==============================] - 0s 230us/step - loss: 1.2346 - acc: 0.6700\n",
      "Epoch 23/30\n",
      "100/100 [==============================] - 0s 208us/step - loss: 1.2159 - acc: 0.6700\n",
      "Epoch 24/30\n",
      "100/100 [==============================] - 0s 185us/step - loss: 1.1985 - acc: 0.6700\n",
      "Epoch 25/30\n",
      "100/100 [==============================] - 0s 198us/step - loss: 1.1829 - acc: 0.6700\n",
      "Epoch 26/30\n",
      "100/100 [==============================] - 0s 181us/step - loss: 1.1673 - acc: 0.6700\n",
      "Epoch 27/30\n",
      "100/100 [==============================] - 0s 198us/step - loss: 1.1511 - acc: 0.6700\n",
      "Epoch 28/30\n",
      "100/100 [==============================] - 0s 174us/step - loss: 1.1353 - acc: 0.6700\n",
      "Epoch 29/30\n",
      "100/100 [==============================] - 0s 201us/step - loss: 1.1214 - acc: 0.6800\n",
      "Epoch 30/30\n",
      "100/100 [==============================] - 0s 180us/step - loss: 1.1072 - acc: 0.7400\n",
      "12/12 [==============================] - 0s 4ms/step\n",
      "100/100 [==============================] - 0s 119us/step\n",
      "Epoch 1/30\n",
      "100/100 [==============================] - 0s 3ms/step - loss: 1.8550 - acc: 0.3000\n",
      "Epoch 2/30\n",
      "100/100 [==============================] - 0s 181us/step - loss: 1.7704 - acc: 0.1100\n",
      "Epoch 3/30\n",
      "100/100 [==============================] - 0s 185us/step - loss: 1.7093 - acc: 0.1400\n",
      "Epoch 4/30\n",
      "100/100 [==============================] - 0s 197us/step - loss: 1.6629 - acc: 0.3800\n",
      "Epoch 5/30\n",
      "100/100 [==============================] - 0s 181us/step - loss: 1.6243 - acc: 0.6000\n",
      "Epoch 6/30\n",
      "100/100 [==============================] - 0s 180us/step - loss: 1.5872 - acc: 0.6200\n",
      "Epoch 7/30\n",
      "100/100 [==============================] - 0s 178us/step - loss: 1.5551 - acc: 0.6000\n",
      "Epoch 8/30\n",
      "100/100 [==============================] - 0s 180us/step - loss: 1.5220 - acc: 0.5900\n",
      "Epoch 9/30\n",
      "100/100 [==============================] - 0s 180us/step - loss: 1.4904 - acc: 0.6100\n",
      "Epoch 10/30\n",
      "100/100 [==============================] - 0s 179us/step - loss: 1.4619 - acc: 0.5600\n",
      "Epoch 11/30\n",
      "100/100 [==============================] - 0s 208us/step - loss: 1.4317 - acc: 0.5600\n",
      "Epoch 12/30\n",
      "100/100 [==============================] - 0s 205us/step - loss: 1.4040 - acc: 0.5800\n",
      "Epoch 13/30\n",
      "100/100 [==============================] - 0s 198us/step - loss: 1.3809 - acc: 0.5600\n",
      "Epoch 14/30\n",
      "100/100 [==============================] - 0s 168us/step - loss: 1.3586 - acc: 0.5600\n",
      "Epoch 15/30\n",
      "100/100 [==============================] - 0s 217us/step - loss: 1.3388 - acc: 0.5300\n",
      "Epoch 16/30\n",
      "100/100 [==============================] - 0s 218us/step - loss: 1.3191 - acc: 0.5300\n",
      "Epoch 17/30\n",
      "100/100 [==============================] - 0s 177us/step - loss: 1.3002 - acc: 0.5400\n",
      "Epoch 18/30\n",
      "100/100 [==============================] - 0s 186us/step - loss: 1.2819 - acc: 0.5900\n",
      "Epoch 19/30\n",
      "100/100 [==============================] - 0s 203us/step - loss: 1.2647 - acc: 0.6400\n",
      "Epoch 20/30\n",
      "100/100 [==============================] - 0s 170us/step - loss: 1.2488 - acc: 0.6400\n",
      "Epoch 21/30\n",
      "100/100 [==============================] - 0s 183us/step - loss: 1.2329 - acc: 0.6300\n",
      "Epoch 22/30\n",
      "100/100 [==============================] - 0s 207us/step - loss: 1.2173 - acc: 0.6300\n",
      "Epoch 23/30\n",
      "100/100 [==============================] - 0s 355us/step - loss: 1.2028 - acc: 0.6400\n",
      "Epoch 24/30\n",
      "100/100 [==============================] - 0s 208us/step - loss: 1.1888 - acc: 0.6500\n",
      "Epoch 25/30\n",
      "100/100 [==============================] - 0s 199us/step - loss: 1.1773 - acc: 0.6700\n",
      "Epoch 26/30\n",
      "100/100 [==============================] - 0s 176us/step - loss: 1.1633 - acc: 0.6700\n",
      "Epoch 27/30\n",
      "100/100 [==============================] - 0s 211us/step - loss: 1.1506 - acc: 0.6700\n",
      "Epoch 28/30\n",
      "100/100 [==============================] - 0s 160us/step - loss: 1.1367 - acc: 0.6700\n",
      "Epoch 29/30\n",
      "100/100 [==============================] - 0s 199us/step - loss: 1.1245 - acc: 0.6700\n",
      "Epoch 30/30\n",
      "100/100 [==============================] - 0s 196us/step - loss: 1.1106 - acc: 0.6700\n",
      "12/12 [==============================] - 0s 6ms/step\n",
      "100/100 [==============================] - 0s 124us/step\n",
      "Epoch 1/30\n",
      "100/100 [==============================] - 0s 3ms/step - loss: 1.9508 - acc: 0.3300\n",
      "Epoch 2/30\n",
      "100/100 [==============================] - 0s 184us/step - loss: 1.7830 - acc: 0.3300\n",
      "Epoch 3/30\n",
      "100/100 [==============================] - 0s 192us/step - loss: 1.6661 - acc: 0.4000\n",
      "Epoch 4/30\n",
      "100/100 [==============================] - 0s 184us/step - loss: 1.5808 - acc: 0.6200\n",
      "Epoch 5/30\n",
      "100/100 [==============================] - 0s 187us/step - loss: 1.5092 - acc: 0.6600\n",
      "Epoch 6/30\n",
      "100/100 [==============================] - 0s 184us/step - loss: 1.4503 - acc: 0.6600\n",
      "Epoch 7/30\n",
      "100/100 [==============================] - 0s 176us/step - loss: 1.3908 - acc: 0.6600\n",
      "Epoch 8/30\n",
      "100/100 [==============================] - 0s 332us/step - loss: 1.3461 - acc: 0.6600\n",
      "Epoch 9/30\n",
      "100/100 [==============================] - 0s 181us/step - loss: 1.3090 - acc: 0.6400\n",
      "Epoch 10/30\n",
      "100/100 [==============================] - 0s 179us/step - loss: 1.2758 - acc: 0.6700\n",
      "Epoch 11/30\n",
      "100/100 [==============================] - 0s 181us/step - loss: 1.2454 - acc: 0.6700\n",
      "Epoch 12/30\n",
      "100/100 [==============================] - 0s 218us/step - loss: 1.2188 - acc: 0.6700\n",
      "Epoch 13/30\n",
      "100/100 [==============================] - 0s 197us/step - loss: 1.1939 - acc: 0.6800\n",
      "Epoch 14/30\n",
      "100/100 [==============================] - 0s 204us/step - loss: 1.1703 - acc: 0.6900\n",
      "Epoch 15/30\n",
      "100/100 [==============================] - 0s 214us/step - loss: 1.1458 - acc: 0.6700\n",
      "Epoch 16/30\n",
      "100/100 [==============================] - 0s 189us/step - loss: 1.1261 - acc: 0.6700\n",
      "Epoch 17/30\n",
      "100/100 [==============================] - 0s 212us/step - loss: 1.1065 - acc: 0.6700\n",
      "Epoch 18/30\n",
      "100/100 [==============================] - 0s 203us/step - loss: 1.0876 - acc: 0.6700\n",
      "Epoch 19/30\n",
      "100/100 [==============================] - 0s 188us/step - loss: 1.0683 - acc: 0.6700\n",
      "Epoch 20/30\n",
      "100/100 [==============================] - 0s 180us/step - loss: 1.0504 - acc: 0.6800\n",
      "Epoch 21/30\n",
      "100/100 [==============================] - 0s 186us/step - loss: 1.0350 - acc: 0.7700\n",
      "Epoch 22/30\n",
      "100/100 [==============================] - 0s 189us/step - loss: 1.0200 - acc: 0.9400\n",
      "Epoch 23/30\n",
      "100/100 [==============================] - 0s 179us/step - loss: 1.0067 - acc: 0.9600\n",
      "Epoch 24/30\n",
      "100/100 [==============================] - 0s 176us/step - loss: 0.9932 - acc: 0.9500\n",
      "Epoch 25/30\n",
      "100/100 [==============================] - 0s 205us/step - loss: 0.9786 - acc: 0.9600\n",
      "Epoch 26/30\n",
      "100/100 [==============================] - 0s 217us/step - loss: 0.9634 - acc: 0.9400\n",
      "Epoch 27/30\n",
      "100/100 [==============================] - 0s 201us/step - loss: 0.9481 - acc: 0.8600\n",
      "Epoch 28/30\n",
      "100/100 [==============================] - 0s 187us/step - loss: 0.9340 - acc: 0.7100\n",
      "Epoch 29/30\n",
      "100/100 [==============================] - 0s 178us/step - loss: 0.9222 - acc: 0.6800\n",
      "Epoch 30/30\n",
      "100/100 [==============================] - 0s 179us/step - loss: 0.9105 - acc: 0.6800\n",
      "12/12 [==============================] - 0s 7ms/step\n",
      "100/100 [==============================] - 0s 127us/step\n",
      "Epoch 1/30\n",
      "100/100 [==============================] - 0s 3ms/step - loss: 1.7959 - acc: 0.3400\n",
      "Epoch 2/30\n",
      "100/100 [==============================] - 0s 163us/step - loss: 1.7310 - acc: 0.1000\n",
      "Epoch 3/30\n",
      "100/100 [==============================] - 0s 157us/step - loss: 1.6807 - acc: 0.0700\n",
      "Epoch 4/30\n",
      "100/100 [==============================] - 0s 168us/step - loss: 1.6351 - acc: 0.0500\n",
      "Epoch 5/30\n",
      "100/100 [==============================] - 0s 163us/step - loss: 1.5922 - acc: 0.2600\n",
      "Epoch 6/30\n",
      "100/100 [==============================] - 0s 166us/step - loss: 1.5490 - acc: 0.4800\n",
      "Epoch 7/30\n",
      "100/100 [==============================] - 0s 167us/step - loss: 1.5093 - acc: 0.5700\n",
      "Epoch 8/30\n",
      "100/100 [==============================] - 0s 163us/step - loss: 1.4747 - acc: 0.6500\n",
      "Epoch 9/30\n",
      "100/100 [==============================] - 0s 168us/step - loss: 1.4403 - acc: 0.6700\n",
      "Epoch 10/30\n",
      "100/100 [==============================] - 0s 161us/step - loss: 1.4062 - acc: 0.6600\n",
      "Epoch 11/30\n",
      "100/100 [==============================] - 0s 159us/step - loss: 1.3744 - acc: 0.6400\n",
      "Epoch 12/30\n",
      "100/100 [==============================] - 0s 167us/step - loss: 1.3482 - acc: 0.4100\n",
      "Epoch 13/30\n",
      "100/100 [==============================] - 0s 172us/step - loss: 1.3184 - acc: 0.4900\n",
      "Epoch 14/30\n",
      "100/100 [==============================] - 0s 161us/step - loss: 1.2893 - acc: 0.4600\n",
      "Epoch 15/30\n",
      "100/100 [==============================] - 0s 172us/step - loss: 1.2648 - acc: 0.6300\n",
      "Epoch 16/30\n",
      "100/100 [==============================] - 0s 177us/step - loss: 1.2403 - acc: 0.6700\n",
      "Epoch 17/30\n",
      "100/100 [==============================] - 0s 190us/step - loss: 1.2153 - acc: 0.6700\n",
      "Epoch 18/30\n",
      "100/100 [==============================] - 0s 195us/step - loss: 1.1938 - acc: 0.6700\n",
      "Epoch 19/30\n",
      "100/100 [==============================] - 0s 166us/step - loss: 1.1726 - acc: 0.6700\n",
      "Epoch 20/30\n",
      "100/100 [==============================] - 0s 190us/step - loss: 1.1503 - acc: 0.6700\n",
      "Epoch 21/30\n",
      "100/100 [==============================] - 0s 171us/step - loss: 1.1306 - acc: 0.6700\n",
      "Epoch 22/30\n",
      "100/100 [==============================] - 0s 164us/step - loss: 1.1142 - acc: 0.7300\n",
      "Epoch 23/30\n",
      "100/100 [==============================] - 0s 165us/step - loss: 1.0960 - acc: 0.7400\n",
      "Epoch 24/30\n",
      "100/100 [==============================] - 0s 164us/step - loss: 1.0775 - acc: 0.6700\n",
      "Epoch 25/30\n",
      "100/100 [==============================] - 0s 156us/step - loss: 1.0596 - acc: 0.6700\n",
      "Epoch 26/30\n",
      "100/100 [==============================] - 0s 178us/step - loss: 1.0503 - acc: 0.6700\n",
      "Epoch 27/30\n",
      "100/100 [==============================] - 0s 202us/step - loss: 1.0380 - acc: 0.6700\n",
      "Epoch 28/30\n",
      "100/100 [==============================] - 0s 191us/step - loss: 1.0232 - acc: 0.6700\n",
      "Epoch 29/30\n",
      "100/100 [==============================] - 0s 245us/step - loss: 1.0115 - acc: 0.6700\n",
      "Epoch 30/30\n",
      "100/100 [==============================] - 0s 219us/step - loss: 0.9953 - acc: 0.6700\n",
      "12/12 [==============================] - 0s 9ms/step\n",
      "100/100 [==============================] - 0s 85us/step\n",
      "Epoch 1/30\n",
      "100/100 [==============================] - 0s 3ms/step - loss: 4.6133 - acc: 0.3300\n",
      "Epoch 2/30\n",
      "100/100 [==============================] - 0s 158us/step - loss: 4.0769 - acc: 0.3300\n",
      "Epoch 3/30\n",
      "100/100 [==============================] - 0s 170us/step - loss: 3.5921 - acc: 0.3300\n",
      "Epoch 4/30\n",
      "100/100 [==============================] - 0s 162us/step - loss: 3.1746 - acc: 0.3300\n",
      "Epoch 5/30\n",
      "100/100 [==============================] - 0s 173us/step - loss: 2.8356 - acc: 0.3300\n",
      "Epoch 6/30\n",
      "100/100 [==============================] - 0s 158us/step - loss: 2.5321 - acc: 0.5000\n",
      "Epoch 7/30\n",
      "100/100 [==============================] - 0s 158us/step - loss: 2.2789 - acc: 0.6500\n",
      "Epoch 8/30\n",
      "100/100 [==============================] - 0s 157us/step - loss: 2.0487 - acc: 0.6500\n",
      "Epoch 9/30\n",
      "100/100 [==============================] - 0s 165us/step - loss: 1.8421 - acc: 0.6500\n",
      "Epoch 10/30\n",
      "100/100 [==============================] - 0s 165us/step - loss: 1.6624 - acc: 0.6500\n",
      "Epoch 11/30\n",
      "100/100 [==============================] - 0s 158us/step - loss: 1.5338 - acc: 0.6500\n",
      "Epoch 12/30\n",
      "100/100 [==============================] - 0s 167us/step - loss: 1.4444 - acc: 0.8200\n",
      "Epoch 13/30\n",
      "100/100 [==============================] - 0s 165us/step - loss: 1.4058 - acc: 0.6700\n",
      "Epoch 14/30\n",
      "100/100 [==============================] - 0s 160us/step - loss: 1.3865 - acc: 0.6700\n",
      "Epoch 15/30\n",
      "100/100 [==============================] - 0s 168us/step - loss: 1.3615 - acc: 0.6700\n",
      "Epoch 16/30\n",
      "100/100 [==============================] - 0s 186us/step - loss: 1.3303 - acc: 0.6700\n",
      "Epoch 17/30\n",
      "100/100 [==============================] - 0s 163us/step - loss: 1.3039 - acc: 0.6700\n",
      "Epoch 18/30\n",
      "100/100 [==============================] - 0s 177us/step - loss: 1.2796 - acc: 0.7300\n",
      "Epoch 19/30\n",
      "100/100 [==============================] - 0s 176us/step - loss: 1.2636 - acc: 0.8600\n",
      "Epoch 20/30\n",
      "100/100 [==============================] - 0s 285us/step - loss: 1.2443 - acc: 0.8600\n",
      "Epoch 21/30\n",
      "100/100 [==============================] - 0s 207us/step - loss: 1.2247 - acc: 0.9100\n",
      "Epoch 22/30\n",
      "100/100 [==============================] - 0s 187us/step - loss: 1.2089 - acc: 0.9200\n",
      "Epoch 23/30\n",
      "100/100 [==============================] - 0s 174us/step - loss: 1.1935 - acc: 0.9200\n",
      "Epoch 24/30\n",
      "100/100 [==============================] - 0s 184us/step - loss: 1.1769 - acc: 0.9100\n",
      "Epoch 25/30\n",
      "100/100 [==============================] - 0s 167us/step - loss: 1.1603 - acc: 0.9200\n",
      "Epoch 26/30\n",
      "100/100 [==============================] - 0s 147us/step - loss: 1.1434 - acc: 0.9000\n",
      "Epoch 27/30\n",
      "100/100 [==============================] - 0s 177us/step - loss: 1.1278 - acc: 0.8400\n",
      "Epoch 28/30\n",
      "100/100 [==============================] - 0s 190us/step - loss: 1.1149 - acc: 0.7400\n",
      "Epoch 29/30\n",
      "100/100 [==============================] - 0s 169us/step - loss: 1.1002 - acc: 0.7400\n",
      "Epoch 30/30\n",
      "100/100 [==============================] - 0s 167us/step - loss: 1.0894 - acc: 0.8100\n",
      "12/12 [==============================] - 0s 10ms/step\n",
      "100/100 [==============================] - 0s 118us/step\n",
      "Epoch 1/30\n",
      "100/100 [==============================] - 0s 4ms/step - loss: 2.0268 - acc: 0.0800\n",
      "Epoch 2/30\n",
      "100/100 [==============================] - 0s 251us/step - loss: 1.8338 - acc: 0.3400\n",
      "Epoch 3/30\n",
      "100/100 [==============================] - 0s 161us/step - loss: 1.7416 - acc: 0.3400\n",
      "Epoch 4/30\n",
      "100/100 [==============================] - 0s 173us/step - loss: 1.6465 - acc: 0.3400\n",
      "Epoch 5/30\n",
      "100/100 [==============================] - 0s 181us/step - loss: 1.5500 - acc: 0.5600\n",
      "Epoch 6/30\n",
      "100/100 [==============================] - 0s 162us/step - loss: 1.4651 - acc: 0.8100\n",
      "Epoch 7/30\n",
      "100/100 [==============================] - 0s 154us/step - loss: 1.4018 - acc: 0.8200\n",
      "Epoch 8/30\n",
      "100/100 [==============================] - 0s 175us/step - loss: 1.3455 - acc: 0.8200\n",
      "Epoch 9/30\n",
      "100/100 [==============================] - 0s 170us/step - loss: 1.2868 - acc: 0.7200\n",
      "Epoch 10/30\n",
      "100/100 [==============================] - 0s 157us/step - loss: 1.2323 - acc: 0.6800\n",
      "Epoch 11/30\n",
      "100/100 [==============================] - 0s 156us/step - loss: 1.1858 - acc: 0.8600\n",
      "Epoch 12/30\n",
      "100/100 [==============================] - 0s 168us/step - loss: 1.1434 - acc: 0.8400\n",
      "Epoch 13/30\n",
      "100/100 [==============================] - 0s 222us/step - loss: 1.1049 - acc: 0.7300\n",
      "Epoch 14/30\n",
      "100/100 [==============================] - 0s 189us/step - loss: 1.0702 - acc: 0.6700\n",
      "Epoch 15/30\n",
      "100/100 [==============================] - 0s 160us/step - loss: 1.0332 - acc: 0.7400\n",
      "Epoch 16/30\n",
      "100/100 [==============================] - 0s 160us/step - loss: 1.0034 - acc: 0.9800\n",
      "Epoch 17/30\n",
      "100/100 [==============================] - 0s 204us/step - loss: 0.9840 - acc: 0.9000\n",
      "Epoch 18/30\n",
      "100/100 [==============================] - 0s 172us/step - loss: 0.9522 - acc: 0.9600\n",
      "Epoch 19/30\n",
      "100/100 [==============================] - 0s 161us/step - loss: 0.9190 - acc: 0.7700\n",
      "Epoch 20/30\n",
      "100/100 [==============================] - 0s 162us/step - loss: 0.9260 - acc: 0.6700\n",
      "Epoch 21/30\n",
      "100/100 [==============================] - 0s 161us/step - loss: 0.8982 - acc: 0.6700\n",
      "Epoch 22/30\n",
      "100/100 [==============================] - 0s 166us/step - loss: 0.8631 - acc: 0.8000\n",
      "Epoch 23/30\n",
      "100/100 [==============================] - 0s 164us/step - loss: 0.8398 - acc: 0.9000\n",
      "Epoch 24/30\n",
      "100/100 [==============================] - 0s 164us/step - loss: 0.8235 - acc: 0.8800\n",
      "Epoch 25/30\n",
      "100/100 [==============================] - 0s 193us/step - loss: 0.8082 - acc: 0.8100\n",
      "Epoch 26/30\n",
      "100/100 [==============================] - 0s 174us/step - loss: 0.7953 - acc: 0.7500\n",
      "Epoch 27/30\n",
      "100/100 [==============================] - 0s 189us/step - loss: 0.7792 - acc: 0.7900\n",
      "Epoch 28/30\n",
      "100/100 [==============================] - 0s 201us/step - loss: 0.7635 - acc: 0.8900\n",
      "Epoch 29/30\n",
      "100/100 [==============================] - 0s 175us/step - loss: 0.7506 - acc: 0.9700\n",
      "Epoch 30/30\n",
      "100/100 [==============================] - 0s 149us/step - loss: 0.7360 - acc: 0.9500\n",
      "12/12 [==============================] - 0s 11ms/step\n",
      "100/100 [==============================] - 0s 116us/step\n",
      "Epoch 1/30\n",
      "100/100 [==============================] - 0s 4ms/step - loss: 2.0824 - acc: 0.3300\n",
      "Epoch 2/30\n",
      "100/100 [==============================] - 0s 163us/step - loss: 1.7547 - acc: 0.5300\n",
      "Epoch 3/30\n",
      "100/100 [==============================] - 0s 165us/step - loss: 1.6547 - acc: 0.6700\n",
      "Epoch 4/30\n",
      "100/100 [==============================] - 0s 167us/step - loss: 1.6106 - acc: 0.6700\n",
      "Epoch 5/30\n",
      "100/100 [==============================] - 0s 157us/step - loss: 1.4992 - acc: 0.6700\n",
      "Epoch 6/30\n",
      "100/100 [==============================] - 0s 155us/step - loss: 1.3900 - acc: 0.6800\n",
      "Epoch 7/30\n",
      "100/100 [==============================] - 0s 157us/step - loss: 1.3328 - acc: 0.8600\n",
      "Epoch 8/30\n",
      "100/100 [==============================] - 0s 153us/step - loss: 1.3117 - acc: 0.6600\n",
      "Epoch 9/30\n",
      "100/100 [==============================] - 0s 167us/step - loss: 1.2528 - acc: 0.6900\n",
      "Epoch 10/30\n",
      "100/100 [==============================] - 0s 160us/step - loss: 1.1845 - acc: 0.9200\n",
      "Epoch 11/30\n",
      "100/100 [==============================] - 0s 170us/step - loss: 1.1402 - acc: 0.7600\n",
      "Epoch 12/30\n",
      "100/100 [==============================] - 0s 173us/step - loss: 1.1105 - acc: 0.7000\n",
      "Epoch 13/30\n",
      "100/100 [==============================] - 0s 179us/step - loss: 1.0801 - acc: 0.6800\n",
      "Epoch 14/30\n",
      "100/100 [==============================] - 0s 171us/step - loss: 1.0408 - acc: 0.6900\n",
      "Epoch 15/30\n",
      "100/100 [==============================] - 0s 169us/step - loss: 1.0107 - acc: 0.8800\n",
      "Epoch 16/30\n",
      "100/100 [==============================] - 0s 170us/step - loss: 1.0002 - acc: 0.8600\n",
      "Epoch 17/30\n",
      "100/100 [==============================] - 0s 205us/step - loss: 0.9651 - acc: 0.9200\n",
      "Epoch 18/30\n",
      "100/100 [==============================] - 0s 203us/step - loss: 0.9342 - acc: 0.8700\n",
      "Epoch 19/30\n",
      "100/100 [==============================] - 0s 157us/step - loss: 0.9161 - acc: 0.7400\n",
      "Epoch 20/30\n",
      "100/100 [==============================] - 0s 181us/step - loss: 0.8992 - acc: 0.7000\n",
      "Epoch 21/30\n",
      "100/100 [==============================] - 0s 164us/step - loss: 0.8773 - acc: 0.7200\n",
      "Epoch 22/30\n",
      "100/100 [==============================] - 0s 159us/step - loss: 0.8559 - acc: 0.8700\n",
      "Epoch 23/30\n",
      "100/100 [==============================] - 0s 160us/step - loss: 0.8539 - acc: 0.9100\n",
      "Epoch 24/30\n",
      "100/100 [==============================] - 0s 168us/step - loss: 0.8398 - acc: 0.8500\n",
      "Epoch 25/30\n",
      "100/100 [==============================] - 0s 177us/step - loss: 0.8161 - acc: 0.9100\n",
      "Epoch 26/30\n",
      "100/100 [==============================] - 0s 231us/step - loss: 0.7953 - acc: 0.9400\n",
      "Epoch 27/30\n",
      "100/100 [==============================] - 0s 209us/step - loss: 0.7753 - acc: 0.9600\n",
      "Epoch 28/30\n",
      "100/100 [==============================] - 0s 162us/step - loss: 0.7633 - acc: 0.8400\n",
      "Epoch 29/30\n",
      "100/100 [==============================] - 0s 181us/step - loss: 0.7553 - acc: 0.7900\n",
      "Epoch 30/30\n",
      "100/100 [==============================] - 0s 151us/step - loss: 0.7442 - acc: 0.8000\n",
      "12/12 [==============================] - 0s 13ms/step\n",
      "100/100 [==============================] - 0s 124us/step\n",
      "Epoch 1/30\n",
      "100/100 [==============================] - 1s 5ms/step - loss: 2.1012 - acc: 0.3300\n",
      "Epoch 2/30\n",
      "100/100 [==============================] - 0s 150us/step - loss: 1.8413 - acc: 0.3100\n",
      "Epoch 3/30\n",
      "100/100 [==============================] - 0s 161us/step - loss: 1.7556 - acc: 0.3400\n",
      "Epoch 4/30\n",
      "100/100 [==============================] - 0s 144us/step - loss: 1.6866 - acc: 0.3500\n",
      "Epoch 5/30\n",
      "100/100 [==============================] - 0s 171us/step - loss: 1.5900 - acc: 0.6500\n",
      "Epoch 6/30\n",
      "100/100 [==============================] - 0s 167us/step - loss: 1.5049 - acc: 0.6700\n",
      "Epoch 7/30\n",
      "100/100 [==============================] - 0s 169us/step - loss: 1.4291 - acc: 0.6700\n",
      "Epoch 8/30\n",
      "100/100 [==============================] - 0s 176us/step - loss: 1.3695 - acc: 0.8100\n",
      "Epoch 9/30\n",
      "100/100 [==============================] - 0s 160us/step - loss: 1.3093 - acc: 0.8100\n",
      "Epoch 10/30\n",
      "100/100 [==============================] - 0s 168us/step - loss: 1.2538 - acc: 0.8200\n",
      "Epoch 11/30\n",
      "100/100 [==============================] - 0s 162us/step - loss: 1.2070 - acc: 0.9700\n",
      "Epoch 12/30\n",
      "100/100 [==============================] - 0s 177us/step - loss: 1.1610 - acc: 0.9400\n",
      "Epoch 13/30\n",
      "100/100 [==============================] - 0s 179us/step - loss: 1.1189 - acc: 0.9100\n",
      "Epoch 14/30\n",
      "100/100 [==============================] - 0s 187us/step - loss: 1.0785 - acc: 0.9000\n",
      "Epoch 15/30\n",
      "100/100 [==============================] - 0s 201us/step - loss: 1.0490 - acc: 0.6700\n",
      "Epoch 16/30\n",
      "100/100 [==============================] - 0s 171us/step - loss: 1.0352 - acc: 0.6700\n",
      "Epoch 17/30\n",
      "100/100 [==============================] - 0s 160us/step - loss: 1.0105 - acc: 0.6700\n",
      "Epoch 18/30\n",
      "100/100 [==============================] - 0s 184us/step - loss: 0.9742 - acc: 0.6700\n",
      "Epoch 19/30\n",
      "100/100 [==============================] - 0s 160us/step - loss: 0.9456 - acc: 0.6700\n",
      "Epoch 20/30\n",
      "100/100 [==============================] - 0s 195us/step - loss: 0.9201 - acc: 0.6800\n",
      "Epoch 21/30\n",
      "100/100 [==============================] - 0s 170us/step - loss: 0.8925 - acc: 0.7500\n",
      "Epoch 22/30\n",
      "100/100 [==============================] - 0s 174us/step - loss: 0.8721 - acc: 0.9200\n",
      "Epoch 23/30\n",
      "100/100 [==============================] - 0s 165us/step - loss: 0.8592 - acc: 0.9700\n",
      "Epoch 24/30\n",
      "100/100 [==============================] - 0s 188us/step - loss: 0.8443 - acc: 0.9400\n",
      "Epoch 25/30\n",
      "100/100 [==============================] - 0s 215us/step - loss: 0.8273 - acc: 0.9300\n",
      "Epoch 26/30\n",
      "100/100 [==============================] - 0s 174us/step - loss: 0.8093 - acc: 0.9000\n",
      "Epoch 27/30\n",
      "100/100 [==============================] - 0s 168us/step - loss: 0.7960 - acc: 0.7300\n",
      "Epoch 28/30\n",
      "100/100 [==============================] - 0s 175us/step - loss: 0.7824 - acc: 0.7200\n",
      "Epoch 29/30\n",
      "100/100 [==============================] - 0s 163us/step - loss: 0.7677 - acc: 0.7700\n",
      "Epoch 30/30\n",
      "100/100 [==============================] - 0s 172us/step - loss: 0.7524 - acc: 0.9300\n",
      "12/12 [==============================] - 0s 15ms/step\n",
      "100/100 [==============================] - 0s 130us/step\n",
      "Epoch 1/30\n",
      "100/100 [==============================] - 1s 5ms/step - loss: 2.7828 - acc: 0.3300\n",
      "Epoch 2/30\n",
      "100/100 [==============================] - 0s 146us/step - loss: 2.5133 - acc: 0.3300\n",
      "Epoch 3/30\n",
      "100/100 [==============================] - 0s 151us/step - loss: 2.2609 - acc: 0.3300\n",
      "Epoch 4/30\n",
      "100/100 [==============================] - 0s 155us/step - loss: 2.0172 - acc: 0.3300\n",
      "Epoch 5/30\n",
      "100/100 [==============================] - 0s 161us/step - loss: 1.7898 - acc: 0.3300\n",
      "Epoch 6/30\n",
      "100/100 [==============================] - 0s 155us/step - loss: 1.5973 - acc: 0.3300\n",
      "Epoch 7/30\n",
      "100/100 [==============================] - 0s 165us/step - loss: 1.4367 - acc: 0.3300\n",
      "Epoch 8/30\n",
      "100/100 [==============================] - 0s 154us/step - loss: 1.3104 - acc: 0.3300\n",
      "Epoch 9/30\n",
      "100/100 [==============================] - 0s 159us/step - loss: 1.2248 - acc: 0.3400\n",
      "Epoch 10/30\n",
      "100/100 [==============================] - 0s 176us/step - loss: 1.1593 - acc: 0.5200\n",
      "Epoch 11/30\n",
      "100/100 [==============================] - 0s 166us/step - loss: 1.1175 - acc: 0.5800\n",
      "Epoch 12/30\n",
      "100/100 [==============================] - 0s 158us/step - loss: 1.0985 - acc: 0.3800\n",
      "Epoch 13/30\n",
      "100/100 [==============================] - 0s 151us/step - loss: 1.0705 - acc: 0.3400\n",
      "Epoch 14/30\n",
      "100/100 [==============================] - 0s 156us/step - loss: 1.0487 - acc: 0.3400\n",
      "Epoch 15/30\n",
      "100/100 [==============================] - 0s 155us/step - loss: 1.0339 - acc: 0.3400\n",
      "Epoch 16/30\n",
      "100/100 [==============================] - 0s 163us/step - loss: 1.0179 - acc: 0.3500\n",
      "Epoch 17/30\n",
      "100/100 [==============================] - 0s 147us/step - loss: 0.9978 - acc: 0.3500\n",
      "Epoch 18/30\n",
      "100/100 [==============================] - 0s 174us/step - loss: 0.9812 - acc: 0.3900\n",
      "Epoch 19/30\n",
      "100/100 [==============================] - 0s 160us/step - loss: 0.9630 - acc: 0.5100\n",
      "Epoch 20/30\n",
      "100/100 [==============================] - 0s 161us/step - loss: 0.9471 - acc: 0.5500\n",
      "Epoch 21/30\n",
      "100/100 [==============================] - 0s 160us/step - loss: 0.9283 - acc: 0.5600\n",
      "Epoch 22/30\n",
      "100/100 [==============================] - 0s 164us/step - loss: 0.9120 - acc: 0.5900\n",
      "Epoch 23/30\n",
      "100/100 [==============================] - 0s 195us/step - loss: 0.8960 - acc: 0.6000\n",
      "Epoch 24/30\n",
      "100/100 [==============================] - 0s 155us/step - loss: 0.8811 - acc: 0.6100\n",
      "Epoch 25/30\n",
      "100/100 [==============================] - 0s 160us/step - loss: 0.8676 - acc: 0.6200\n",
      "Epoch 26/30\n",
      "100/100 [==============================] - 0s 165us/step - loss: 0.8538 - acc: 0.6400\n",
      "Epoch 27/30\n",
      "100/100 [==============================] - 0s 273us/step - loss: 0.8400 - acc: 0.6800\n",
      "Epoch 28/30\n",
      "100/100 [==============================] - 0s 193us/step - loss: 0.8263 - acc: 0.7100\n",
      "Epoch 29/30\n",
      "100/100 [==============================] - 0s 175us/step - loss: 0.8123 - acc: 0.7600\n",
      "Epoch 30/30\n",
      "100/100 [==============================] - 0s 148us/step - loss: 0.8000 - acc: 0.8300\n",
      "12/12 [==============================] - 0s 16ms/step\n",
      "100/100 [==============================] - 0s 126us/step\n",
      "Epoch 1/30\n",
      "100/100 [==============================] - 1s 6ms/step - loss: 1.9932 - acc: 0.3300\n",
      "Epoch 2/30\n",
      "100/100 [==============================] - 0s 168us/step - loss: 1.8113 - acc: 0.3300\n",
      "Epoch 3/30\n",
      "100/100 [==============================] - 0s 160us/step - loss: 1.6439 - acc: 0.3300\n",
      "Epoch 4/30\n",
      "100/100 [==============================] - 0s 163us/step - loss: 1.4960 - acc: 0.3300\n",
      "Epoch 5/30\n",
      "100/100 [==============================] - 0s 158us/step - loss: 1.3754 - acc: 0.3300\n",
      "Epoch 6/30\n",
      "100/100 [==============================] - 0s 164us/step - loss: 1.2756 - acc: 0.3300\n",
      "Epoch 7/30\n",
      "100/100 [==============================] - 0s 162us/step - loss: 1.1984 - acc: 0.3300\n",
      "Epoch 8/30\n",
      "100/100 [==============================] - 0s 175us/step - loss: 1.1364 - acc: 0.4200\n",
      "Epoch 9/30\n",
      "100/100 [==============================] - 0s 169us/step - loss: 1.0900 - acc: 0.4300\n",
      "Epoch 10/30\n",
      "100/100 [==============================] - 0s 164us/step - loss: 1.0483 - acc: 0.3400\n",
      "Epoch 11/30\n",
      "100/100 [==============================] - 0s 185us/step - loss: 1.0100 - acc: 0.3400\n",
      "Epoch 12/30\n",
      "100/100 [==============================] - 0s 159us/step - loss: 0.9768 - acc: 0.3400\n",
      "Epoch 13/30\n",
      "100/100 [==============================] - 0s 182us/step - loss: 0.9482 - acc: 0.3400\n",
      "Epoch 14/30\n",
      "100/100 [==============================] - 0s 168us/step - loss: 0.9209 - acc: 0.3500\n",
      "Epoch 15/30\n",
      "100/100 [==============================] - 0s 174us/step - loss: 0.8959 - acc: 0.3600\n",
      "Epoch 16/30\n",
      "100/100 [==============================] - 0s 185us/step - loss: 0.8705 - acc: 0.5300\n",
      "Epoch 17/30\n",
      "100/100 [==============================] - 0s 172us/step - loss: 0.8448 - acc: 0.6600\n",
      "Epoch 18/30\n",
      "100/100 [==============================] - 0s 166us/step - loss: 0.8226 - acc: 0.7500\n",
      "Epoch 19/30\n",
      "100/100 [==============================] - 0s 164us/step - loss: 0.8023 - acc: 0.8100\n",
      "Epoch 20/30\n",
      "100/100 [==============================] - 0s 229us/step - loss: 0.7835 - acc: 0.8400\n",
      "Epoch 21/30\n",
      "100/100 [==============================] - 0s 181us/step - loss: 0.7684 - acc: 0.8500\n",
      "Epoch 22/30\n",
      "100/100 [==============================] - 0s 255us/step - loss: 0.7533 - acc: 0.8400\n",
      "Epoch 23/30\n",
      "100/100 [==============================] - 0s 183us/step - loss: 0.7400 - acc: 0.8300\n",
      "Epoch 24/30\n",
      "100/100 [==============================] - 0s 205us/step - loss: 0.7265 - acc: 0.8300\n",
      "Epoch 25/30\n",
      "100/100 [==============================] - 0s 184us/step - loss: 0.7153 - acc: 0.8000\n",
      "Epoch 26/30\n",
      "100/100 [==============================] - 0s 191us/step - loss: 0.7056 - acc: 0.7600\n",
      "Epoch 27/30\n",
      "100/100 [==============================] - 0s 162us/step - loss: 0.6946 - acc: 0.7700\n",
      "Epoch 28/30\n",
      "100/100 [==============================] - 0s 161us/step - loss: 0.6832 - acc: 0.8000\n",
      "Epoch 29/30\n",
      "100/100 [==============================] - 0s 158us/step - loss: 0.6723 - acc: 0.8100\n",
      "Epoch 30/30\n",
      "100/100 [==============================] - 0s 157us/step - loss: 0.6623 - acc: 0.8200\n",
      "12/12 [==============================] - 0s 19ms/step\n",
      "100/100 [==============================] - 0s 118us/step\n",
      "Epoch 1/30\n",
      "100/100 [==============================] - 1s 6ms/step - loss: 2.2794 - acc: 0.3300\n",
      "Epoch 2/30\n",
      "100/100 [==============================] - 0s 159us/step - loss: 2.1180 - acc: 0.3300\n",
      "Epoch 3/30\n",
      "100/100 [==============================] - 0s 247us/step - loss: 1.9752 - acc: 0.3300\n",
      "Epoch 4/30\n",
      "100/100 [==============================] - 0s 185us/step - loss: 1.8453 - acc: 0.3300\n",
      "Epoch 5/30\n",
      "100/100 [==============================] - 0s 167us/step - loss: 1.7265 - acc: 0.3300\n",
      "Epoch 6/30\n",
      "100/100 [==============================] - 0s 176us/step - loss: 1.6176 - acc: 0.3300\n",
      "Epoch 7/30\n",
      "100/100 [==============================] - 0s 169us/step - loss: 1.5114 - acc: 0.3300\n",
      "Epoch 8/30\n",
      "100/100 [==============================] - 0s 181us/step - loss: 1.4164 - acc: 0.3300\n",
      "Epoch 9/30\n",
      "100/100 [==============================] - 0s 181us/step - loss: 1.3277 - acc: 0.3300\n",
      "Epoch 10/30\n",
      "100/100 [==============================] - 0s 168us/step - loss: 1.2388 - acc: 0.3300\n",
      "Epoch 11/30\n",
      "100/100 [==============================] - 0s 221us/step - loss: 1.1652 - acc: 0.3300\n",
      "Epoch 12/30\n",
      "100/100 [==============================] - 0s 224us/step - loss: 1.0956 - acc: 0.3700\n",
      "Epoch 13/30\n",
      "100/100 [==============================] - 0s 171us/step - loss: 1.0358 - acc: 0.5800\n",
      "Epoch 14/30\n",
      "100/100 [==============================] - 0s 203us/step - loss: 0.9823 - acc: 0.6400\n",
      "Epoch 15/30\n",
      "100/100 [==============================] - 0s 195us/step - loss: 0.9394 - acc: 0.6600\n",
      "Epoch 16/30\n",
      "100/100 [==============================] - 0s 208us/step - loss: 0.9013 - acc: 0.6600\n",
      "Epoch 17/30\n",
      "100/100 [==============================] - 0s 191us/step - loss: 0.8665 - acc: 0.6600\n",
      "Epoch 18/30\n",
      "100/100 [==============================] - 0s 194us/step - loss: 0.8426 - acc: 0.6600\n",
      "Epoch 19/30\n",
      "100/100 [==============================] - 0s 208us/step - loss: 0.8205 - acc: 0.6700\n",
      "Epoch 20/30\n",
      "100/100 [==============================] - 0s 188us/step - loss: 0.8045 - acc: 0.7000\n",
      "Epoch 21/30\n",
      "100/100 [==============================] - 0s 182us/step - loss: 0.7874 - acc: 0.7900\n",
      "Epoch 22/30\n",
      "100/100 [==============================] - 0s 191us/step - loss: 0.7746 - acc: 0.8100\n",
      "Epoch 23/30\n",
      "100/100 [==============================] - 0s 201us/step - loss: 0.7621 - acc: 0.7400\n",
      "Epoch 24/30\n",
      "100/100 [==============================] - 0s 197us/step - loss: 0.7502 - acc: 0.7100\n",
      "Epoch 25/30\n",
      "100/100 [==============================] - 0s 214us/step - loss: 0.7410 - acc: 0.6900\n",
      "Epoch 26/30\n",
      "100/100 [==============================] - 0s 210us/step - loss: 0.7297 - acc: 0.6900\n",
      "Epoch 27/30\n",
      "100/100 [==============================] - 0s 181us/step - loss: 0.7196 - acc: 0.6800\n",
      "Epoch 28/30\n",
      "100/100 [==============================] - 0s 187us/step - loss: 0.7097 - acc: 0.6800\n",
      "Epoch 29/30\n",
      "100/100 [==============================] - 0s 189us/step - loss: 0.6999 - acc: 0.6900\n",
      "Epoch 30/30\n",
      "100/100 [==============================] - 0s 180us/step - loss: 0.6908 - acc: 0.7000\n",
      "12/12 [==============================] - 0s 20ms/step\n",
      "100/100 [==============================] - 0s 116us/step\n",
      "Epoch 1/30\n",
      "100/100 [==============================] - 1s 7ms/step - loss: 1.1799 - acc: 0.3400\n",
      "Epoch 2/30\n",
      "100/100 [==============================] - 0s 202us/step - loss: 1.0717 - acc: 0.3400\n",
      "Epoch 3/30\n",
      "100/100 [==============================] - 0s 185us/step - loss: 1.0110 - acc: 0.3400\n",
      "Epoch 4/30\n",
      "100/100 [==============================] - 0s 188us/step - loss: 0.9541 - acc: 0.3600\n",
      "Epoch 5/30\n",
      "100/100 [==============================] - 0s 185us/step - loss: 0.8985 - acc: 0.3700\n",
      "Epoch 6/30\n",
      "100/100 [==============================] - 0s 186us/step - loss: 0.8583 - acc: 0.5800\n",
      "Epoch 7/30\n",
      "100/100 [==============================] - 0s 180us/step - loss: 0.8289 - acc: 0.6700\n",
      "Epoch 8/30\n",
      "100/100 [==============================] - 0s 190us/step - loss: 0.8059 - acc: 0.6700\n",
      "Epoch 9/30\n",
      "100/100 [==============================] - 0s 297us/step - loss: 0.7785 - acc: 0.6700\n",
      "Epoch 10/30\n",
      "100/100 [==============================] - 0s 246us/step - loss: 0.7526 - acc: 0.6700\n",
      "Epoch 11/30\n",
      "100/100 [==============================] - 0s 240us/step - loss: 0.7219 - acc: 0.6700\n",
      "Epoch 12/30\n",
      "100/100 [==============================] - 0s 215us/step - loss: 0.6930 - acc: 0.6800\n",
      "Epoch 13/30\n",
      "100/100 [==============================] - 0s 201us/step - loss: 0.6753 - acc: 0.7600\n",
      "Epoch 14/30\n",
      "100/100 [==============================] - 0s 158us/step - loss: 0.6599 - acc: 0.7700\n",
      "Epoch 15/30\n",
      "100/100 [==============================] - 0s 178us/step - loss: 0.6455 - acc: 0.7200\n",
      "Epoch 16/30\n",
      "100/100 [==============================] - 0s 183us/step - loss: 0.6324 - acc: 0.7200\n",
      "Epoch 17/30\n",
      "100/100 [==============================] - 0s 187us/step - loss: 0.6179 - acc: 0.7400\n",
      "Epoch 18/30\n",
      "100/100 [==============================] - 0s 182us/step - loss: 0.6063 - acc: 0.8000\n",
      "Epoch 19/30\n",
      "100/100 [==============================] - 0s 194us/step - loss: 0.5942 - acc: 0.7400\n",
      "Epoch 20/30\n",
      "100/100 [==============================] - 0s 188us/step - loss: 0.5833 - acc: 0.7200\n",
      "Epoch 21/30\n",
      "100/100 [==============================] - 0s 201us/step - loss: 0.5728 - acc: 0.7500\n",
      "Epoch 22/30\n",
      "100/100 [==============================] - 0s 181us/step - loss: 0.5629 - acc: 0.8600\n",
      "Epoch 23/30\n",
      "100/100 [==============================] - 0s 221us/step - loss: 0.5574 - acc: 0.9200\n",
      "Epoch 24/30\n",
      "100/100 [==============================] - 0s 184us/step - loss: 0.5483 - acc: 0.9800\n",
      "Epoch 25/30\n",
      "100/100 [==============================] - 0s 182us/step - loss: 0.5394 - acc: 0.9300\n",
      "Epoch 26/30\n",
      "100/100 [==============================] - 0s 204us/step - loss: 0.5285 - acc: 0.9000\n",
      "Epoch 27/30\n",
      "100/100 [==============================] - 0s 182us/step - loss: 0.5224 - acc: 0.8200\n",
      "Epoch 28/30\n",
      "100/100 [==============================] - 0s 186us/step - loss: 0.5144 - acc: 0.8100\n",
      "Epoch 29/30\n",
      "100/100 [==============================] - 0s 231us/step - loss: 0.5074 - acc: 0.8400\n",
      "Epoch 30/30\n",
      "100/100 [==============================] - 0s 187us/step - loss: 0.5002 - acc: 0.8600\n",
      "12/12 [==============================] - 0s 23ms/step\n",
      "100/100 [==============================] - 0s 134us/step\n",
      "Epoch 1/30\n",
      "100/100 [==============================] - 1s 7ms/step - loss: 1.3337 - acc: 0.3300\n",
      "Epoch 2/30\n",
      "100/100 [==============================] - 0s 188us/step - loss: 1.2074 - acc: 0.3400\n",
      "Epoch 3/30\n",
      "100/100 [==============================] - 0s 194us/step - loss: 1.1313 - acc: 0.4900\n",
      "Epoch 4/30\n",
      "100/100 [==============================] - 0s 183us/step - loss: 1.0806 - acc: 0.2700\n",
      "Epoch 5/30\n",
      "100/100 [==============================] - 0s 177us/step - loss: 1.0364 - acc: 0.1200\n",
      "Epoch 6/30\n",
      "100/100 [==============================] - 0s 170us/step - loss: 1.0028 - acc: 0.2700\n",
      "Epoch 7/30\n",
      "100/100 [==============================] - 0s 183us/step - loss: 0.9703 - acc: 0.4300\n",
      "Epoch 8/30\n",
      "100/100 [==============================] - 0s 195us/step - loss: 0.9418 - acc: 0.6700\n",
      "Epoch 9/30\n",
      "100/100 [==============================] - 0s 192us/step - loss: 0.9198 - acc: 0.6700\n",
      "Epoch 10/30\n",
      "100/100 [==============================] - 0s 189us/step - loss: 0.8917 - acc: 0.6500\n",
      "Epoch 11/30\n",
      "100/100 [==============================] - 0s 203us/step - loss: 0.8681 - acc: 0.5800\n",
      "Epoch 12/30\n",
      "100/100 [==============================] - 0s 325us/step - loss: 0.8443 - acc: 0.6500\n",
      "Epoch 13/30\n",
      "100/100 [==============================] - 0s 242us/step - loss: 0.8229 - acc: 0.6600\n",
      "Epoch 14/30\n",
      "100/100 [==============================] - 0s 218us/step - loss: 0.8029 - acc: 0.6700\n",
      "Epoch 15/30\n",
      "100/100 [==============================] - 0s 181us/step - loss: 0.7877 - acc: 0.7000\n",
      "Epoch 16/30\n",
      "100/100 [==============================] - 0s 195us/step - loss: 0.7700 - acc: 0.7400\n",
      "Epoch 17/30\n",
      "100/100 [==============================] - 0s 196us/step - loss: 0.7513 - acc: 0.6900\n",
      "Epoch 18/30\n",
      "100/100 [==============================] - 0s 192us/step - loss: 0.7300 - acc: 0.6700\n",
      "Epoch 19/30\n",
      "100/100 [==============================] - 0s 193us/step - loss: 0.7139 - acc: 0.6700\n",
      "Epoch 20/30\n",
      "100/100 [==============================] - 0s 209us/step - loss: 0.6954 - acc: 0.6700\n",
      "Epoch 21/30\n",
      "100/100 [==============================] - 0s 177us/step - loss: 0.6815 - acc: 0.6700\n",
      "Epoch 22/30\n",
      "100/100 [==============================] - 0s 188us/step - loss: 0.6678 - acc: 0.6800\n",
      "Epoch 23/30\n",
      "100/100 [==============================] - 0s 209us/step - loss: 0.6523 - acc: 0.7300\n",
      "Epoch 24/30\n",
      "100/100 [==============================] - 0s 205us/step - loss: 0.6394 - acc: 0.6900\n",
      "Epoch 25/30\n",
      "100/100 [==============================] - 0s 193us/step - loss: 0.6261 - acc: 0.6900\n",
      "Epoch 26/30\n",
      "100/100 [==============================] - 0s 188us/step - loss: 0.6156 - acc: 0.6800\n",
      "Epoch 27/30\n",
      "100/100 [==============================] - 0s 189us/step - loss: 0.6076 - acc: 0.6700\n",
      "Epoch 28/30\n",
      "100/100 [==============================] - 0s 189us/step - loss: 0.5985 - acc: 0.6700\n",
      "Epoch 29/30\n",
      "100/100 [==============================] - 0s 182us/step - loss: 0.5894 - acc: 0.6700\n",
      "Epoch 30/30\n",
      "100/100 [==============================] - 0s 220us/step - loss: 0.5792 - acc: 0.6700\n",
      "12/12 [==============================] - 0s 24ms/step\n",
      "100/100 [==============================] - 0s 143us/step\n",
      "Epoch 1/30\n",
      "100/100 [==============================] - 1s 8ms/step - loss: 1.5697 - acc: 0.3300\n",
      "Epoch 2/30\n",
      "100/100 [==============================] - 0s 167us/step - loss: 1.4377 - acc: 0.3300\n",
      "Epoch 3/30\n",
      "100/100 [==============================] - 0s 161us/step - loss: 1.3323 - acc: 0.1000\n",
      "Epoch 4/30\n",
      "100/100 [==============================] - 0s 205us/step - loss: 1.2461 - acc: 0.2100\n",
      "Epoch 5/30\n",
      "100/100 [==============================] - 0s 165us/step - loss: 1.1660 - acc: 0.2800\n",
      "Epoch 6/30\n",
      "100/100 [==============================] - 0s 167us/step - loss: 1.1125 - acc: 0.2600\n",
      "Epoch 7/30\n",
      "100/100 [==============================] - 0s 170us/step - loss: 1.0705 - acc: 0.2500\n",
      "Epoch 8/30\n",
      "100/100 [==============================] - 0s 181us/step - loss: 1.0335 - acc: 0.2100\n",
      "Epoch 9/30\n",
      "100/100 [==============================] - 0s 166us/step - loss: 0.9995 - acc: 0.4200\n",
      "Epoch 10/30\n",
      "100/100 [==============================] - 0s 161us/step - loss: 0.9705 - acc: 0.6200\n",
      "Epoch 11/30\n",
      "100/100 [==============================] - 0s 187us/step - loss: 0.9441 - acc: 0.6500\n",
      "Epoch 12/30\n",
      "100/100 [==============================] - 0s 160us/step - loss: 0.9053 - acc: 0.7200\n",
      "Epoch 13/30\n",
      "100/100 [==============================] - 0s 178us/step - loss: 0.8729 - acc: 0.7400\n",
      "Epoch 14/30\n",
      "100/100 [==============================] - 0s 165us/step - loss: 0.8403 - acc: 0.6700\n",
      "Epoch 15/30\n",
      "100/100 [==============================] - 0s 306us/step - loss: 0.8157 - acc: 0.6700\n",
      "Epoch 16/30\n",
      "100/100 [==============================] - 0s 187us/step - loss: 0.7923 - acc: 0.6800\n",
      "Epoch 17/30\n",
      "100/100 [==============================] - 0s 178us/step - loss: 0.7696 - acc: 0.6800\n",
      "Epoch 18/30\n",
      "100/100 [==============================] - 0s 186us/step - loss: 0.7472 - acc: 0.6800\n",
      "Epoch 19/30\n",
      "100/100 [==============================] - 0s 176us/step - loss: 0.7269 - acc: 0.6800\n",
      "Epoch 20/30\n",
      "100/100 [==============================] - 0s 183us/step - loss: 0.7078 - acc: 0.7200\n",
      "Epoch 21/30\n",
      "100/100 [==============================] - 0s 183us/step - loss: 0.6929 - acc: 0.7900\n",
      "Epoch 22/30\n",
      "100/100 [==============================] - 0s 173us/step - loss: 0.6748 - acc: 0.8100\n",
      "Epoch 23/30\n",
      "100/100 [==============================] - 0s 178us/step - loss: 0.6594 - acc: 0.7900\n",
      "Epoch 24/30\n",
      "100/100 [==============================] - 0s 151us/step - loss: 0.6473 - acc: 0.7700\n",
      "Epoch 25/30\n",
      "100/100 [==============================] - 0s 176us/step - loss: 0.6310 - acc: 0.7500\n",
      "Epoch 26/30\n",
      "100/100 [==============================] - 0s 158us/step - loss: 0.6180 - acc: 0.8000\n",
      "Epoch 27/30\n",
      "100/100 [==============================] - 0s 178us/step - loss: 0.6051 - acc: 0.8300\n",
      "Epoch 28/30\n",
      "100/100 [==============================] - 0s 175us/step - loss: 0.5922 - acc: 0.8300\n",
      "Epoch 29/30\n",
      "100/100 [==============================] - 0s 172us/step - loss: 0.5822 - acc: 0.7900\n",
      "Epoch 30/30\n",
      "100/100 [==============================] - 0s 186us/step - loss: 0.5727 - acc: 0.7500\n",
      "12/12 [==============================] - 0s 24ms/step\n",
      "100/100 [==============================] - 0s 140us/step\n",
      "Epoch 1/30\n",
      "100/100 [==============================] - 1s 8ms/step - loss: 1.2027 - acc: 0.3300\n",
      "Epoch 2/30\n",
      "100/100 [==============================] - 0s 176us/step - loss: 1.0166 - acc: 0.3500\n",
      "Epoch 3/30\n",
      "100/100 [==============================] - 0s 161us/step - loss: 0.9709 - acc: 0.6600\n",
      "Epoch 4/30\n",
      "100/100 [==============================] - 0s 159us/step - loss: 0.9153 - acc: 0.6700\n",
      "Epoch 5/30\n",
      "100/100 [==============================] - 0s 162us/step - loss: 0.8622 - acc: 0.6700\n",
      "Epoch 6/30\n",
      "100/100 [==============================] - 0s 157us/step - loss: 0.8100 - acc: 0.6700\n",
      "Epoch 7/30\n",
      "100/100 [==============================] - 0s 270us/step - loss: 0.7684 - acc: 0.6700\n",
      "Epoch 8/30\n",
      "100/100 [==============================] - 0s 200us/step - loss: 0.7299 - acc: 0.6700\n",
      "Epoch 9/30\n",
      "100/100 [==============================] - 0s 169us/step - loss: 0.6948 - acc: 0.7700\n",
      "Epoch 10/30\n",
      "100/100 [==============================] - 0s 170us/step - loss: 0.6783 - acc: 0.9200\n",
      "Epoch 11/30\n",
      "100/100 [==============================] - 0s 169us/step - loss: 0.6505 - acc: 0.9000\n",
      "Epoch 12/30\n",
      "100/100 [==============================] - 0s 166us/step - loss: 0.6183 - acc: 0.7400\n",
      "Epoch 13/30\n",
      "100/100 [==============================] - 0s 159us/step - loss: 0.6167 - acc: 0.6700\n",
      "Epoch 14/30\n",
      "100/100 [==============================] - 0s 184us/step - loss: 0.5949 - acc: 0.6700\n",
      "Epoch 15/30\n",
      "100/100 [==============================] - 0s 170us/step - loss: 0.5603 - acc: 0.7300\n",
      "Epoch 16/30\n",
      "100/100 [==============================] - 0s 174us/step - loss: 0.5426 - acc: 0.9100\n",
      "Epoch 17/30\n",
      "100/100 [==============================] - 0s 167us/step - loss: 0.5334 - acc: 0.9800\n",
      "Epoch 18/30\n",
      "100/100 [==============================] - 0s 163us/step - loss: 0.5227 - acc: 0.9600\n",
      "Epoch 19/30\n",
      "100/100 [==============================] - 0s 187us/step - loss: 0.5035 - acc: 0.9600\n",
      "Epoch 20/30\n",
      "100/100 [==============================] - 0s 167us/step - loss: 0.4874 - acc: 0.8500\n",
      "Epoch 21/30\n",
      "100/100 [==============================] - 0s 183us/step - loss: 0.4805 - acc: 0.7800\n",
      "Epoch 22/30\n",
      "100/100 [==============================] - 0s 202us/step - loss: 0.4687 - acc: 0.8000\n",
      "Epoch 23/30\n",
      "100/100 [==============================] - 0s 163us/step - loss: 0.4556 - acc: 0.8800\n",
      "Epoch 24/30\n",
      "100/100 [==============================] - 0s 161us/step - loss: 0.4544 - acc: 0.9400\n",
      "Epoch 25/30\n",
      "100/100 [==============================] - 0s 180us/step - loss: 0.4496 - acc: 0.9200\n",
      "Epoch 26/30\n",
      "100/100 [==============================] - 0s 173us/step - loss: 0.4358 - acc: 0.9500\n",
      "Epoch 27/30\n",
      "100/100 [==============================] - 0s 178us/step - loss: 0.4184 - acc: 0.9400\n",
      "Epoch 28/30\n",
      "100/100 [==============================] - 0s 164us/step - loss: 0.4176 - acc: 0.9700\n",
      "Epoch 29/30\n",
      "100/100 [==============================] - 0s 177us/step - loss: 0.4300 - acc: 0.8900\n",
      "Epoch 30/30\n",
      "100/100 [==============================] - 0s 189us/step - loss: 0.4100 - acc: 0.9700\n",
      "12/12 [==============================] - 0s 27ms/step\n",
      "100/100 [==============================] - 0s 144us/step\n",
      "Epoch 1/30\n",
      "100/100 [==============================] - 1s 8ms/step - loss: 1.1523 - acc: 0.3100\n",
      "Epoch 2/30\n",
      "100/100 [==============================] - 0s 179us/step - loss: 1.0578 - acc: 0.3400\n",
      "Epoch 3/30\n",
      "100/100 [==============================] - 0s 146us/step - loss: 0.9806 - acc: 0.3400\n",
      "Epoch 4/30\n",
      "100/100 [==============================] - 0s 166us/step - loss: 0.9224 - acc: 0.6100\n",
      "Epoch 5/30\n",
      "100/100 [==============================] - 0s 155us/step - loss: 0.8666 - acc: 0.6700\n",
      "Epoch 6/30\n",
      "100/100 [==============================] - 0s 157us/step - loss: 0.8169 - acc: 0.6700\n",
      "Epoch 7/30\n",
      "100/100 [==============================] - 0s 208us/step - loss: 0.7753 - acc: 0.6800\n",
      "Epoch 8/30\n",
      "100/100 [==============================] - 0s 257us/step - loss: 0.7399 - acc: 0.8600\n",
      "Epoch 9/30\n",
      "100/100 [==============================] - 0s 149us/step - loss: 0.7025 - acc: 0.9000\n",
      "Epoch 10/30\n",
      "100/100 [==============================] - 0s 166us/step - loss: 0.6719 - acc: 0.6800\n",
      "Epoch 11/30\n",
      "100/100 [==============================] - 0s 163us/step - loss: 0.6553 - acc: 0.6700\n",
      "Epoch 12/30\n",
      "100/100 [==============================] - 0s 186us/step - loss: 0.6255 - acc: 0.6700\n",
      "Epoch 13/30\n",
      "100/100 [==============================] - 0s 173us/step - loss: 0.6044 - acc: 0.9200\n",
      "Epoch 14/30\n",
      "100/100 [==============================] - 0s 154us/step - loss: 0.5886 - acc: 0.9500\n",
      "Epoch 15/30\n",
      "100/100 [==============================] - 0s 167us/step - loss: 0.5693 - acc: 0.9700\n",
      "Epoch 16/30\n",
      "100/100 [==============================] - 0s 162us/step - loss: 0.5522 - acc: 0.8200\n",
      "Epoch 17/30\n",
      "100/100 [==============================] - 0s 176us/step - loss: 0.5464 - acc: 0.6700\n",
      "Epoch 18/30\n",
      "100/100 [==============================] - 0s 158us/step - loss: 0.5295 - acc: 0.6800\n",
      "Epoch 19/30\n",
      "100/100 [==============================] - 0s 170us/step - loss: 0.5073 - acc: 0.8400\n",
      "Epoch 20/30\n",
      "100/100 [==============================] - 0s 195us/step - loss: 0.4920 - acc: 0.9300\n",
      "Epoch 21/30\n",
      "100/100 [==============================] - 0s 200us/step - loss: 0.4795 - acc: 0.9200\n",
      "Epoch 22/30\n",
      "100/100 [==============================] - 0s 178us/step - loss: 0.4685 - acc: 0.9500\n",
      "Epoch 23/30\n",
      "100/100 [==============================] - 0s 178us/step - loss: 0.4596 - acc: 0.9200\n",
      "Epoch 24/30\n",
      "100/100 [==============================] - 0s 166us/step - loss: 0.4478 - acc: 0.9300\n",
      "Epoch 25/30\n",
      "100/100 [==============================] - 0s 171us/step - loss: 0.4391 - acc: 0.8900\n",
      "Epoch 26/30\n",
      "100/100 [==============================] - 0s 161us/step - loss: 0.4325 - acc: 0.8400\n",
      "Epoch 27/30\n",
      "100/100 [==============================] - 0s 158us/step - loss: 0.4239 - acc: 0.8600\n",
      "Epoch 28/30\n",
      "100/100 [==============================] - 0s 159us/step - loss: 0.4141 - acc: 0.9100\n",
      "Epoch 29/30\n",
      "100/100 [==============================] - 0s 188us/step - loss: 0.4032 - acc: 0.9500\n",
      "Epoch 30/30\n",
      "100/100 [==============================] - 0s 169us/step - loss: 0.4213 - acc: 0.8900\n",
      "12/12 [==============================] - 0s 28ms/step\n",
      "100/100 [==============================] - 0s 133us/step\n",
      "Epoch 1/30\n",
      "100/100 [==============================] - 1s 9ms/step - loss: 1.1624 - acc: 0.3500\n",
      "Epoch 2/30\n",
      "100/100 [==============================] - 0s 169us/step - loss: 1.0670 - acc: 0.3400\n",
      "Epoch 3/30\n",
      "100/100 [==============================] - 0s 147us/step - loss: 1.0005 - acc: 0.5000\n",
      "Epoch 4/30\n",
      "100/100 [==============================] - 0s 152us/step - loss: 0.9266 - acc: 0.6700\n",
      "Epoch 5/30\n",
      "100/100 [==============================] - 0s 162us/step - loss: 0.8655 - acc: 0.6800\n",
      "Epoch 6/30\n",
      "100/100 [==============================] - 0s 225us/step - loss: 0.8233 - acc: 0.9500\n",
      "Epoch 7/30\n",
      "100/100 [==============================] - 0s 202us/step - loss: 0.7820 - acc: 0.9400\n",
      "Epoch 8/30\n",
      "100/100 [==============================] - 0s 160us/step - loss: 0.7410 - acc: 0.7400\n",
      "Epoch 9/30\n",
      "100/100 [==============================] - 0s 161us/step - loss: 0.7077 - acc: 0.6900\n",
      "Epoch 10/30\n",
      "100/100 [==============================] - 0s 159us/step - loss: 0.6776 - acc: 0.7000\n",
      "Epoch 11/30\n",
      "100/100 [==============================] - 0s 208us/step - loss: 0.6481 - acc: 0.6900\n",
      "Epoch 12/30\n",
      "100/100 [==============================] - 0s 166us/step - loss: 0.6248 - acc: 0.6800\n",
      "Epoch 13/30\n",
      "100/100 [==============================] - 0s 166us/step - loss: 0.6111 - acc: 0.6700\n",
      "Epoch 14/30\n",
      "100/100 [==============================] - 0s 160us/step - loss: 0.5909 - acc: 0.6700\n",
      "Epoch 15/30\n",
      "100/100 [==============================] - 0s 177us/step - loss: 0.5661 - acc: 0.7200\n",
      "Epoch 16/30\n",
      "100/100 [==============================] - 0s 167us/step - loss: 0.5464 - acc: 0.9300\n",
      "Epoch 17/30\n",
      "100/100 [==============================] - 0s 163us/step - loss: 0.5460 - acc: 0.9000\n",
      "Epoch 18/30\n",
      "100/100 [==============================] - 0s 175us/step - loss: 0.5237 - acc: 0.9200\n",
      "Epoch 19/30\n",
      "100/100 [==============================] - 0s 167us/step - loss: 0.5050 - acc: 0.8600\n",
      "Epoch 20/30\n",
      "100/100 [==============================] - 0s 180us/step - loss: 0.4932 - acc: 0.8100\n",
      "Epoch 21/30\n",
      "100/100 [==============================] - 0s 175us/step - loss: 0.4835 - acc: 0.9100\n",
      "Epoch 22/30\n",
      "100/100 [==============================] - 0s 152us/step - loss: 0.4742 - acc: 0.9700\n",
      "Epoch 23/30\n",
      "100/100 [==============================] - 0s 178us/step - loss: 0.4614 - acc: 0.8700\n",
      "Epoch 24/30\n",
      "100/100 [==============================] - 0s 199us/step - loss: 0.4601 - acc: 0.7500\n",
      "Epoch 25/30\n",
      "100/100 [==============================] - 0s 168us/step - loss: 0.4510 - acc: 0.7500\n",
      "Epoch 26/30\n",
      "100/100 [==============================] - 0s 174us/step - loss: 0.4332 - acc: 0.9200\n",
      "Epoch 27/30\n",
      "100/100 [==============================] - 0s 178us/step - loss: 0.4348 - acc: 0.9400\n",
      "Epoch 28/30\n",
      "100/100 [==============================] - 0s 149us/step - loss: 0.4315 - acc: 0.9200\n",
      "Epoch 29/30\n",
      "100/100 [==============================] - 0s 186us/step - loss: 0.4173 - acc: 0.9700\n",
      "Epoch 30/30\n",
      "100/100 [==============================] - 0s 174us/step - loss: 0.4088 - acc: 0.9700\n",
      "12/12 [==============================] - 0s 29ms/step\n",
      "100/100 [==============================] - 0s 130us/step\n",
      "Epoch 1/30\n",
      "100/100 [==============================] - 1s 10ms/step - loss: 2.0141 - acc: 0.3300\n",
      "Epoch 2/30\n",
      "100/100 [==============================] - 0s 205us/step - loss: 1.8709 - acc: 0.3300\n",
      "Epoch 3/30\n",
      "100/100 [==============================] - 0s 159us/step - loss: 1.7427 - acc: 0.3300\n",
      "Epoch 4/30\n",
      "100/100 [==============================] - 0s 169us/step - loss: 1.6255 - acc: 0.3300\n",
      "Epoch 5/30\n",
      "100/100 [==============================] - 0s 159us/step - loss: 1.5109 - acc: 0.3300\n",
      "Epoch 6/30\n",
      "100/100 [==============================] - 0s 185us/step - loss: 1.4097 - acc: 0.3300\n",
      "Epoch 7/30\n",
      "100/100 [==============================] - 0s 166us/step - loss: 1.3074 - acc: 0.3300\n",
      "Epoch 8/30\n",
      "100/100 [==============================] - 0s 164us/step - loss: 1.2178 - acc: 0.3300\n",
      "Epoch 9/30\n",
      "100/100 [==============================] - 0s 202us/step - loss: 1.1343 - acc: 0.3800\n",
      "Epoch 10/30\n",
      "100/100 [==============================] - 0s 158us/step - loss: 1.0615 - acc: 0.4600\n",
      "Epoch 11/30\n",
      "100/100 [==============================] - 0s 169us/step - loss: 0.9978 - acc: 0.5600\n",
      "Epoch 12/30\n",
      "100/100 [==============================] - 0s 181us/step - loss: 0.9426 - acc: 0.5900\n",
      "Epoch 13/30\n",
      "100/100 [==============================] - 0s 174us/step - loss: 0.8987 - acc: 0.6300\n",
      "Epoch 14/30\n",
      "100/100 [==============================] - 0s 181us/step - loss: 0.8607 - acc: 0.6400\n",
      "Epoch 15/30\n",
      "100/100 [==============================] - 0s 173us/step - loss: 0.8280 - acc: 0.7200\n",
      "Epoch 16/30\n",
      "100/100 [==============================] - 0s 179us/step - loss: 0.7999 - acc: 0.8100\n",
      "Epoch 17/30\n",
      "100/100 [==============================] - 0s 185us/step - loss: 0.7748 - acc: 0.9000\n",
      "Epoch 18/30\n",
      "100/100 [==============================] - 0s 165us/step - loss: 0.7529 - acc: 0.8500\n",
      "Epoch 19/30\n",
      "100/100 [==============================] - 0s 172us/step - loss: 0.7312 - acc: 0.8600\n",
      "Epoch 20/30\n",
      "100/100 [==============================] - 0s 171us/step - loss: 0.7121 - acc: 0.8600\n",
      "Epoch 21/30\n",
      "100/100 [==============================] - 0s 184us/step - loss: 0.6941 - acc: 0.8600\n",
      "Epoch 22/30\n",
      "100/100 [==============================] - 0s 163us/step - loss: 0.6777 - acc: 0.8600\n",
      "Epoch 23/30\n",
      "100/100 [==============================] - 0s 176us/step - loss: 0.6622 - acc: 0.8200\n",
      "Epoch 24/30\n",
      "100/100 [==============================] - 0s 155us/step - loss: 0.6504 - acc: 0.7600\n",
      "Epoch 25/30\n",
      "100/100 [==============================] - 0s 191us/step - loss: 0.6377 - acc: 0.7600\n",
      "Epoch 26/30\n",
      "100/100 [==============================] - 0s 172us/step - loss: 0.6256 - acc: 0.7600\n",
      "Epoch 27/30\n",
      "100/100 [==============================] - 0s 161us/step - loss: 0.6137 - acc: 0.7900\n",
      "Epoch 28/30\n",
      "100/100 [==============================] - 0s 191us/step - loss: 0.6032 - acc: 0.7900\n",
      "Epoch 29/30\n",
      "100/100 [==============================] - 0s 167us/step - loss: 0.5940 - acc: 0.7900\n",
      "Epoch 30/30\n",
      "100/100 [==============================] - 0s 174us/step - loss: 0.5853 - acc: 0.8300\n",
      "12/12 [==============================] - 0s 32ms/step\n",
      "100/100 [==============================] - 0s 140us/step\n",
      "Epoch 1/30\n",
      "100/100 [==============================] - 1s 10ms/step - loss: 2.2217 - acc: 0.3300\n",
      "Epoch 2/30\n",
      "100/100 [==============================] - 0s 171us/step - loss: 1.8896 - acc: 0.3300\n",
      "Epoch 3/30\n",
      "100/100 [==============================] - 0s 151us/step - loss: 1.5944 - acc: 0.3300\n",
      "Epoch 4/30\n",
      "100/100 [==============================] - 0s 159us/step - loss: 1.3626 - acc: 0.3300\n",
      "Epoch 5/30\n",
      "100/100 [==============================] - 0s 157us/step - loss: 1.1756 - acc: 0.3300\n",
      "Epoch 6/30\n",
      "100/100 [==============================] - 0s 177us/step - loss: 1.0578 - acc: 0.3600\n",
      "Epoch 7/30\n",
      "100/100 [==============================] - 0s 160us/step - loss: 0.9828 - acc: 0.4900\n",
      "Epoch 8/30\n",
      "100/100 [==============================] - 0s 180us/step - loss: 0.9238 - acc: 0.5100\n",
      "Epoch 9/30\n",
      "100/100 [==============================] - 0s 165us/step - loss: 0.8845 - acc: 0.4600\n",
      "Epoch 10/30\n",
      "100/100 [==============================] - 0s 158us/step - loss: 0.8599 - acc: 0.3700\n",
      "Epoch 11/30\n",
      "100/100 [==============================] - 0s 168us/step - loss: 0.8339 - acc: 0.4900\n",
      "Epoch 12/30\n",
      "100/100 [==============================] - 0s 172us/step - loss: 0.8127 - acc: 0.5100\n",
      "Epoch 13/30\n",
      "100/100 [==============================] - 0s 167us/step - loss: 0.7938 - acc: 0.5400\n",
      "Epoch 14/30\n",
      "100/100 [==============================] - 0s 165us/step - loss: 0.7764 - acc: 0.5500\n",
      "Epoch 15/30\n",
      "100/100 [==============================] - 0s 215us/step - loss: 0.7612 - acc: 0.5400\n",
      "Epoch 16/30\n",
      "100/100 [==============================] - 0s 179us/step - loss: 0.7456 - acc: 0.5200\n",
      "Epoch 17/30\n",
      "100/100 [==============================] - 0s 160us/step - loss: 0.7319 - acc: 0.5200\n",
      "Epoch 18/30\n",
      "100/100 [==============================] - 0s 167us/step - loss: 0.7220 - acc: 0.4400\n",
      "Epoch 19/30\n",
      "100/100 [==============================] - 0s 167us/step - loss: 0.7093 - acc: 0.4000\n",
      "Epoch 20/30\n",
      "100/100 [==============================] - 0s 191us/step - loss: 0.6973 - acc: 0.4300\n",
      "Epoch 21/30\n",
      "100/100 [==============================] - 0s 197us/step - loss: 0.6882 - acc: 0.4800\n",
      "Epoch 22/30\n",
      "100/100 [==============================] - 0s 201us/step - loss: 0.6752 - acc: 0.5300\n",
      "Epoch 23/30\n",
      "100/100 [==============================] - 0s 181us/step - loss: 0.6653 - acc: 0.4600\n",
      "Epoch 24/30\n",
      "100/100 [==============================] - 0s 200us/step - loss: 0.6613 - acc: 0.4400\n",
      "Epoch 25/30\n",
      "100/100 [==============================] - 0s 166us/step - loss: 0.6526 - acc: 0.4600\n",
      "Epoch 26/30\n",
      "100/100 [==============================] - 0s 176us/step - loss: 0.6416 - acc: 0.5300\n",
      "Epoch 27/30\n",
      "100/100 [==============================] - 0s 190us/step - loss: 0.6330 - acc: 0.6400\n",
      "Epoch 28/30\n",
      "100/100 [==============================] - 0s 192us/step - loss: 0.6297 - acc: 0.6600\n",
      "Epoch 29/30\n",
      "100/100 [==============================] - 0s 193us/step - loss: 0.6250 - acc: 0.6700\n",
      "Epoch 30/30\n",
      "100/100 [==============================] - 0s 186us/step - loss: 0.6185 - acc: 0.6700\n",
      "12/12 [==============================] - 0s 37ms/step\n",
      "100/100 [==============================] - 0s 133us/step\n",
      "Epoch 1/30\n",
      "100/100 [==============================] - 1s 11ms/step - loss: 1.7542 - acc: 0.3300\n",
      "Epoch 2/30\n",
      "100/100 [==============================] - 0s 173us/step - loss: 1.5797 - acc: 0.3300\n",
      "Epoch 3/30\n",
      "100/100 [==============================] - 0s 166us/step - loss: 1.4278 - acc: 0.3300\n",
      "Epoch 4/30\n",
      "100/100 [==============================] - 0s 167us/step - loss: 1.3029 - acc: 0.3300\n",
      "Epoch 5/30\n",
      "100/100 [==============================] - 0s 159us/step - loss: 1.1959 - acc: 0.3300\n",
      "Epoch 6/30\n",
      "100/100 [==============================] - 0s 161us/step - loss: 1.1085 - acc: 0.3900\n",
      "Epoch 7/30\n",
      "100/100 [==============================] - 0s 213us/step - loss: 1.0370 - acc: 0.6500\n",
      "Epoch 8/30\n",
      "100/100 [==============================] - 0s 226us/step - loss: 0.9799 - acc: 0.6700\n",
      "Epoch 9/30\n",
      "100/100 [==============================] - 0s 171us/step - loss: 0.9315 - acc: 0.6700\n",
      "Epoch 10/30\n",
      "100/100 [==============================] - 0s 172us/step - loss: 0.8904 - acc: 0.6700\n",
      "Epoch 11/30\n",
      "100/100 [==============================] - 0s 162us/step - loss: 0.8611 - acc: 0.6700\n",
      "Epoch 12/30\n",
      "100/100 [==============================] - 0s 180us/step - loss: 0.8337 - acc: 0.6700\n",
      "Epoch 13/30\n",
      "100/100 [==============================] - 0s 163us/step - loss: 0.8107 - acc: 0.6700\n",
      "Epoch 14/30\n",
      "100/100 [==============================] - 0s 164us/step - loss: 0.7920 - acc: 0.6900\n",
      "Epoch 15/30\n",
      "100/100 [==============================] - 0s 167us/step - loss: 0.7756 - acc: 0.7300\n",
      "Epoch 16/30\n",
      "100/100 [==============================] - 0s 163us/step - loss: 0.7592 - acc: 0.8300\n",
      "Epoch 17/30\n",
      "100/100 [==============================] - 0s 158us/step - loss: 0.7456 - acc: 0.8500\n",
      "Epoch 18/30\n",
      "100/100 [==============================] - 0s 178us/step - loss: 0.7323 - acc: 0.8600\n",
      "Epoch 19/30\n",
      "100/100 [==============================] - 0s 149us/step - loss: 0.7211 - acc: 0.8900\n",
      "Epoch 20/30\n",
      "100/100 [==============================] - 0s 159us/step - loss: 0.7096 - acc: 0.9000\n",
      "Epoch 21/30\n",
      "100/100 [==============================] - 0s 204us/step - loss: 0.6995 - acc: 0.8900\n",
      "Epoch 22/30\n",
      "100/100 [==============================] - 0s 191us/step - loss: 0.6911 - acc: 0.8900\n",
      "Epoch 23/30\n",
      "100/100 [==============================] - 0s 156us/step - loss: 0.6832 - acc: 0.8800\n",
      "Epoch 24/30\n",
      "100/100 [==============================] - 0s 180us/step - loss: 0.6751 - acc: 0.8800\n",
      "Epoch 25/30\n",
      "100/100 [==============================] - 0s 167us/step - loss: 0.6680 - acc: 0.8900\n",
      "Epoch 26/30\n",
      "100/100 [==============================] - 0s 169us/step - loss: 0.6607 - acc: 0.8700\n",
      "Epoch 27/30\n",
      "100/100 [==============================] - 0s 171us/step - loss: 0.6510 - acc: 0.8700\n",
      "Epoch 28/30\n",
      "100/100 [==============================] - 0s 169us/step - loss: 0.6419 - acc: 0.8900\n",
      "Epoch 29/30\n",
      "100/100 [==============================] - 0s 167us/step - loss: 0.6324 - acc: 0.8900\n",
      "Epoch 30/30\n",
      "100/100 [==============================] - 0s 185us/step - loss: 0.6238 - acc: 0.8400\n",
      "12/12 [==============================] - 0s 35ms/step\n",
      "100/100 [==============================] - 0s 150us/step\n",
      "Epoch 1/30\n",
      "100/100 [==============================] - 1s 11ms/step - loss: 1.2645 - acc: 0.3200\n",
      "Epoch 2/30\n",
      "100/100 [==============================] - 0s 177us/step - loss: 1.1653 - acc: 0.2400\n",
      "Epoch 3/30\n",
      "100/100 [==============================] - 0s 152us/step - loss: 1.1031 - acc: 0.3000\n",
      "Epoch 4/30\n",
      "100/100 [==============================] - 0s 167us/step - loss: 1.0510 - acc: 0.3100\n",
      "Epoch 5/30\n",
      "100/100 [==============================] - 0s 161us/step - loss: 1.0140 - acc: 0.3400\n",
      "Epoch 6/30\n",
      "100/100 [==============================] - 0s 157us/step - loss: 0.9747 - acc: 0.5800\n",
      "Epoch 7/30\n",
      "100/100 [==============================] - 0s 176us/step - loss: 0.9439 - acc: 0.7000\n",
      "Epoch 8/30\n",
      "100/100 [==============================] - 0s 211us/step - loss: 0.9152 - acc: 0.7000\n",
      "Epoch 9/30\n",
      "100/100 [==============================] - 0s 166us/step - loss: 0.8831 - acc: 0.7300\n",
      "Epoch 10/30\n",
      "100/100 [==============================] - 0s 167us/step - loss: 0.8511 - acc: 0.7000\n",
      "Epoch 11/30\n",
      "100/100 [==============================] - 0s 178us/step - loss: 0.8228 - acc: 0.6900\n",
      "Epoch 12/30\n",
      "100/100 [==============================] - 0s 179us/step - loss: 0.7999 - acc: 0.6900\n",
      "Epoch 13/30\n",
      "100/100 [==============================] - 0s 156us/step - loss: 0.7787 - acc: 0.6800\n",
      "Epoch 14/30\n",
      "100/100 [==============================] - 0s 153us/step - loss: 0.7579 - acc: 0.6700\n",
      "Epoch 15/30\n",
      "100/100 [==============================] - 0s 170us/step - loss: 0.7398 - acc: 0.6700\n",
      "Epoch 16/30\n",
      "100/100 [==============================] - 0s 182us/step - loss: 0.7214 - acc: 0.6800\n",
      "Epoch 17/30\n",
      "100/100 [==============================] - 0s 162us/step - loss: 0.7037 - acc: 0.7000\n",
      "Epoch 18/30\n",
      "100/100 [==============================] - 0s 174us/step - loss: 0.6878 - acc: 0.7700\n",
      "Epoch 19/30\n",
      "100/100 [==============================] - 0s 170us/step - loss: 0.6722 - acc: 0.7900\n",
      "Epoch 20/30\n",
      "100/100 [==============================] - 0s 158us/step - loss: 0.6595 - acc: 0.7300\n",
      "Epoch 21/30\n",
      "100/100 [==============================] - 0s 173us/step - loss: 0.6454 - acc: 0.8000\n",
      "Epoch 22/30\n",
      "100/100 [==============================] - 0s 166us/step - loss: 0.6346 - acc: 0.8300\n",
      "Epoch 23/30\n",
      "100/100 [==============================] - 0s 218us/step - loss: 0.6210 - acc: 0.8400\n",
      "Epoch 24/30\n",
      "100/100 [==============================] - 0s 187us/step - loss: 0.6101 - acc: 0.8400\n",
      "Epoch 25/30\n",
      "100/100 [==============================] - 0s 165us/step - loss: 0.5986 - acc: 0.8800\n",
      "Epoch 26/30\n",
      "100/100 [==============================] - 0s 166us/step - loss: 0.5889 - acc: 0.9100\n",
      "Epoch 27/30\n",
      "100/100 [==============================] - 0s 176us/step - loss: 0.5825 - acc: 0.9200\n",
      "Epoch 28/30\n",
      "100/100 [==============================] - 0s 174us/step - loss: 0.5732 - acc: 0.9100\n",
      "Epoch 29/30\n",
      "100/100 [==============================] - 0s 172us/step - loss: 0.5603 - acc: 0.9300\n",
      "Epoch 30/30\n",
      "100/100 [==============================] - 0s 168us/step - loss: 0.5515 - acc: 0.8200\n",
      "12/12 [==============================] - 0s 39ms/step\n",
      "100/100 [==============================] - 0s 144us/step\n",
      "Epoch 1/30\n",
      "100/100 [==============================] - 1s 12ms/step - loss: 1.3600 - acc: 0.0900\n",
      "Epoch 2/30\n",
      "100/100 [==============================] - 0s 236us/step - loss: 1.2354 - acc: 0.1600\n",
      "Epoch 3/30\n",
      "100/100 [==============================] - 0s 160us/step - loss: 1.1578 - acc: 0.3400\n",
      "Epoch 4/30\n",
      "100/100 [==============================] - 0s 160us/step - loss: 1.1033 - acc: 0.3400\n",
      "Epoch 5/30\n",
      "100/100 [==============================] - 0s 165us/step - loss: 1.0626 - acc: 0.3500\n",
      "Epoch 6/30\n",
      "100/100 [==============================] - 0s 173us/step - loss: 1.0153 - acc: 0.3600\n",
      "Epoch 7/30\n",
      "100/100 [==============================] - 0s 169us/step - loss: 0.9722 - acc: 0.3900\n",
      "Epoch 8/30\n",
      "100/100 [==============================] - 0s 166us/step - loss: 0.9275 - acc: 0.4000\n",
      "Epoch 9/30\n",
      "100/100 [==============================] - 0s 161us/step - loss: 0.8923 - acc: 0.4600\n",
      "Epoch 10/30\n",
      "100/100 [==============================] - 0s 159us/step - loss: 0.8542 - acc: 0.7100\n",
      "Epoch 11/30\n",
      "100/100 [==============================] - 0s 167us/step - loss: 0.8213 - acc: 0.7000\n",
      "Epoch 12/30\n",
      "100/100 [==============================] - 0s 205us/step - loss: 0.7850 - acc: 0.6900\n",
      "Epoch 13/30\n",
      "100/100 [==============================] - 0s 195us/step - loss: 0.7623 - acc: 0.6700\n",
      "Epoch 14/30\n",
      "100/100 [==============================] - 0s 197us/step - loss: 0.7407 - acc: 0.6700\n",
      "Epoch 15/30\n",
      "100/100 [==============================] - 0s 167us/step - loss: 0.7244 - acc: 0.6700\n",
      "Epoch 16/30\n",
      "100/100 [==============================] - 0s 310us/step - loss: 0.7087 - acc: 0.6700\n",
      "Epoch 17/30\n",
      "100/100 [==============================] - 0s 183us/step - loss: 0.6839 - acc: 0.6700\n",
      "Epoch 18/30\n",
      "100/100 [==============================] - 0s 194us/step - loss: 0.6580 - acc: 0.6800\n",
      "Epoch 19/30\n",
      "100/100 [==============================] - 0s 179us/step - loss: 0.6382 - acc: 0.7100\n",
      "Epoch 20/30\n",
      "100/100 [==============================] - 0s 157us/step - loss: 0.6249 - acc: 0.7500\n",
      "Epoch 21/30\n",
      "100/100 [==============================] - 0s 163us/step - loss: 0.6110 - acc: 0.8100\n",
      "Epoch 22/30\n",
      "100/100 [==============================] - 0s 180us/step - loss: 0.5991 - acc: 0.7900\n",
      "Epoch 23/30\n",
      "100/100 [==============================] - 0s 166us/step - loss: 0.5872 - acc: 0.7400\n",
      "Epoch 24/30\n",
      "100/100 [==============================] - 0s 213us/step - loss: 0.5760 - acc: 0.7900\n",
      "Epoch 25/30\n",
      "100/100 [==============================] - 0s 183us/step - loss: 0.5654 - acc: 0.8700\n",
      "Epoch 26/30\n",
      "100/100 [==============================] - 0s 197us/step - loss: 0.5562 - acc: 0.9300\n",
      "Epoch 27/30\n",
      "100/100 [==============================] - 0s 190us/step - loss: 0.5523 - acc: 0.9200\n",
      "Epoch 28/30\n",
      "100/100 [==============================] - 0s 187us/step - loss: 0.5536 - acc: 0.8500\n",
      "Epoch 29/30\n",
      "100/100 [==============================] - 0s 184us/step - loss: 0.5458 - acc: 0.8100\n",
      "Epoch 30/30\n",
      "100/100 [==============================] - 0s 176us/step - loss: 0.5273 - acc: 0.9200\n",
      "12/12 [==============================] - 0s 40ms/step\n",
      "100/100 [==============================] - 0s 154us/step\n",
      "Epoch 1/30\n",
      "100/100 [==============================] - 1s 13ms/step - loss: 1.3812 - acc: 0.0000e+00\n",
      "Epoch 2/30\n",
      "100/100 [==============================] - 0s 183us/step - loss: 1.2349 - acc: 0.0000e+00\n",
      "Epoch 3/30\n",
      "100/100 [==============================] - 0s 167us/step - loss: 1.1614 - acc: 0.1100\n",
      "Epoch 4/30\n",
      "100/100 [==============================] - 0s 164us/step - loss: 1.1129 - acc: 0.3400\n",
      "Epoch 5/30\n",
      "100/100 [==============================] - 0s 169us/step - loss: 1.0829 - acc: 0.3400\n",
      "Epoch 6/30\n",
      "100/100 [==============================] - 0s 164us/step - loss: 1.0501 - acc: 0.3400\n",
      "Epoch 7/30\n",
      "100/100 [==============================] - 0s 156us/step - loss: 1.0177 - acc: 0.3400\n",
      "Epoch 8/30\n",
      "100/100 [==============================] - 0s 167us/step - loss: 0.9908 - acc: 0.3600\n",
      "Epoch 9/30\n",
      "100/100 [==============================] - 0s 171us/step - loss: 0.9609 - acc: 0.3700\n",
      "Epoch 10/30\n",
      "100/100 [==============================] - 0s 188us/step - loss: 0.9297 - acc: 0.3700\n",
      "Epoch 11/30\n",
      "100/100 [==============================] - 0s 195us/step - loss: 0.8999 - acc: 0.6500\n",
      "Epoch 12/30\n",
      "100/100 [==============================] - 0s 198us/step - loss: 0.8792 - acc: 0.6700\n",
      "Epoch 13/30\n",
      "100/100 [==============================] - 0s 176us/step - loss: 0.8609 - acc: 0.6700\n",
      "Epoch 14/30\n",
      "100/100 [==============================] - 0s 177us/step - loss: 0.8310 - acc: 0.6700\n",
      "Epoch 15/30\n",
      "100/100 [==============================] - 0s 166us/step - loss: 0.8072 - acc: 0.6800\n",
      "Epoch 16/30\n",
      "100/100 [==============================] - 0s 153us/step - loss: 0.7842 - acc: 0.7300\n",
      "Epoch 17/30\n",
      "100/100 [==============================] - 0s 179us/step - loss: 0.7607 - acc: 0.7000\n",
      "Epoch 18/30\n",
      "100/100 [==============================] - 0s 163us/step - loss: 0.7386 - acc: 0.6700\n",
      "Epoch 19/30\n",
      "100/100 [==============================] - 0s 194us/step - loss: 0.7276 - acc: 0.6700\n",
      "Epoch 20/30\n",
      "100/100 [==============================] - 0s 162us/step - loss: 0.7120 - acc: 0.6700\n",
      "Epoch 21/30\n",
      "100/100 [==============================] - 0s 176us/step - loss: 0.6920 - acc: 0.6700\n",
      "Epoch 22/30\n",
      "100/100 [==============================] - 0s 163us/step - loss: 0.6711 - acc: 0.6800\n",
      "Epoch 23/30\n",
      "100/100 [==============================] - 0s 187us/step - loss: 0.6546 - acc: 0.9000\n",
      "Epoch 24/30\n",
      "100/100 [==============================] - 0s 186us/step - loss: 0.6459 - acc: 0.9200\n",
      "Epoch 25/30\n",
      "100/100 [==============================] - 0s 162us/step - loss: 0.6380 - acc: 0.8500\n",
      "Epoch 26/30\n",
      "100/100 [==============================] - 0s 177us/step - loss: 0.6319 - acc: 0.7700\n",
      "Epoch 27/30\n",
      "100/100 [==============================] - 0s 174us/step - loss: 0.6169 - acc: 0.8800\n",
      "Epoch 28/30\n",
      "100/100 [==============================] - 0s 174us/step - loss: 0.5997 - acc: 0.9500\n",
      "Epoch 29/30\n",
      "100/100 [==============================] - 0s 166us/step - loss: 0.5878 - acc: 0.8500\n",
      "Epoch 30/30\n",
      "100/100 [==============================] - 0s 146us/step - loss: 0.5779 - acc: 0.8200\n",
      "12/12 [==============================] - 1s 42ms/step\n",
      "100/100 [==============================] - 0s 147us/step\n",
      "Epoch 1/30\n",
      "100/100 [==============================] - 1s 13ms/step - loss: 1.2015 - acc: 0.3300\n",
      "Epoch 2/30\n",
      "100/100 [==============================] - 0s 173us/step - loss: 0.9860 - acc: 0.4900\n",
      "Epoch 3/30\n",
      "100/100 [==============================] - 0s 231us/step - loss: 0.9304 - acc: 0.3600\n",
      "Epoch 4/30\n",
      "100/100 [==============================] - 0s 206us/step - loss: 0.8634 - acc: 0.5800\n",
      "Epoch 5/30\n",
      "100/100 [==============================] - 0s 152us/step - loss: 0.8083 - acc: 0.6700\n",
      "Epoch 6/30\n",
      "100/100 [==============================] - 0s 151us/step - loss: 0.7637 - acc: 0.6700\n",
      "Epoch 7/30\n",
      "100/100 [==============================] - 0s 154us/step - loss: 0.7286 - acc: 0.9000\n",
      "Epoch 8/30\n",
      "100/100 [==============================] - 0s 170us/step - loss: 0.6960 - acc: 0.9500\n",
      "Epoch 9/30\n",
      "100/100 [==============================] - 0s 176us/step - loss: 0.6630 - acc: 0.8900\n",
      "Epoch 10/30\n",
      "100/100 [==============================] - 0s 157us/step - loss: 0.6345 - acc: 0.8400\n",
      "Epoch 11/30\n",
      "100/100 [==============================] - 0s 162us/step - loss: 0.6073 - acc: 0.7300\n",
      "Epoch 12/30\n",
      "100/100 [==============================] - 0s 203us/step - loss: 0.5851 - acc: 0.7500\n",
      "Epoch 13/30\n",
      "100/100 [==============================] - 0s 163us/step - loss: 0.5663 - acc: 0.7200\n",
      "Epoch 14/30\n",
      "100/100 [==============================] - 0s 158us/step - loss: 0.5471 - acc: 0.6900\n",
      "Epoch 15/30\n",
      "100/100 [==============================] - 0s 205us/step - loss: 0.5295 - acc: 0.6900\n",
      "Epoch 16/30\n",
      "100/100 [==============================] - 0s 184us/step - loss: 0.5140 - acc: 0.7300\n",
      "Epoch 17/30\n",
      "100/100 [==============================] - 0s 159us/step - loss: 0.4961 - acc: 0.7500\n",
      "Epoch 18/30\n",
      "100/100 [==============================] - 0s 190us/step - loss: 0.4901 - acc: 0.6900\n",
      "Epoch 19/30\n",
      "100/100 [==============================] - 0s 164us/step - loss: 0.4746 - acc: 0.7500\n",
      "Epoch 20/30\n",
      "100/100 [==============================] - 0s 177us/step - loss: 0.4605 - acc: 0.8900\n",
      "Epoch 21/30\n",
      "100/100 [==============================] - 0s 163us/step - loss: 0.4473 - acc: 0.9200\n",
      "Epoch 22/30\n",
      "100/100 [==============================] - 0s 175us/step - loss: 0.4570 - acc: 0.7200\n",
      "Epoch 23/30\n",
      "100/100 [==============================] - 0s 182us/step - loss: 0.4448 - acc: 0.7200\n",
      "Epoch 24/30\n",
      "100/100 [==============================] - 0s 163us/step - loss: 0.4204 - acc: 0.9000\n",
      "Epoch 25/30\n",
      "100/100 [==============================] - 0s 173us/step - loss: 0.4143 - acc: 0.9700\n",
      "Epoch 26/30\n",
      "100/100 [==============================] - 0s 186us/step - loss: 0.4066 - acc: 0.9900\n",
      "Epoch 27/30\n",
      "100/100 [==============================] - 0s 189us/step - loss: 0.4012 - acc: 0.9900\n",
      "Epoch 28/30\n",
      "100/100 [==============================] - 0s 170us/step - loss: 0.3920 - acc: 0.9600\n",
      "Epoch 29/30\n",
      "100/100 [==============================] - 0s 170us/step - loss: 0.3810 - acc: 0.9500\n",
      "Epoch 30/30\n",
      "100/100 [==============================] - 0s 158us/step - loss: 0.3792 - acc: 0.8900\n",
      "12/12 [==============================] - 1s 45ms/step\n",
      "100/100 [==============================] - 0s 138us/step\n",
      "Epoch 1/30\n",
      "100/100 [==============================] - 1s 14ms/step - loss: 1.2273 - acc: 0.3400\n",
      "Epoch 2/30\n",
      "100/100 [==============================] - 0s 185us/step - loss: 1.0084 - acc: 0.5300\n",
      "Epoch 3/30\n",
      "100/100 [==============================] - 0s 160us/step - loss: 0.9652 - acc: 0.3500\n",
      "Epoch 4/30\n",
      "100/100 [==============================] - 0s 165us/step - loss: 0.9164 - acc: 0.4000\n",
      "Epoch 5/30\n",
      "100/100 [==============================] - 0s 176us/step - loss: 0.8458 - acc: 0.6300\n",
      "Epoch 6/30\n",
      "100/100 [==============================] - 0s 156us/step - loss: 0.7898 - acc: 0.7500\n",
      "Epoch 7/30\n",
      "100/100 [==============================] - 0s 163us/step - loss: 0.7417 - acc: 0.7700\n",
      "Epoch 8/30\n",
      "100/100 [==============================] - 0s 180us/step - loss: 0.7074 - acc: 0.6700\n",
      "Epoch 9/30\n",
      "100/100 [==============================] - 0s 170us/step - loss: 0.6928 - acc: 0.6700\n",
      "Epoch 10/30\n",
      "100/100 [==============================] - 0s 173us/step - loss: 0.6620 - acc: 0.6800\n",
      "Epoch 11/30\n",
      "100/100 [==============================] - 0s 160us/step - loss: 0.6347 - acc: 0.9200\n",
      "Epoch 12/30\n",
      "100/100 [==============================] - 0s 175us/step - loss: 0.6393 - acc: 0.6900\n",
      "Epoch 13/30\n",
      "100/100 [==============================] - 0s 189us/step - loss: 0.6015 - acc: 0.7900\n",
      "Epoch 14/30\n",
      "100/100 [==============================] - 0s 184us/step - loss: 0.5713 - acc: 0.7400\n",
      "Epoch 15/30\n",
      "100/100 [==============================] - 0s 181us/step - loss: 0.5842 - acc: 0.6700\n",
      "Epoch 16/30\n",
      "100/100 [==============================] - 0s 168us/step - loss: 0.5895 - acc: 0.6700\n",
      "Epoch 17/30\n",
      "100/100 [==============================] - 0s 166us/step - loss: 0.5551 - acc: 0.6700\n",
      "Epoch 18/30\n",
      "100/100 [==============================] - 0s 170us/step - loss: 0.5123 - acc: 0.7200\n",
      "Epoch 19/30\n",
      "100/100 [==============================] - 0s 162us/step - loss: 0.5014 - acc: 0.9500\n",
      "Epoch 20/30\n",
      "100/100 [==============================] - 0s 170us/step - loss: 0.4906 - acc: 0.9800\n",
      "Epoch 21/30\n",
      "100/100 [==============================] - 0s 268us/step - loss: 0.4789 - acc: 0.8200\n",
      "Epoch 22/30\n",
      "100/100 [==============================] - 0s 194us/step - loss: 0.4770 - acc: 0.7300\n",
      "Epoch 23/30\n",
      "100/100 [==============================] - 0s 177us/step - loss: 0.4688 - acc: 0.7300\n",
      "Epoch 24/30\n",
      "100/100 [==============================] - 0s 183us/step - loss: 0.4588 - acc: 0.7400\n",
      "Epoch 25/30\n",
      "100/100 [==============================] - 0s 178us/step - loss: 0.4433 - acc: 0.8300\n",
      "Epoch 26/30\n",
      "100/100 [==============================] - 0s 188us/step - loss: 0.4333 - acc: 0.9200\n",
      "Epoch 27/30\n",
      "100/100 [==============================] - 0s 199us/step - loss: 0.4327 - acc: 0.9200\n",
      "Epoch 28/30\n",
      "100/100 [==============================] - 0s 165us/step - loss: 0.4223 - acc: 0.9400\n",
      "Epoch 29/30\n",
      "100/100 [==============================] - 0s 196us/step - loss: 0.4111 - acc: 0.9400\n",
      "Epoch 30/30\n",
      "100/100 [==============================] - 0s 174us/step - loss: 0.4056 - acc: 0.8600\n",
      "12/12 [==============================] - 1s 46ms/step\n",
      "100/100 [==============================] - 0s 97us/step\n",
      "Epoch 1/30\n",
      "100/100 [==============================] - 1s 14ms/step - loss: 1.0828 - acc: 0.3300\n",
      "Epoch 2/30\n",
      "100/100 [==============================] - 0s 171us/step - loss: 0.9297 - acc: 0.5800\n",
      "Epoch 3/30\n",
      "100/100 [==============================] - 0s 164us/step - loss: 0.8666 - acc: 0.6700\n",
      "Epoch 4/30\n",
      "100/100 [==============================] - 0s 160us/step - loss: 0.8174 - acc: 0.6700\n",
      "Epoch 5/30\n",
      "100/100 [==============================] - 0s 165us/step - loss: 0.7685 - acc: 0.6900\n",
      "Epoch 6/30\n",
      "100/100 [==============================] - 0s 176us/step - loss: 0.7275 - acc: 0.7700\n",
      "Epoch 7/30\n",
      "100/100 [==============================] - 0s 165us/step - loss: 0.6909 - acc: 0.7400\n",
      "Epoch 8/30\n",
      "100/100 [==============================] - 0s 171us/step - loss: 0.6592 - acc: 0.8200\n",
      "Epoch 9/30\n",
      "100/100 [==============================] - 0s 167us/step - loss: 0.6292 - acc: 0.9500\n",
      "Epoch 10/30\n",
      "100/100 [==============================] - 0s 180us/step - loss: 0.5996 - acc: 0.8900\n",
      "Epoch 11/30\n",
      "100/100 [==============================] - 0s 162us/step - loss: 0.5836 - acc: 0.6900\n",
      "Epoch 12/30\n",
      "100/100 [==============================] - 0s 189us/step - loss: 0.5704 - acc: 0.6800\n",
      "Epoch 13/30\n",
      "100/100 [==============================] - 0s 222us/step - loss: 0.5424 - acc: 0.7000\n",
      "Epoch 14/30\n",
      "100/100 [==============================] - 0s 182us/step - loss: 0.5219 - acc: 0.8500\n",
      "Epoch 15/30\n",
      "100/100 [==============================] - 0s 170us/step - loss: 0.5106 - acc: 0.9400\n",
      "Epoch 16/30\n",
      "100/100 [==============================] - 0s 211us/step - loss: 0.4935 - acc: 0.9000\n",
      "Epoch 17/30\n",
      "100/100 [==============================] - 0s 174us/step - loss: 0.4847 - acc: 0.7800\n",
      "Epoch 18/30\n",
      "100/100 [==============================] - 0s 170us/step - loss: 0.4738 - acc: 0.8700\n",
      "Epoch 19/30\n",
      "100/100 [==============================] - 0s 163us/step - loss: 0.4620 - acc: 0.9600\n",
      "Epoch 20/30\n",
      "100/100 [==============================] - 0s 167us/step - loss: 0.4476 - acc: 0.9000\n",
      "Epoch 21/30\n",
      "100/100 [==============================] - 0s 170us/step - loss: 0.4459 - acc: 0.7800\n",
      "Epoch 22/30\n",
      "100/100 [==============================] - 0s 190us/step - loss: 0.4415 - acc: 0.7600\n",
      "Epoch 23/30\n",
      "100/100 [==============================] - 0s 177us/step - loss: 0.4242 - acc: 0.8800\n",
      "Epoch 24/30\n",
      "100/100 [==============================] - 0s 164us/step - loss: 0.4155 - acc: 0.9700\n",
      "Epoch 25/30\n",
      "100/100 [==============================] - 0s 166us/step - loss: 0.4102 - acc: 0.9700\n",
      "Epoch 26/30\n",
      "100/100 [==============================] - 0s 158us/step - loss: 0.4026 - acc: 0.8900\n",
      "Epoch 27/30\n",
      "100/100 [==============================] - 0s 196us/step - loss: 0.4196 - acc: 0.7300\n",
      "Epoch 28/30\n",
      "100/100 [==============================] - 0s 154us/step - loss: 0.4021 - acc: 0.8300\n",
      "Epoch 29/30\n",
      "100/100 [==============================] - 0s 178us/step - loss: 0.3838 - acc: 0.9400\n",
      "Epoch 30/30\n",
      "100/100 [==============================] - 0s 212us/step - loss: 0.3790 - acc: 0.9700\n",
      "12/12 [==============================] - 1s 49ms/step\n",
      "100/100 [==============================] - 0s 145us/step\n",
      "Epoch 1/30\n",
      "112/112 [==============================] - 2s 14ms/step - loss: 1.8173 - acc: 0.6071\n",
      "Epoch 2/30\n",
      "112/112 [==============================] - 0s 164us/step - loss: 1.6948 - acc: 0.4107\n",
      "Epoch 3/30\n",
      "112/112 [==============================] - 0s 146us/step - loss: 1.5926 - acc: 0.5893\n",
      "Epoch 4/30\n",
      "112/112 [==============================] - 0s 145us/step - loss: 1.4965 - acc: 0.6696\n",
      "Epoch 5/30\n",
      "112/112 [==============================] - 0s 146us/step - loss: 1.4281 - acc: 0.8304\n",
      "Epoch 6/30\n",
      "112/112 [==============================] - 0s 140us/step - loss: 1.3632 - acc: 0.9018\n",
      "Epoch 7/30\n",
      "112/112 [==============================] - 0s 140us/step - loss: 1.3004 - acc: 0.7232\n",
      "Epoch 8/30\n",
      "112/112 [==============================] - 0s 146us/step - loss: 1.2459 - acc: 0.6696\n",
      "Epoch 9/30\n",
      "112/112 [==============================] - 0s 156us/step - loss: 1.1932 - acc: 0.6696\n",
      "Epoch 10/30\n",
      "112/112 [==============================] - 0s 152us/step - loss: 1.1458 - acc: 0.7321\n",
      "Epoch 11/30\n",
      "112/112 [==============================] - 0s 145us/step - loss: 1.1000 - acc: 0.7946\n",
      "Epoch 12/30\n",
      "112/112 [==============================] - 0s 150us/step - loss: 1.0602 - acc: 0.8036\n",
      "Epoch 13/30\n",
      "112/112 [==============================] - 0s 175us/step - loss: 1.0238 - acc: 0.7232\n",
      "Epoch 14/30\n",
      "112/112 [==============================] - 0s 198us/step - loss: 0.9911 - acc: 0.7143\n",
      "Epoch 15/30\n",
      "112/112 [==============================] - 0s 162us/step - loss: 0.9595 - acc: 0.7411\n",
      "Epoch 16/30\n",
      "112/112 [==============================] - 0s 259us/step - loss: 0.9319 - acc: 0.8214\n",
      "Epoch 17/30\n",
      "112/112 [==============================] - 0s 208us/step - loss: 0.9039 - acc: 0.8571\n",
      "Epoch 18/30\n",
      "112/112 [==============================] - 0s 154us/step - loss: 0.8769 - acc: 0.8036\n",
      "Epoch 19/30\n",
      "112/112 [==============================] - 0s 154us/step - loss: 0.8531 - acc: 0.8036\n",
      "Epoch 20/30\n",
      "112/112 [==============================] - 0s 154us/step - loss: 0.8290 - acc: 0.8750\n",
      "Epoch 21/30\n",
      "112/112 [==============================] - 0s 150us/step - loss: 0.8123 - acc: 0.9554\n",
      "Epoch 22/30\n",
      "112/112 [==============================] - 0s 138us/step - loss: 0.7920 - acc: 0.9554\n",
      "Epoch 23/30\n",
      "112/112 [==============================] - 0s 154us/step - loss: 0.7711 - acc: 0.9107\n",
      "Epoch 24/30\n",
      "112/112 [==============================] - 0s 167us/step - loss: 0.7544 - acc: 0.9196\n",
      "Epoch 25/30\n",
      "112/112 [==============================] - 0s 178us/step - loss: 0.7348 - acc: 0.9286\n",
      "Epoch 26/30\n",
      "112/112 [==============================] - 0s 151us/step - loss: 0.7201 - acc: 0.8482\n",
      "Epoch 27/30\n",
      "112/112 [==============================] - 0s 153us/step - loss: 0.7103 - acc: 0.8214\n",
      "Epoch 28/30\n",
      "112/112 [==============================] - 0s 178us/step - loss: 0.6927 - acc: 0.8750\n",
      "Epoch 29/30\n",
      "112/112 [==============================] - 0s 139us/step - loss: 0.6784 - acc: 0.9286\n",
      "Epoch 30/30\n",
      "112/112 [==============================] - 0s 166us/step - loss: 0.6674 - acc: 0.9464\n"
     ]
    },
    {
     "data": {
      "text/plain": [
       "GridSearchCV(cv=StratifiedShuffleSplit(n_splits=3, random_state=42, test_size='default',\n",
       "            train_size=None),\n",
       "       error_score='raise-deprecating',\n",
       "       estimator=<keras.wrappers.scikit_learn.KerasClassifier object at 0x7f7923cffc50>,\n",
       "       fit_params=None, iid='warn', n_jobs=None,\n",
       "       param_grid={'epochs': [30], 'alpha': [0.1, 0.001, 0.0001], 'hidden_size': [32, 64, 256]},\n",
       "       pre_dispatch='2*n_jobs', refit=True, return_train_score=True,\n",
       "       scoring=None, verbose=0)"
      ]
     },
     "execution_count": 13,
     "metadata": {
      "tags": []
     },
     "output_type": "execute_result"
    }
   ],
   "source": [
    "clf = KerasClassifier(make_model)\n",
    "\n",
    "param_grid = {\n",
    "    'epochs': [30], # we weren't asked to grid search epochs so only 1 value for convenience \n",
    "    'alpha': [0.1, 0.001, 0.0001], # regularization strength\n",
    "    'hidden_size': [32, 64, 256], # number of hidden units\n",
    "}\n",
    " \n",
    "# For this task at least, cv=5 didn't take that long re Piazza @590\n",
    "grid = GridSearchCV(clf, param_grid=param_grid, cv=StratifiedShuffleSplit(n_splits=3, random_state=42), return_train_score=True)\n",
    "grid.fit(X_train, y_train)"
   ]
  },
  {
   "cell_type": "code",
   "execution_count": 0,
   "metadata": {
    "colab": {
     "base_uri": "https://localhost:8080/",
     "height": 359
    },
    "colab_type": "code",
    "id": "Jjowp8N-CttD",
    "outputId": "417a6aed-2efd-4d98-9586-4e214c8a6ebe"
   },
   "outputs": [
    {
     "data": {
      "text/html": [
       "<div>\n",
       "<style scoped>\n",
       "    .dataframe tbody tr th:only-of-type {\n",
       "        vertical-align: middle;\n",
       "    }\n",
       "\n",
       "    .dataframe tbody tr th {\n",
       "        vertical-align: top;\n",
       "    }\n",
       "\n",
       "    .dataframe thead th {\n",
       "        text-align: right;\n",
       "    }\n",
       "</style>\n",
       "<table border=\"1\" class=\"dataframe\">\n",
       "  <thead>\n",
       "    <tr style=\"text-align: right;\">\n",
       "      <th></th>\n",
       "      <th></th>\n",
       "      <th></th>\n",
       "      <th>mean_test_score</th>\n",
       "      <th>mean_train_score</th>\n",
       "    </tr>\n",
       "    <tr>\n",
       "      <th>param_epochs</th>\n",
       "      <th>param_alpha</th>\n",
       "      <th>param_hidden_size</th>\n",
       "      <th></th>\n",
       "      <th></th>\n",
       "    </tr>\n",
       "  </thead>\n",
       "  <tbody>\n",
       "    <tr>\n",
       "      <th rowspan=\"9\" valign=\"top\">30</th>\n",
       "      <th rowspan=\"3\" valign=\"top\">0.0001</th>\n",
       "      <th>32</th>\n",
       "      <td>0.750000</td>\n",
       "      <td>0.790000</td>\n",
       "    </tr>\n",
       "    <tr>\n",
       "      <th>64</th>\n",
       "      <td>0.722222</td>\n",
       "      <td>0.780000</td>\n",
       "    </tr>\n",
       "    <tr>\n",
       "      <th>256</th>\n",
       "      <td>0.833333</td>\n",
       "      <td>0.903333</td>\n",
       "    </tr>\n",
       "    <tr>\n",
       "      <th rowspan=\"3\" valign=\"top\">0.0010</th>\n",
       "      <th>32</th>\n",
       "      <td>0.750000</td>\n",
       "      <td>0.806667</td>\n",
       "    </tr>\n",
       "    <tr>\n",
       "      <th>64</th>\n",
       "      <td>0.694444</td>\n",
       "      <td>0.750000</td>\n",
       "    </tr>\n",
       "    <tr>\n",
       "      <th>256</th>\n",
       "      <td>0.861111</td>\n",
       "      <td>0.890000</td>\n",
       "    </tr>\n",
       "    <tr>\n",
       "      <th rowspan=\"3\" valign=\"top\">0.1000</th>\n",
       "      <th>32</th>\n",
       "      <td>0.722222</td>\n",
       "      <td>0.780000</td>\n",
       "    </tr>\n",
       "    <tr>\n",
       "      <th>64</th>\n",
       "      <td>0.750000</td>\n",
       "      <td>0.743333</td>\n",
       "    </tr>\n",
       "    <tr>\n",
       "      <th>256</th>\n",
       "      <td>0.861111</td>\n",
       "      <td>0.870000</td>\n",
       "    </tr>\n",
       "  </tbody>\n",
       "</table>\n",
       "</div>"
      ],
      "text/plain": [
       "                                            mean_test_score  mean_train_score\n",
       "param_epochs param_alpha param_hidden_size                                   \n",
       "30           0.0001      32                        0.750000          0.790000\n",
       "                         64                        0.722222          0.780000\n",
       "                         256                       0.833333          0.903333\n",
       "             0.0010      32                        0.750000          0.806667\n",
       "                         64                        0.694444          0.750000\n",
       "                         256                       0.861111          0.890000\n",
       "             0.1000      32                        0.722222          0.780000\n",
       "                         64                        0.750000          0.743333\n",
       "                         256                       0.861111          0.870000"
      ]
     },
     "execution_count": 14,
     "metadata": {
      "tags": []
     },
     "output_type": "execute_result"
    }
   ],
   "source": [
    "res = pd.DataFrame(grid.cv_results_)\n",
    "res.pivot_table(index=['param_epochs', 'param_alpha', 'param_hidden_size'],\n",
    "                values=['mean_train_score', \"mean_test_score\"])"
   ]
  },
  {
   "cell_type": "code",
   "execution_count": 0,
   "metadata": {
    "colab": {
     "base_uri": "https://localhost:8080/",
     "height": 51
    },
    "colab_type": "code",
    "id": "HWwY3EK4DNym",
    "outputId": "b1262cb1-91cc-47c9-f9f3-19c1c2eefa2c"
   },
   "outputs": [
    {
     "name": "stdout",
     "output_type": "stream",
     "text": [
      "112/112 [==============================] - 1s 6ms/step\n"
     ]
    },
    {
     "data": {
      "text/plain": [
       "0.9642857142857143"
      ]
     },
     "execution_count": 15,
     "metadata": {
      "tags": []
     },
     "output_type": "execute_result"
    }
   ],
   "source": [
    "grid.score(X_train, y_train)"
   ]
  },
  {
   "cell_type": "code",
   "execution_count": 0,
   "metadata": {
    "colab": {
     "base_uri": "https://localhost:8080/",
     "height": 51
    },
    "colab_type": "code",
    "id": "p48IGyu9DhP8",
    "outputId": "63296148-efd1-4314-9604-40de685fe65a"
   },
   "outputs": [
    {
     "name": "stdout",
     "output_type": "stream",
     "text": [
      "38/38 [==============================] - 0s 408us/step\n"
     ]
    },
    {
     "data": {
      "text/plain": [
       "1.0"
      ]
     },
     "execution_count": 16,
     "metadata": {
      "tags": []
     },
     "output_type": "execute_result"
    }
   ],
   "source": [
    "grid.score(X_test, y_test)"
   ]
  },
  {
   "cell_type": "code",
   "execution_count": 0,
   "metadata": {
    "colab": {
     "base_uri": "https://localhost:8080/",
     "height": 34
    },
    "colab_type": "code",
    "id": "nVSxV3XaO809",
    "outputId": "4faf9edf-784d-4d78-d096-1e7ad91276cc"
   },
   "outputs": [
    {
     "data": {
      "text/plain": [
       "{'alpha': 0.1, 'epochs': 30, 'hidden_size': 256}"
      ]
     },
     "execution_count": 17,
     "metadata": {
      "tags": []
     },
     "output_type": "execute_result"
    }
   ],
   "source": [
    "grid.best_params_"
   ]
  },
  {
   "cell_type": "markdown",
   "metadata": {
    "colab_type": "text",
    "id": "NZdETOeEHoLI"
   },
   "source": [
    "Given that the dataset is not too large, since the model trained quite well (~96% training accuracy) this was actually a good enough model to correctly classify all elements in the test set as we have a test score of 100%.  Also printed are the best parameters found via grid search. "
   ]
  },
  {
   "cell_type": "markdown",
   "metadata": {
    "colab_type": "text",
    "id": "ZrfFTWduSiLd"
   },
   "source": [
    "### Task 2\n",
    "\n",
    "Train a multilayer perceptron (fully connected) on the Fashion MNIST dataset using the traditional train/test split as given by fashion_mnist.load_data in keras. Use a separate 10000 samples (from the training set) for model selection and to compute learning curves (accuracy vs epochs, not vs n_samples). Compare a “vanilla” model with a model using drop-out (potentially a bigger model), and to a model using batch normalization and residual connections (but not dropout). Visualize learning curves for all models."
   ]
  },
  {
   "cell_type": "markdown",
   "metadata": {
    "colab_type": "text",
    "id": "9drhi-eRl0q5"
   },
   "source": [
    "#### Data \n",
    "First I load the data and check out some of the actual images from our dataset:"
   ]
  },
  {
   "cell_type": "code",
   "execution_count": 0,
   "metadata": {
    "colab": {
     "base_uri": "https://localhost:8080/",
     "height": 153
    },
    "colab_type": "code",
    "id": "wIHaMQEjSjg3",
    "outputId": "80285d20-ffe8-4c3f-ff10-74ee4b1e4faa"
   },
   "outputs": [
    {
     "name": "stdout",
     "output_type": "stream",
     "text": [
      "Downloading data from http://fashion-mnist.s3-website.eu-central-1.amazonaws.com/train-labels-idx1-ubyte.gz\n",
      "32768/29515 [=================================] - 0s 3us/step\n",
      "Downloading data from http://fashion-mnist.s3-website.eu-central-1.amazonaws.com/train-images-idx3-ubyte.gz\n",
      "26427392/26421880 [==============================] - 1s 0us/step\n",
      "Downloading data from http://fashion-mnist.s3-website.eu-central-1.amazonaws.com/t10k-labels-idx1-ubyte.gz\n",
      "8192/5148 [===============================================] - 0s 0us/step\n",
      "Downloading data from http://fashion-mnist.s3-website.eu-central-1.amazonaws.com/t10k-images-idx3-ubyte.gz\n",
      "4423680/4422102 [==============================] - 1s 0us/step\n"
     ]
    }
   ],
   "source": [
    "((X_train2, y_train2), (X_test2, y_test2)) = fashion_mnist.load_data()"
   ]
  },
  {
   "cell_type": "code",
   "execution_count": 0,
   "metadata": {
    "colab": {
     "base_uri": "https://localhost:8080/",
     "height": 51
    },
    "colab_type": "code",
    "id": "zOv6dk4olaOA",
    "outputId": "ed7fdc5c-b13d-496c-bedc-63b9f204d262"
   },
   "outputs": [
    {
     "name": "stdout",
     "output_type": "stream",
     "text": [
      "X_train2 shape: (60000, 28, 28) y_train2 shape: (60000,)\n",
      "X_test2 shape: (10000, 28, 28) y_test2 shape: (10000,)\n"
     ]
    }
   ],
   "source": [
    "print(\"X_train2 shape:\", X_train2.shape, \"y_train2 shape:\", y_train2.shape)\n",
    "print(\"X_test2 shape:\", X_test2.shape, \"y_test2 shape:\", y_test2.shape)"
   ]
  },
  {
   "cell_type": "code",
   "execution_count": 0,
   "metadata": {
    "colab": {},
    "colab_type": "code",
    "id": "XdGQOqeIfSKO"
   },
   "outputs": [],
   "source": [
    "# this function is used in Task 3 as well\n",
    "def show_image(X, y, labels, seed=None):\n",
    "  \"\"\" \n",
    "  This will show a new image from dataset each time the it is run and its label\n",
    "    X - ndarray, x data\n",
    "    y - ndarray, target\n",
    "    labels - dict, y labels\n",
    "  \"\"\"\n",
    "  # Optionally set seed\n",
    "  np.random.seed(seed=seed)\n",
    "  \n",
    "  # Random index\n",
    "  rand_idx = np.random.randint(0, high=y.shape[0])\n",
    "\n",
    "  # Get the label key to lookup label\n",
    "  label_key = y[rand_idx]\n",
    "\n",
    "  # Print the label for the index\n",
    "  print(f'Label for Index {rand_idx:,}: ', labels[label_key])\n",
    "\n",
    "  # Show the image for the index\n",
    "  plt.imshow(X[rand_idx])\n",
    "  plt.show()"
   ]
  },
  {
   "cell_type": "code",
   "execution_count": 0,
   "metadata": {
    "colab": {
     "base_uri": "https://localhost:8080/",
     "height": 824
    },
    "colab_type": "code",
    "id": "I2qmPxc97yhf",
    "outputId": "8393882e-121c-4979-8621-0959bc7d4fb1"
   },
   "outputs": [
    {
     "name": "stdout",
     "output_type": "stream",
     "text": [
      "Label for Index 4,462:  Pullover\n"
     ]
    },
    {
     "data": {
      "image/png": "[encoded data removed]",
      "text/plain": [
       "<Figure size 432x288 with 1 Axes>"
      ]
     },
     "metadata": {
      "tags": []
     },
     "output_type": "display_data"
    },
    {
     "name": "stdout",
     "output_type": "stream",
     "text": [
      "Label for Index 35,175:  Trouser\n"
     ]
    },
    {
     "data": {
      "image/png": "[encoded data removed]",
      "text/plain": [
       "<Figure size 432x288 with 1 Axes>"
      ]
     },
     "metadata": {
      "tags": []
     },
     "output_type": "display_data"
    },
    {
     "name": "stdout",
     "output_type": "stream",
     "text": [
      "Label for Index 17,855:  Coat\n"
     ]
    },
    {
     "data": {
      "image/png": "[encoded data removed]",
      "text/plain": [
       "<Figure size 432x288 with 1 Axes>"
      ]
     },
     "metadata": {
      "tags": []
     },
     "output_type": "display_data"
    }
   ],
   "source": [
    "# Fashion MNIST Label Descriptions\n",
    "fashion_labels = {\n",
    "    0: 'T-shirt/top',\n",
    "    1: 'Trouser',\n",
    "    2: 'Pullover',\n",
    "    3: 'Dress',\n",
    "    4: 'Coat',\n",
    "    5: 'Sandal',\n",
    "    6: 'Shirt',\n",
    "    7: 'Sneaker',\n",
    "    8: 'Bag',\n",
    "    9: 'Ankle boot',\n",
    "}\n",
    "\n",
    "for i in range(3):\n",
    "  show_image(X_train2, y_train2, fashion_labels)"
   ]
  },
  {
   "cell_type": "markdown",
   "metadata": {
    "colab_type": "text",
    "id": "ZrgXL6A1qsSO"
   },
   "source": [
    "Next I reshape and normalize the data:"
   ]
  },
  {
   "cell_type": "code",
   "execution_count": 0,
   "metadata": {
    "colab": {},
    "colab_type": "code",
    "id": "Lw2_8NDEqo8F"
   },
   "outputs": [],
   "source": [
    "X_train2 = X_train2.reshape(X_train2.shape[0], X_train2.shape[1] * X_train2.shape[2])\n",
    "X_test2 = X_test2.reshape(X_test2.shape[0], X_test2.shape[1] * X_test2.shape[2])\n",
    "\n",
    "X_train2 = X_train2.astype('float32') / 255\n",
    "X_test2 = X_test2.astype('float32') / 255"
   ]
  },
  {
   "cell_type": "markdown",
   "metadata": {
    "colab_type": "text",
    "id": "XP5PJdoPrA9w"
   },
   "source": [
    "And split the training set again to get a validation set of 10k samples for model selection (via trial and error as per Piazza @610):"
   ]
  },
  {
   "cell_type": "code",
   "execution_count": 0,
   "metadata": {
    "colab": {},
    "colab_type": "code",
    "id": "PaiNPnNmrBGz"
   },
   "outputs": [],
   "source": [
    "X_train2, X_val2, y_train2, y_val2 = train_test_split(X_train2, y_train2, test_size=10000, stratify=y_train2, random_state=0)"
   ]
  },
  {
   "cell_type": "markdown",
   "metadata": {
    "colab_type": "text",
    "id": "IMC5J0rktfoi"
   },
   "source": [
    "Like in Task 1, I one hot encode the target classes:"
   ]
  },
  {
   "cell_type": "code",
   "execution_count": 0,
   "metadata": {
    "colab": {},
    "colab_type": "code",
    "id": "DSEoguHetf2d"
   },
   "outputs": [],
   "source": [
    "# convert class vectors to binary class matrices\n",
    "y_train2 = keras.utils.to_categorical(y_train2, len(fashion_labels))\n",
    "y_val2 = keras.utils.to_categorical(y_val2, len(fashion_labels))\n",
    "y_test2 = keras.utils.to_categorical(y_test2, len(fashion_labels))\n"
   ]
  },
  {
   "cell_type": "code",
   "execution_count": 0,
   "metadata": {
    "colab": {
     "base_uri": "https://localhost:8080/",
     "height": 68
    },
    "colab_type": "code",
    "id": "G9eH7kiqrm9r",
    "outputId": "6a753216-7651-467a-9557-809bd0a70478"
   },
   "outputs": [
    {
     "name": "stdout",
     "output_type": "stream",
     "text": [
      "X_train2 shape: (50000, 784) y_train2 shape: (50000, 10)\n",
      "X_val2 shape: (10000, 784) y_val2 shape: (10000, 10)\n",
      "X_test2 shape: (10000, 784) y_test2 shape: (10000, 10)\n"
     ]
    }
   ],
   "source": [
    "print(\"X_train2 shape:\", X_train2.shape, \"y_train2 shape:\", y_train2.shape)\n",
    "print(\"X_val2 shape:\", X_val2.shape, \"y_val2 shape:\", y_val2.shape)\n",
    "print(\"X_test2 shape:\", X_test2.shape, \"y_test2 shape:\", y_test2.shape)"
   ]
  },
  {
   "cell_type": "markdown",
   "metadata": {
    "colab_type": "text",
    "id": "cxZ6Yiz8pUDV"
   },
   "source": [
    "#### Model (a): Vanilla"
   ]
  },
  {
   "cell_type": "code",
   "execution_count": 0,
   "metadata": {
    "colab": {},
    "colab_type": "code",
    "id": "ueTurj4Kf9bM"
   },
   "outputs": [],
   "source": [
    "model2a = Sequential([\n",
    "    Dense(1024, input_shape=(X_train2.shape[1], )),\n",
    "    Activation('relu'),\n",
    "    Dense(512),\n",
    "    Activation('relu'),\n",
    "    Dense(256),\n",
    "    Activation('relu'),\n",
    "    Dense(128),\n",
    "    Activation('relu'),\n",
    "    Dense(64),\n",
    "    Activation('relu'),\n",
    "    Dense(32),\n",
    "    Activation('relu'),\n",
    "    Dense(len(fashion_labels)),\n",
    "    Activation('softmax')\n",
    "])\n",
    "\n",
    "model2a.compile(optimizer='adam', loss='categorical_crossentropy', metrics=['accuracy'])\n"
   ]
  },
  {
   "cell_type": "code",
   "execution_count": 0,
   "metadata": {
    "colab": {
     "base_uri": "https://localhost:8080/",
     "height": 612
    },
    "colab_type": "code",
    "id": "OAY5Q42RrCZe",
    "outputId": "a9e93107-4c9d-447e-a6d1-f2a78b353138"
   },
   "outputs": [
    {
     "name": "stdout",
     "output_type": "stream",
     "text": [
      "_________________________________________________________________\n",
      "Layer (type)                 Output Shape              Param #   \n",
      "=================================================================\n",
      "dense_120 (Dense)            (None, 1024)              803840    \n",
      "_________________________________________________________________\n",
      "activation_101 (Activation)  (None, 1024)              0         \n",
      "_________________________________________________________________\n",
      "dense_121 (Dense)            (None, 512)               524800    \n",
      "_________________________________________________________________\n",
      "activation_102 (Activation)  (None, 512)               0         \n",
      "_________________________________________________________________\n",
      "dense_122 (Dense)            (None, 256)               131328    \n",
      "_________________________________________________________________\n",
      "activation_103 (Activation)  (None, 256)               0         \n",
      "_________________________________________________________________\n",
      "dense_123 (Dense)            (None, 128)               32896     \n",
      "_________________________________________________________________\n",
      "activation_104 (Activation)  (None, 128)               0         \n",
      "_________________________________________________________________\n",
      "dense_124 (Dense)            (None, 64)                8256      \n",
      "_________________________________________________________________\n",
      "activation_105 (Activation)  (None, 64)                0         \n",
      "_________________________________________________________________\n",
      "dense_125 (Dense)            (None, 32)                2080      \n",
      "_________________________________________________________________\n",
      "activation_106 (Activation)  (None, 32)                0         \n",
      "_________________________________________________________________\n",
      "dense_126 (Dense)            (None, 10)                330       \n",
      "_________________________________________________________________\n",
      "activation_107 (Activation)  (None, 10)                0         \n",
      "=================================================================\n",
      "Total params: 1,503,530\n",
      "Trainable params: 1,503,530\n",
      "Non-trainable params: 0\n",
      "_________________________________________________________________\n"
     ]
    }
   ],
   "source": [
    "model2a.summary()"
   ]
  },
  {
   "cell_type": "markdown",
   "metadata": {
    "colab_type": "text",
    "id": "aEqoz-ZzpWm1"
   },
   "source": [
    "#### Model (b): Dropout"
   ]
  },
  {
   "cell_type": "code",
   "execution_count": 0,
   "metadata": {
    "colab": {},
    "colab_type": "code",
    "id": "cVThDM6Hultw"
   },
   "outputs": [],
   "source": [
    "model2b = Sequential([\n",
    "    Dense(1024, input_shape=(X_train2.shape[1], )),\n",
    "    Activation('relu'),\n",
    "    Dropout(rate=.5),\n",
    "    Dense(512),\n",
    "    Activation('relu'),\n",
    "    Dropout(rate=.4),\n",
    "    Dense(256),\n",
    "    Activation('relu'),\n",
    "    Dropout(rate=.3),\n",
    "    Dense(128),\n",
    "    Activation('relu'),\n",
    "    Dropout(rate=.2),\n",
    "    Dense(64),\n",
    "    Activation('relu'),\n",
    "    Dropout(rate=.1),\n",
    "    Dense(32),\n",
    "    Activation('relu'),\n",
    "    Dropout(rate=.05),\n",
    "    Dense(len(fashion_labels)),\n",
    "    Activation('softmax')\n",
    "])\n",
    "\n",
    "model2b.compile(optimizer='adam', loss='categorical_crossentropy', metrics=['accuracy'])\n"
   ]
  },
  {
   "cell_type": "code",
   "execution_count": 0,
   "metadata": {
    "colab": {
     "base_uri": "https://localhost:8080/",
     "height": 816
    },
    "colab_type": "code",
    "id": "_U71UxfarGks",
    "outputId": "768303cb-6d17-46a4-c194-29264fd59d2c"
   },
   "outputs": [
    {
     "name": "stdout",
     "output_type": "stream",
     "text": [
      "_________________________________________________________________\n",
      "Layer (type)                 Output Shape              Param #   \n",
      "=================================================================\n",
      "dense_127 (Dense)            (None, 1024)              803840    \n",
      "_________________________________________________________________\n",
      "activation_108 (Activation)  (None, 1024)              0         \n",
      "_________________________________________________________________\n",
      "dropout_7 (Dropout)          (None, 1024)              0         \n",
      "_________________________________________________________________\n",
      "dense_128 (Dense)            (None, 512)               524800    \n",
      "_________________________________________________________________\n",
      "activation_109 (Activation)  (None, 512)               0         \n",
      "_________________________________________________________________\n",
      "dropout_8 (Dropout)          (None, 512)               0         \n",
      "_________________________________________________________________\n",
      "dense_129 (Dense)            (None, 256)               131328    \n",
      "_________________________________________________________________\n",
      "activation_110 (Activation)  (None, 256)               0         \n",
      "_________________________________________________________________\n",
      "dropout_9 (Dropout)          (None, 256)               0         \n",
      "_________________________________________________________________\n",
      "dense_130 (Dense)            (None, 128)               32896     \n",
      "_________________________________________________________________\n",
      "activation_111 (Activation)  (None, 128)               0         \n",
      "_________________________________________________________________\n",
      "dropout_10 (Dropout)         (None, 128)               0         \n",
      "_________________________________________________________________\n",
      "dense_131 (Dense)            (None, 64)                8256      \n",
      "_________________________________________________________________\n",
      "activation_112 (Activation)  (None, 64)                0         \n",
      "_________________________________________________________________\n",
      "dropout_11 (Dropout)         (None, 64)                0         \n",
      "_________________________________________________________________\n",
      "dense_132 (Dense)            (None, 32)                2080      \n",
      "_________________________________________________________________\n",
      "activation_113 (Activation)  (None, 32)                0         \n",
      "_________________________________________________________________\n",
      "dropout_12 (Dropout)         (None, 32)                0         \n",
      "_________________________________________________________________\n",
      "dense_133 (Dense)            (None, 10)                330       \n",
      "_________________________________________________________________\n",
      "activation_114 (Activation)  (None, 10)                0         \n",
      "=================================================================\n",
      "Total params: 1,503,530\n",
      "Trainable params: 1,503,530\n",
      "Non-trainable params: 0\n",
      "_________________________________________________________________\n"
     ]
    }
   ],
   "source": [
    "model2b.summary()"
   ]
  },
  {
   "cell_type": "markdown",
   "metadata": {
    "colab_type": "text",
    "id": "NDNJi7W6pWsF"
   },
   "source": [
    "#### Model (c): Batch Normalization & ResNet\n"
   ]
  },
  {
   "cell_type": "code",
   "execution_count": 0,
   "metadata": {
    "colab": {},
    "colab_type": "code",
    "id": "XHik_jFyumFI"
   },
   "outputs": [],
   "source": [
    "# Functional Graph\n",
    "inputs = Input(shape=(X_train2.shape[1],))\n",
    "x1 = Dense(1024)(inputs)\n",
    "b1 = BatchNormalization()(x1)\n",
    "a1 = Activation('relu')(b1)\n",
    "x2 = Dense(1024)(a1)\n",
    "b2 = BatchNormalization()(x2)\n",
    "a2 = Activation('relu')(b2)\n",
    "r1 = Add()([a1, a2])\n",
    "\n",
    "x3 = Dense(512)(r1)\n",
    "b3 = BatchNormalization()(x3)\n",
    "a3 = Activation('relu')(b3)\n",
    "x4 = Dense(512, activation='relu')(a3)\n",
    "b4 = BatchNormalization()(x4)\n",
    "a4 = Activation('relu')(b4)\n",
    "r2 = Add()([a3, a4])\n",
    "\n",
    "predictions = Dense(len(fashion_labels), activation='softmax')(r2)\n",
    "model2c = Model(inputs=inputs, outputs=predictions)\n",
    "model2c.compile(optimizer='adam', loss='categorical_crossentropy', metrics=['accuracy'])\n"
   ]
  },
  {
   "cell_type": "code",
   "execution_count": 0,
   "metadata": {
    "colab": {
     "base_uri": "https://localhost:8080/",
     "height": 714
    },
    "colab_type": "code",
    "id": "vNO5o5F6rI20",
    "outputId": "f8106b30-e1e7-4cca-9289-1a9dba169d12"
   },
   "outputs": [
    {
     "name": "stdout",
     "output_type": "stream",
     "text": [
      "__________________________________________________________________________________________________\n",
      "Layer (type)                    Output Shape         Param #     Connected to                     \n",
      "==================================================================================================\n",
      "input_13 (InputLayer)           (None, 784)          0                                            \n",
      "__________________________________________________________________________________________________\n",
      "dense_173 (Dense)               (None, 1024)         803840      input_13[0][0]                   \n",
      "__________________________________________________________________________________________________\n",
      "batch_normalization_79 (BatchNo (None, 1024)         4096        dense_173[0][0]                  \n",
      "__________________________________________________________________________________________________\n",
      "activation_151 (Activation)     (None, 1024)         0           batch_normalization_79[0][0]     \n",
      "__________________________________________________________________________________________________\n",
      "dense_174 (Dense)               (None, 1024)         1049600     activation_151[0][0]             \n",
      "__________________________________________________________________________________________________\n",
      "batch_normalization_80 (BatchNo (None, 1024)         4096        dense_174[0][0]                  \n",
      "__________________________________________________________________________________________________\n",
      "activation_152 (Activation)     (None, 1024)         0           batch_normalization_80[0][0]     \n",
      "__________________________________________________________________________________________________\n",
      "add_39 (Add)                    (None, 1024)         0           activation_151[0][0]             \n",
      "                                                                 activation_152[0][0]             \n",
      "__________________________________________________________________________________________________\n",
      "dense_175 (Dense)               (None, 512)          524800      add_39[0][0]                     \n",
      "__________________________________________________________________________________________________\n",
      "batch_normalization_81 (BatchNo (None, 512)          2048        dense_175[0][0]                  \n",
      "__________________________________________________________________________________________________\n",
      "activation_153 (Activation)     (None, 512)          0           batch_normalization_81[0][0]     \n",
      "__________________________________________________________________________________________________\n",
      "dense_176 (Dense)               (None, 512)          262656      activation_153[0][0]             \n",
      "__________________________________________________________________________________________________\n",
      "batch_normalization_82 (BatchNo (None, 512)          2048        dense_176[0][0]                  \n",
      "__________________________________________________________________________________________________\n",
      "activation_154 (Activation)     (None, 512)          0           batch_normalization_82[0][0]     \n",
      "__________________________________________________________________________________________________\n",
      "add_40 (Add)                    (None, 512)          0           activation_153[0][0]             \n",
      "                                                                 activation_154[0][0]             \n",
      "__________________________________________________________________________________________________\n",
      "dense_177 (Dense)               (None, 10)           5130        add_40[0][0]                     \n",
      "==================================================================================================\n",
      "Total params: 2,658,314\n",
      "Trainable params: 2,652,170\n",
      "Non-trainable params: 6,144\n",
      "__________________________________________________________________________________________________\n"
     ]
    }
   ],
   "source": [
    "model2c.summary()"
   ]
  },
  {
   "cell_type": "markdown",
   "metadata": {
    "colab_type": "text",
    "id": "n-C-GNcrF1Ba"
   },
   "source": [
    "#### Training"
   ]
  },
  {
   "cell_type": "markdown",
   "metadata": {
    "colab_type": "text",
    "id": "oJou3ECPi_5t"
   },
   "source": [
    "First I create a function for computing learning curves, both for training and validation accuracy vs epoch for an arbitrary dict of trained models:"
   ]
  },
  {
   "cell_type": "code",
   "execution_count": 0,
   "metadata": {
    "colab": {},
    "colab_type": "code",
    "id": "_jYqsgxq6-9L"
   },
   "outputs": [],
   "source": [
    "# this function is used in Task 3 as well\n",
    "def learning_curves(models, x_field='epoch', y_field='acc', title='Learning Curves', **kwargs):\n",
    "  \"\"\" \n",
    "    plots learning curve for multiple models\n",
    "    \n",
    "    models: a dict containing trained models keyed to model names \n",
    "    x_field: a string, must be a key in model.history.__dict__ for accessing x axis data\n",
    "    y_field: a string, must be a key in model.history.history for accessing y axis data\n",
    "    \n",
    "    note we plot the training and validation score, so y_field must must be a key in model.history.history \n",
    "    but \"val_y_field\" must also be a key in model.history.history\n",
    "  \"\"\"\n",
    "\n",
    "  plt.figure(**kwargs)\n",
    "    \n",
    "  for name, model in models.items():\n",
    "    plt.plot(model.history.__dict__[x_field], model.history.history[y_field], label=f'{name} Train')\n",
    "    plt.plot(model.history.__dict__[x_field], model.history.history[f'val_{y_field}'], label=f'{name} Val')\n",
    "\n",
    "\n",
    "  plt.xlabel(x_field)\n",
    "  plt.ylabel(y_field)\n",
    "  plt.title(title)\n",
    "  plt.legend()\n",
    "  plt.show()"
   ]
  },
  {
   "cell_type": "code",
   "execution_count": 0,
   "metadata": {
    "colab": {
     "base_uri": "https://localhost:8080/",
     "height": 1751
    },
    "colab_type": "code",
    "id": "XeCtxZBXFyAY",
    "outputId": "e12bf1e7-3c17-4257-8625-d815cd96e1ee"
   },
   "outputs": [
    {
     "name": "stdout",
     "output_type": "stream",
     "text": [
      "Train on 50000 samples, validate on 10000 samples\n",
      "Epoch 1/50\n",
      "50000/50000 [==============================] - 7s 134us/step - loss: 1.5727 - acc: 0.4816 - val_loss: 0.8582 - val_acc: 0.6740\n",
      "Epoch 2/50\n",
      "50000/50000 [==============================] - 0s 7us/step - loss: 0.8173 - acc: 0.7033 - val_loss: 0.6616 - val_acc: 0.7637\n",
      "Epoch 3/50\n",
      "50000/50000 [==============================] - 0s 6us/step - loss: 0.6075 - acc: 0.7905 - val_loss: 0.5471 - val_acc: 0.8051\n",
      "Epoch 4/50\n",
      "50000/50000 [==============================] - 0s 6us/step - loss: 0.5194 - acc: 0.8185 - val_loss: 0.5301 - val_acc: 0.8056\n",
      "Epoch 5/50\n",
      "50000/50000 [==============================] - 0s 6us/step - loss: 0.4790 - acc: 0.8310 - val_loss: 0.4724 - val_acc: 0.8247\n",
      "Epoch 6/50\n",
      "50000/50000 [==============================] - 0s 6us/step - loss: 0.4371 - acc: 0.8475 - val_loss: 0.4267 - val_acc: 0.8458\n",
      "Epoch 7/50\n",
      "50000/50000 [==============================] - 0s 6us/step - loss: 0.4077 - acc: 0.8577 - val_loss: 0.4089 - val_acc: 0.8508\n",
      "Epoch 8/50\n",
      "50000/50000 [==============================] - 0s 6us/step - loss: 0.3965 - acc: 0.8592 - val_loss: 0.3971 - val_acc: 0.8571\n",
      "Epoch 9/50\n",
      "50000/50000 [==============================] - 0s 6us/step - loss: 0.3872 - acc: 0.8620 - val_loss: 0.4108 - val_acc: 0.8500\n",
      "Epoch 10/50\n",
      "50000/50000 [==============================] - 0s 6us/step - loss: 0.3665 - acc: 0.8694 - val_loss: 0.3634 - val_acc: 0.8689\n",
      "Epoch 11/50\n",
      "50000/50000 [==============================] - 0s 6us/step - loss: 0.3470 - acc: 0.8767 - val_loss: 0.3586 - val_acc: 0.8724\n",
      "Epoch 12/50\n",
      "50000/50000 [==============================] - 0s 6us/step - loss: 0.3360 - acc: 0.8797 - val_loss: 0.3388 - val_acc: 0.8761\n",
      "Epoch 13/50\n",
      "50000/50000 [==============================] - 0s 6us/step - loss: 0.3235 - acc: 0.8842 - val_loss: 0.3458 - val_acc: 0.8726\n",
      "Epoch 14/50\n",
      "50000/50000 [==============================] - 0s 6us/step - loss: 0.3181 - acc: 0.8853 - val_loss: 0.3506 - val_acc: 0.8743\n",
      "Epoch 15/50\n",
      "50000/50000 [==============================] - 0s 6us/step - loss: 0.3204 - acc: 0.8855 - val_loss: 0.3780 - val_acc: 0.8566\n",
      "Epoch 16/50\n",
      "50000/50000 [==============================] - 0s 6us/step - loss: 0.3300 - acc: 0.8806 - val_loss: 0.3395 - val_acc: 0.8756\n",
      "Epoch 17/50\n",
      "50000/50000 [==============================] - 0s 6us/step - loss: 0.3090 - acc: 0.8873 - val_loss: 0.3368 - val_acc: 0.8768\n",
      "Epoch 18/50\n",
      "50000/50000 [==============================] - 0s 6us/step - loss: 0.2877 - acc: 0.8959 - val_loss: 0.3144 - val_acc: 0.8832\n",
      "Epoch 19/50\n",
      "50000/50000 [==============================] - 0s 6us/step - loss: 0.2754 - acc: 0.8999 - val_loss: 0.3078 - val_acc: 0.8871\n",
      "Epoch 20/50\n",
      "50000/50000 [==============================] - 0s 6us/step - loss: 0.2641 - acc: 0.9039 - val_loss: 0.3047 - val_acc: 0.8881\n",
      "Epoch 21/50\n",
      "50000/50000 [==============================] - 0s 6us/step - loss: 0.2575 - acc: 0.9061 - val_loss: 0.3078 - val_acc: 0.8878\n",
      "Epoch 22/50\n",
      "50000/50000 [==============================] - 0s 6us/step - loss: 0.2572 - acc: 0.9059 - val_loss: 0.3153 - val_acc: 0.8830\n",
      "Epoch 23/50\n",
      "50000/50000 [==============================] - 0s 6us/step - loss: 0.2545 - acc: 0.9065 - val_loss: 0.3016 - val_acc: 0.8906\n",
      "Epoch 24/50\n",
      "50000/50000 [==============================] - 0s 6us/step - loss: 0.2522 - acc: 0.9075 - val_loss: 0.2949 - val_acc: 0.8916\n",
      "Epoch 25/50\n",
      "50000/50000 [==============================] - 0s 6us/step - loss: 0.2461 - acc: 0.9081 - val_loss: 0.3162 - val_acc: 0.8855\n",
      "Epoch 26/50\n",
      "50000/50000 [==============================] - 0s 6us/step - loss: 0.2462 - acc: 0.9096 - val_loss: 0.2963 - val_acc: 0.8918\n",
      "Epoch 27/50\n",
      "50000/50000 [==============================] - 0s 6us/step - loss: 0.2280 - acc: 0.9167 - val_loss: 0.2921 - val_acc: 0.8916\n",
      "Epoch 28/50\n",
      "50000/50000 [==============================] - 0s 6us/step - loss: 0.2197 - acc: 0.9192 - val_loss: 0.2916 - val_acc: 0.8961\n",
      "Epoch 29/50\n",
      "50000/50000 [==============================] - 0s 6us/step - loss: 0.2194 - acc: 0.9196 - val_loss: 0.3168 - val_acc: 0.8856\n",
      "Epoch 30/50\n",
      "50000/50000 [==============================] - 0s 6us/step - loss: 0.2216 - acc: 0.9180 - val_loss: 0.2888 - val_acc: 0.8946\n",
      "Epoch 31/50\n",
      "50000/50000 [==============================] - 0s 6us/step - loss: 0.2157 - acc: 0.9193 - val_loss: 0.3200 - val_acc: 0.8856\n",
      "Epoch 32/50\n",
      "50000/50000 [==============================] - 0s 6us/step - loss: 0.2120 - acc: 0.9208 - val_loss: 0.2961 - val_acc: 0.8944\n",
      "Epoch 33/50\n",
      "50000/50000 [==============================] - 0s 6us/step - loss: 0.2078 - acc: 0.9223 - val_loss: 0.2814 - val_acc: 0.8985\n",
      "Epoch 34/50\n",
      "50000/50000 [==============================] - 0s 6us/step - loss: 0.1886 - acc: 0.9303 - val_loss: 0.2856 - val_acc: 0.8995\n",
      "Epoch 35/50\n",
      "50000/50000 [==============================] - 0s 6us/step - loss: 0.1893 - acc: 0.9297 - val_loss: 0.2767 - val_acc: 0.9033\n",
      "Epoch 36/50\n",
      "50000/50000 [==============================] - 0s 6us/step - loss: 0.1905 - acc: 0.9295 - val_loss: 0.2960 - val_acc: 0.8944\n",
      "Epoch 37/50\n",
      "50000/50000 [==============================] - 0s 6us/step - loss: 0.1936 - acc: 0.9277 - val_loss: 0.2903 - val_acc: 0.8992\n",
      "Epoch 38/50\n",
      "50000/50000 [==============================] - 0s 6us/step - loss: 0.1924 - acc: 0.9277 - val_loss: 0.2901 - val_acc: 0.9006\n",
      "Epoch 39/50\n",
      "50000/50000 [==============================] - 0s 6us/step - loss: 0.1751 - acc: 0.9355 - val_loss: 0.2921 - val_acc: 0.9003\n",
      "Epoch 40/50\n",
      "50000/50000 [==============================] - 0s 6us/step - loss: 0.1678 - acc: 0.9387 - val_loss: 0.2853 - val_acc: 0.9013\n",
      "Epoch 41/50\n",
      "50000/50000 [==============================] - 0s 6us/step - loss: 0.1668 - acc: 0.9387 - val_loss: 0.2961 - val_acc: 0.8989\n",
      "Epoch 42/50\n",
      "50000/50000 [==============================] - 0s 6us/step - loss: 0.1657 - acc: 0.9386 - val_loss: 0.2930 - val_acc: 0.8991\n",
      "Epoch 43/50\n",
      "50000/50000 [==============================] - 0s 6us/step - loss: 0.1611 - acc: 0.9395 - val_loss: 0.3691 - val_acc: 0.8714\n",
      "Epoch 44/50\n",
      "50000/50000 [==============================] - 0s 6us/step - loss: 0.1927 - acc: 0.9263 - val_loss: 0.3071 - val_acc: 0.8985\n",
      "Epoch 45/50\n",
      "50000/50000 [==============================] - 0s 6us/step - loss: 0.1607 - acc: 0.9413 - val_loss: 0.2991 - val_acc: 0.9025\n",
      "Epoch 46/50\n",
      "50000/50000 [==============================] - 0s 6us/step - loss: 0.1524 - acc: 0.9439 - val_loss: 0.2970 - val_acc: 0.8971\n",
      "Epoch 47/50\n",
      "50000/50000 [==============================] - 0s 6us/step - loss: 0.1483 - acc: 0.9459 - val_loss: 0.3443 - val_acc: 0.8845\n",
      "Epoch 48/50\n",
      "50000/50000 [==============================] - 0s 6us/step - loss: 0.1469 - acc: 0.9448 - val_loss: 0.3066 - val_acc: 0.8987\n",
      "Epoch 49/50\n",
      "50000/50000 [==============================] - 0s 6us/step - loss: 0.1398 - acc: 0.9486 - val_loss: 0.3149 - val_acc: 0.8972\n",
      "Epoch 50/50\n",
      "50000/50000 [==============================] - 0s 6us/step - loss: 0.1273 - acc: 0.9543 - val_loss: 0.3205 - val_acc: 0.8987\n"
     ]
    },
    {
     "data": {
      "text/plain": [
       "<keras.callbacks.History at 0x7f789e8a8ac8>"
      ]
     },
     "execution_count": 64,
     "metadata": {
      "tags": []
     },
     "output_type": "execute_result"
    }
   ],
   "source": [
    "model2a.fit(X_train2, y_train2, batch_size=5000, epochs=50, validation_data=(X_val2, y_val2), verbose=1)"
   ]
  },
  {
   "cell_type": "code",
   "execution_count": 0,
   "metadata": {
    "colab": {
     "base_uri": "https://localhost:8080/",
     "height": 513
    },
    "colab_type": "code",
    "id": "goYgblKl9ZRL",
    "outputId": "4eefbd3d-0214-4adb-ed25-273ad6a50827"
   },
   "outputs": [
    {
     "data": {
      "image/png": "[encoded data removed]",
      "text/plain": [
       "<Figure size 864x576 with 1 Axes>"
      ]
     },
     "metadata": {
      "tags": []
     },
     "output_type": "display_data"
    }
   ],
   "source": [
    "learning_curves({'Vanilla': model2a}, **{'figsize': (12,8)}, title='Vanilla MLP')"
   ]
  },
  {
   "cell_type": "code",
   "execution_count": 0,
   "metadata": {
    "colab": {
     "base_uri": "https://localhost:8080/",
     "height": 1751
    },
    "colab_type": "code",
    "id": "KkA4DnWqFyDF",
    "outputId": "06f9f85a-4450-4086-86f1-8cf7ed703c6e"
   },
   "outputs": [
    {
     "name": "stdout",
     "output_type": "stream",
     "text": [
      "Train on 50000 samples, validate on 10000 samples\n",
      "Epoch 1/50\n",
      "50000/50000 [==============================] - 7s 131us/step - loss: 1.8919 - acc: 0.3046 - val_loss: 1.1234 - val_acc: 0.5681\n",
      "Epoch 2/50\n",
      "50000/50000 [==============================] - 0s 7us/step - loss: 1.1890 - acc: 0.5591 - val_loss: 0.7940 - val_acc: 0.7087\n",
      "Epoch 3/50\n",
      "50000/50000 [==============================] - 0s 7us/step - loss: 0.8894 - acc: 0.6798 - val_loss: 0.6505 - val_acc: 0.7588\n",
      "Epoch 4/50\n",
      "50000/50000 [==============================] - 0s 7us/step - loss: 0.7249 - acc: 0.7435 - val_loss: 0.5517 - val_acc: 0.7946\n",
      "Epoch 5/50\n",
      "50000/50000 [==============================] - 0s 7us/step - loss: 0.6230 - acc: 0.7817 - val_loss: 0.4896 - val_acc: 0.8237\n",
      "Epoch 6/50\n",
      "50000/50000 [==============================] - 0s 7us/step - loss: 0.5627 - acc: 0.8064 - val_loss: 0.4498 - val_acc: 0.8399\n",
      "Epoch 7/50\n",
      "50000/50000 [==============================] - 0s 7us/step - loss: 0.5132 - acc: 0.8227 - val_loss: 0.4242 - val_acc: 0.8475\n",
      "Epoch 8/50\n",
      "50000/50000 [==============================] - 0s 7us/step - loss: 0.4813 - acc: 0.8370 - val_loss: 0.3904 - val_acc: 0.8589\n",
      "Epoch 9/50\n",
      "50000/50000 [==============================] - 0s 7us/step - loss: 0.4542 - acc: 0.8447 - val_loss: 0.3732 - val_acc: 0.8658\n",
      "Epoch 10/50\n",
      "50000/50000 [==============================] - 0s 7us/step - loss: 0.4319 - acc: 0.8534 - val_loss: 0.3646 - val_acc: 0.8713\n",
      "Epoch 11/50\n",
      "50000/50000 [==============================] - 0s 7us/step - loss: 0.4205 - acc: 0.8558 - val_loss: 0.3564 - val_acc: 0.8729\n",
      "Epoch 12/50\n",
      "50000/50000 [==============================] - 0s 7us/step - loss: 0.4071 - acc: 0.8614 - val_loss: 0.3461 - val_acc: 0.8752\n",
      "Epoch 13/50\n",
      "50000/50000 [==============================] - 0s 7us/step - loss: 0.3922 - acc: 0.8645 - val_loss: 0.3465 - val_acc: 0.8753\n",
      "Epoch 14/50\n",
      "50000/50000 [==============================] - 0s 7us/step - loss: 0.3808 - acc: 0.8687 - val_loss: 0.3324 - val_acc: 0.8796\n",
      "Epoch 15/50\n",
      "50000/50000 [==============================] - 0s 7us/step - loss: 0.3725 - acc: 0.8723 - val_loss: 0.3345 - val_acc: 0.8793\n",
      "Epoch 16/50\n",
      "50000/50000 [==============================] - 0s 7us/step - loss: 0.3638 - acc: 0.8747 - val_loss: 0.3295 - val_acc: 0.8794\n",
      "Epoch 17/50\n",
      "50000/50000 [==============================] - 0s 7us/step - loss: 0.3592 - acc: 0.8762 - val_loss: 0.3221 - val_acc: 0.8855\n",
      "Epoch 18/50\n",
      "50000/50000 [==============================] - 0s 7us/step - loss: 0.3490 - acc: 0.8797 - val_loss: 0.3244 - val_acc: 0.8819\n",
      "Epoch 19/50\n",
      "50000/50000 [==============================] - 0s 7us/step - loss: 0.3436 - acc: 0.8794 - val_loss: 0.3152 - val_acc: 0.8869\n",
      "Epoch 20/50\n",
      "50000/50000 [==============================] - 0s 7us/step - loss: 0.3361 - acc: 0.8843 - val_loss: 0.3103 - val_acc: 0.8880\n",
      "Epoch 21/50\n",
      "50000/50000 [==============================] - 0s 7us/step - loss: 0.3313 - acc: 0.8854 - val_loss: 0.3088 - val_acc: 0.8877\n",
      "Epoch 22/50\n",
      "50000/50000 [==============================] - 0s 7us/step - loss: 0.3273 - acc: 0.8861 - val_loss: 0.3047 - val_acc: 0.8921\n",
      "Epoch 23/50\n",
      "50000/50000 [==============================] - 0s 7us/step - loss: 0.3261 - acc: 0.8860 - val_loss: 0.3065 - val_acc: 0.8895\n",
      "Epoch 24/50\n",
      "50000/50000 [==============================] - 0s 7us/step - loss: 0.3192 - acc: 0.8878 - val_loss: 0.3080 - val_acc: 0.8922\n",
      "Epoch 25/50\n",
      "50000/50000 [==============================] - 0s 7us/step - loss: 0.3229 - acc: 0.8855 - val_loss: 0.3066 - val_acc: 0.8908\n",
      "Epoch 26/50\n",
      "50000/50000 [==============================] - 0s 7us/step - loss: 0.3163 - acc: 0.8891 - val_loss: 0.2964 - val_acc: 0.8933\n",
      "Epoch 27/50\n",
      "50000/50000 [==============================] - 0s 7us/step - loss: 0.3108 - acc: 0.8894 - val_loss: 0.3001 - val_acc: 0.8943\n",
      "Epoch 28/50\n",
      "50000/50000 [==============================] - 0s 7us/step - loss: 0.3089 - acc: 0.8905 - val_loss: 0.3027 - val_acc: 0.8909\n",
      "Epoch 29/50\n",
      "50000/50000 [==============================] - 0s 7us/step - loss: 0.3008 - acc: 0.8948 - val_loss: 0.2978 - val_acc: 0.8949\n",
      "Epoch 30/50\n",
      "50000/50000 [==============================] - 0s 7us/step - loss: 0.2984 - acc: 0.8941 - val_loss: 0.3023 - val_acc: 0.8939\n",
      "Epoch 31/50\n",
      "50000/50000 [==============================] - 0s 7us/step - loss: 0.2974 - acc: 0.8944 - val_loss: 0.2946 - val_acc: 0.8962\n",
      "Epoch 32/50\n",
      "50000/50000 [==============================] - 0s 6us/step - loss: 0.2929 - acc: 0.8967 - val_loss: 0.2947 - val_acc: 0.8942\n",
      "Epoch 33/50\n",
      "50000/50000 [==============================] - 0s 7us/step - loss: 0.2913 - acc: 0.8961 - val_loss: 0.2956 - val_acc: 0.8953\n",
      "Epoch 34/50\n",
      "50000/50000 [==============================] - 0s 7us/step - loss: 0.2909 - acc: 0.8978 - val_loss: 0.2957 - val_acc: 0.8956\n",
      "Epoch 35/50\n",
      "50000/50000 [==============================] - 0s 7us/step - loss: 0.2843 - acc: 0.8985 - val_loss: 0.2947 - val_acc: 0.8957\n",
      "Epoch 36/50\n",
      "50000/50000 [==============================] - 0s 7us/step - loss: 0.2871 - acc: 0.8979 - val_loss: 0.2939 - val_acc: 0.8963\n",
      "Epoch 37/50\n",
      "50000/50000 [==============================] - 0s 7us/step - loss: 0.2832 - acc: 0.8991 - val_loss: 0.2893 - val_acc: 0.8972\n",
      "Epoch 38/50\n",
      "50000/50000 [==============================] - 0s 7us/step - loss: 0.2784 - acc: 0.9019 - val_loss: 0.2926 - val_acc: 0.8984\n",
      "Epoch 39/50\n",
      "50000/50000 [==============================] - 0s 7us/step - loss: 0.2755 - acc: 0.9006 - val_loss: 0.2916 - val_acc: 0.8983\n",
      "Epoch 40/50\n",
      "50000/50000 [==============================] - 0s 7us/step - loss: 0.2760 - acc: 0.9021 - val_loss: 0.2950 - val_acc: 0.8967\n",
      "Epoch 41/50\n",
      "50000/50000 [==============================] - 0s 7us/step - loss: 0.2767 - acc: 0.9017 - val_loss: 0.2870 - val_acc: 0.8988\n",
      "Epoch 42/50\n",
      "50000/50000 [==============================] - 0s 7us/step - loss: 0.2717 - acc: 0.9037 - val_loss: 0.2897 - val_acc: 0.8981\n",
      "Epoch 43/50\n",
      "50000/50000 [==============================] - 0s 7us/step - loss: 0.2732 - acc: 0.9029 - val_loss: 0.2911 - val_acc: 0.8984\n",
      "Epoch 44/50\n",
      "50000/50000 [==============================] - 0s 7us/step - loss: 0.2709 - acc: 0.9038 - val_loss: 0.2874 - val_acc: 0.8992\n",
      "Epoch 45/50\n",
      "50000/50000 [==============================] - 0s 7us/step - loss: 0.2671 - acc: 0.9040 - val_loss: 0.2862 - val_acc: 0.8989\n",
      "Epoch 46/50\n",
      "50000/50000 [==============================] - 0s 7us/step - loss: 0.2632 - acc: 0.9059 - val_loss: 0.2865 - val_acc: 0.9000\n",
      "Epoch 47/50\n",
      "50000/50000 [==============================] - 0s 7us/step - loss: 0.2649 - acc: 0.9050 - val_loss: 0.2877 - val_acc: 0.9008\n",
      "Epoch 48/50\n",
      "50000/50000 [==============================] - 0s 7us/step - loss: 0.2672 - acc: 0.9055 - val_loss: 0.2846 - val_acc: 0.9007\n",
      "Epoch 49/50\n",
      "50000/50000 [==============================] - 0s 7us/step - loss: 0.2618 - acc: 0.9062 - val_loss: 0.2832 - val_acc: 0.9009\n",
      "Epoch 50/50\n",
      "50000/50000 [==============================] - 0s 7us/step - loss: 0.2635 - acc: 0.9069 - val_loss: 0.2857 - val_acc: 0.8985\n"
     ]
    },
    {
     "data": {
      "text/plain": [
       "<keras.callbacks.History at 0x7f789d3d3eb8>"
      ]
     },
     "execution_count": 66,
     "metadata": {
      "tags": []
     },
     "output_type": "execute_result"
    }
   ],
   "source": [
    "model2b.fit(X_train2, y_train2, batch_size=5000, epochs=50, validation_data=(X_val2, y_val2), verbose=1)"
   ]
  },
  {
   "cell_type": "code",
   "execution_count": 0,
   "metadata": {
    "colab": {
     "base_uri": "https://localhost:8080/",
     "height": 513
    },
    "colab_type": "code",
    "id": "_CpgKzq_9JKF",
    "outputId": "b9a785d8-10fd-44c0-da03-5b7f6bed25fc"
   },
   "outputs": [
    {
     "data": {
      "image/png": "[encoded data removed]",
      "text/plain": [
       "<Figure size 864x576 with 1 Axes>"
      ]
     },
     "metadata": {
      "tags": []
     },
     "output_type": "display_data"
    }
   ],
   "source": [
    "learning_curves({'Dropout': model2b}, **{'figsize': (12,8)}, title='Dropout MLP')"
   ]
  },
  {
   "cell_type": "code",
   "execution_count": 0,
   "metadata": {
    "colab": {
     "base_uri": "https://localhost:8080/",
     "height": 1771
    },
    "colab_type": "code",
    "id": "Tbbfq55YwCOw",
    "outputId": "96af9bbe-831f-46bd-9583-d4d40056ff6d"
   },
   "outputs": [
    {
     "name": "stdout",
     "output_type": "stream",
     "text": [
      "Train on 50000 samples, validate on 10000 samples\n",
      "Epoch 1/50\n",
      "50000/50000 [==============================] - 10s 204us/step - loss: 0.9670 - acc: 0.7221 - val_loss: 0.7883 - val_acc: 0.7459\n",
      "Epoch 2/50\n",
      "50000/50000 [==============================] - 0s 10us/step - loss: 0.3858 - acc: 0.8609 - val_loss: 0.6074 - val_acc: 0.7942\n",
      "Epoch 3/50\n",
      "50000/50000 [==============================] - 0s 10us/step - loss: 0.3178 - acc: 0.8847 - val_loss: 0.4703 - val_acc: 0.8230\n",
      "Epoch 4/50\n",
      "50000/50000 [==============================] - 0s 10us/step - loss: 0.2759 - acc: 0.8981 - val_loss: 0.3619 - val_acc: 0.8659\n",
      "Epoch 5/50\n",
      "50000/50000 [==============================] - 0s 10us/step - loss: 0.2426 - acc: 0.9098 - val_loss: 0.3441 - val_acc: 0.8720\n",
      "Epoch 6/50\n",
      "50000/50000 [==============================] - 0s 10us/step - loss: 0.2101 - acc: 0.9235 - val_loss: 0.3220 - val_acc: 0.8859\n",
      "Epoch 7/50\n",
      "50000/50000 [==============================] - 1s 10us/step - loss: 0.1819 - acc: 0.9351 - val_loss: 0.3270 - val_acc: 0.8793\n",
      "Epoch 8/50\n",
      "50000/50000 [==============================] - 1s 10us/step - loss: 0.1593 - acc: 0.9437 - val_loss: 0.3226 - val_acc: 0.8830\n",
      "Epoch 9/50\n",
      "50000/50000 [==============================] - 0s 10us/step - loss: 0.1337 - acc: 0.9548 - val_loss: 0.3281 - val_acc: 0.8821\n",
      "Epoch 10/50\n",
      "50000/50000 [==============================] - 1s 10us/step - loss: 0.1092 - acc: 0.9651 - val_loss: 0.3321 - val_acc: 0.8790\n",
      "Epoch 11/50\n",
      "50000/50000 [==============================] - 0s 10us/step - loss: 0.0975 - acc: 0.9678 - val_loss: 0.3230 - val_acc: 0.8852\n",
      "Epoch 12/50\n",
      "50000/50000 [==============================] - 1s 10us/step - loss: 0.0836 - acc: 0.9735 - val_loss: 0.3626 - val_acc: 0.8669\n",
      "Epoch 13/50\n",
      "50000/50000 [==============================] - 1s 10us/step - loss: 0.0745 - acc: 0.9759 - val_loss: 0.3313 - val_acc: 0.8777\n",
      "Epoch 14/50\n",
      "50000/50000 [==============================] - 1s 10us/step - loss: 0.0576 - acc: 0.9828 - val_loss: 0.3505 - val_acc: 0.8738\n",
      "Epoch 15/50\n",
      "50000/50000 [==============================] - 1s 10us/step - loss: 0.0485 - acc: 0.9868 - val_loss: 0.3247 - val_acc: 0.8833\n",
      "Epoch 16/50\n",
      "50000/50000 [==============================] - 1s 10us/step - loss: 0.0408 - acc: 0.9884 - val_loss: 0.3565 - val_acc: 0.8771\n",
      "Epoch 17/50\n",
      "50000/50000 [==============================] - 1s 10us/step - loss: 0.0392 - acc: 0.9884 - val_loss: 0.3442 - val_acc: 0.8796\n",
      "Epoch 18/50\n",
      "50000/50000 [==============================] - 1s 10us/step - loss: 0.0353 - acc: 0.9904 - val_loss: 0.3468 - val_acc: 0.8812\n",
      "Epoch 19/50\n",
      "50000/50000 [==============================] - 1s 10us/step - loss: 0.0319 - acc: 0.9909 - val_loss: 0.3667 - val_acc: 0.8851\n",
      "Epoch 20/50\n",
      "50000/50000 [==============================] - 1s 10us/step - loss: 0.0231 - acc: 0.9947 - val_loss: 0.3379 - val_acc: 0.8878\n",
      "Epoch 21/50\n",
      "50000/50000 [==============================] - 1s 10us/step - loss: 0.0176 - acc: 0.9964 - val_loss: 0.3407 - val_acc: 0.8915\n",
      "Epoch 22/50\n",
      "50000/50000 [==============================] - 1s 10us/step - loss: 0.0137 - acc: 0.9975 - val_loss: 0.3559 - val_acc: 0.8900\n",
      "Epoch 23/50\n",
      "50000/50000 [==============================] - 1s 10us/step - loss: 0.0098 - acc: 0.9986 - val_loss: 0.3450 - val_acc: 0.8915\n",
      "Epoch 24/50\n",
      "50000/50000 [==============================] - 1s 10us/step - loss: 0.0074 - acc: 0.9993 - val_loss: 0.3395 - val_acc: 0.8949\n",
      "Epoch 25/50\n",
      "50000/50000 [==============================] - 1s 10us/step - loss: 0.0051 - acc: 0.9998 - val_loss: 0.3491 - val_acc: 0.8944\n",
      "Epoch 26/50\n",
      "50000/50000 [==============================] - 1s 10us/step - loss: 0.0038 - acc: 0.9999 - val_loss: 0.3539 - val_acc: 0.8925\n",
      "Epoch 27/50\n",
      "50000/50000 [==============================] - 1s 10us/step - loss: 0.0028 - acc: 0.9999 - val_loss: 0.3516 - val_acc: 0.8970\n",
      "Epoch 28/50\n",
      "50000/50000 [==============================] - 1s 10us/step - loss: 0.0022 - acc: 0.9999 - val_loss: 0.3497 - val_acc: 0.8977\n",
      "Epoch 29/50\n",
      "50000/50000 [==============================] - 1s 10us/step - loss: 0.0024 - acc: 0.9997 - val_loss: 0.3480 - val_acc: 0.9020\n",
      "Epoch 30/50\n",
      "50000/50000 [==============================] - 1s 10us/step - loss: 0.0018 - acc: 0.9999 - val_loss: 0.3604 - val_acc: 0.8994\n",
      "Epoch 31/50\n",
      "50000/50000 [==============================] - 1s 10us/step - loss: 0.0015 - acc: 1.0000 - val_loss: 0.3711 - val_acc: 0.9008\n",
      "Epoch 32/50\n",
      "50000/50000 [==============================] - 1s 10us/step - loss: 0.0012 - acc: 1.0000 - val_loss: 0.3734 - val_acc: 0.9003\n",
      "Epoch 33/50\n",
      "50000/50000 [==============================] - 1s 10us/step - loss: 0.0010 - acc: 1.0000 - val_loss: 0.3697 - val_acc: 0.9023\n",
      "Epoch 34/50\n",
      "50000/50000 [==============================] - 1s 10us/step - loss: 8.8648e-04 - acc: 1.0000 - val_loss: 0.3779 - val_acc: 0.9007\n",
      "Epoch 35/50\n",
      "50000/50000 [==============================] - 1s 10us/step - loss: 8.2716e-04 - acc: 1.0000 - val_loss: 0.3859 - val_acc: 0.9002\n",
      "Epoch 36/50\n",
      "50000/50000 [==============================] - 1s 10us/step - loss: 7.4617e-04 - acc: 1.0000 - val_loss: 0.3849 - val_acc: 0.9021\n",
      "Epoch 37/50\n",
      "50000/50000 [==============================] - 1s 10us/step - loss: 6.8830e-04 - acc: 1.0000 - val_loss: 0.3934 - val_acc: 0.9010\n",
      "Epoch 38/50\n",
      "50000/50000 [==============================] - 1s 10us/step - loss: 6.5077e-04 - acc: 1.0000 - val_loss: 0.3953 - val_acc: 0.9022\n",
      "Epoch 39/50\n",
      "50000/50000 [==============================] - 1s 10us/step - loss: 6.1312e-04 - acc: 1.0000 - val_loss: 0.4007 - val_acc: 0.9012\n",
      "Epoch 40/50\n",
      "50000/50000 [==============================] - 1s 10us/step - loss: 5.8816e-04 - acc: 1.0000 - val_loss: 0.4068 - val_acc: 0.9013\n",
      "Epoch 41/50\n",
      "50000/50000 [==============================] - 1s 10us/step - loss: 5.6605e-04 - acc: 1.0000 - val_loss: 0.4091 - val_acc: 0.9025\n",
      "Epoch 42/50\n",
      "50000/50000 [==============================] - 1s 10us/step - loss: 5.4047e-04 - acc: 1.0000 - val_loss: 0.4111 - val_acc: 0.9019\n",
      "Epoch 43/50\n",
      "50000/50000 [==============================] - 1s 10us/step - loss: 5.2133e-04 - acc: 1.0000 - val_loss: 0.4159 - val_acc: 0.9030\n",
      "Epoch 44/50\n",
      "50000/50000 [==============================] - 1s 10us/step - loss: 4.9728e-04 - acc: 1.0000 - val_loss: 0.4196 - val_acc: 0.9030\n",
      "Epoch 45/50\n",
      "50000/50000 [==============================] - 1s 11us/step - loss: 4.7541e-04 - acc: 1.0000 - val_loss: 0.4222 - val_acc: 0.9027\n",
      "Epoch 46/50\n",
      "50000/50000 [==============================] - 1s 10us/step - loss: 4.6228e-04 - acc: 1.0000 - val_loss: 0.4278 - val_acc: 0.9020\n",
      "Epoch 47/50\n",
      "50000/50000 [==============================] - 1s 10us/step - loss: 4.3546e-04 - acc: 1.0000 - val_loss: 0.4281 - val_acc: 0.9033\n",
      "Epoch 48/50\n",
      "50000/50000 [==============================] - 1s 10us/step - loss: 4.2514e-04 - acc: 1.0000 - val_loss: 0.4311 - val_acc: 0.9033\n",
      "Epoch 49/50\n",
      "50000/50000 [==============================] - 1s 10us/step - loss: 3.9814e-04 - acc: 1.0000 - val_loss: 0.4361 - val_acc: 0.9033\n",
      "Epoch 50/50\n",
      "50000/50000 [==============================] - 1s 10us/step - loss: 3.8482e-04 - acc: 1.0000 - val_loss: 0.4372 - val_acc: 0.9034\n"
     ]
    },
    {
     "data": {
      "text/plain": [
       "<keras.callbacks.History at 0x7f7898b24470>"
      ]
     },
     "execution_count": 76,
     "metadata": {
      "tags": []
     },
     "output_type": "execute_result"
    }
   ],
   "source": [
    "model2c.fit(X_train2, y_train2, batch_size=5000, epochs=50, validation_data=(X_val2, y_val2), verbose=1)"
   ]
  },
  {
   "cell_type": "code",
   "execution_count": 0,
   "metadata": {
    "colab": {
     "base_uri": "https://localhost:8080/",
     "height": 513
    },
    "colab_type": "code",
    "id": "gFQTQZ7V8jhh",
    "outputId": "0ab2fe64-a632-492c-93f5-21d53c3e89fc"
   },
   "outputs": [
    {
     "data": {
      "image/png": "[encoded data removed]",
      "text/plain": [
       "<Figure size 864x576 with 1 Axes>"
      ]
     },
     "metadata": {
      "tags": []
     },
     "output_type": "display_data"
    }
   ],
   "source": [
    "learning_curves({'BatchNorm/ResNet': model2c}, **{'figsize': (12,8)}, title='BatchNorm/ResNet MLP')"
   ]
  },
  {
   "cell_type": "markdown",
   "metadata": {
    "colab_type": "text",
    "id": "WQcJCjRR4tQH"
   },
   "source": [
    "#### Validation Scores & Parameter Tuning"
   ]
  },
  {
   "cell_type": "code",
   "execution_count": 0,
   "metadata": {
    "colab": {
     "base_uri": "https://localhost:8080/",
     "height": 51
    },
    "colab_type": "code",
    "id": "ipL0a1aYFx5t",
    "outputId": "d4827506-4dfc-47d0-8b4f-3b4dcd5a9bca"
   },
   "outputs": [
    {
     "name": "stdout",
     "output_type": "stream",
     "text": [
      "Vanilla Validation Loss: 0.321\n",
      "Vanilla Validation Accuracy: 0.899\n"
     ]
    }
   ],
   "source": [
    "# trial and error\n",
    "score2a = model2a.evaluate(X_val2, y_val2, verbose=0)\n",
    "print(f\"\"\"Vanilla Validation Loss: {score2a[0]:.3f}\"\"\")\n",
    "print(f\"\"\"Vanilla Validation Accuracy: {score2a[1]:.3f}\"\"\")"
   ]
  },
  {
   "cell_type": "code",
   "execution_count": 0,
   "metadata": {
    "colab": {
     "base_uri": "https://localhost:8080/",
     "height": 51
    },
    "colab_type": "code",
    "id": "kZlyKN28F7K7",
    "outputId": "3db5b478-6030-4d57-d20a-d7ec06ee8934"
   },
   "outputs": [
    {
     "name": "stdout",
     "output_type": "stream",
     "text": [
      "Dropout Validation Loss: 0.286\n",
      "Dropout Validation Accuracy: 0.898\n"
     ]
    }
   ],
   "source": [
    "score2b = model2b.evaluate(X_val2, y_val2, verbose=0)\n",
    "print(f\"\"\"Dropout Validation Loss: {score2b[0]:.3f}\"\"\")\n",
    "print(f\"\"\"Dropout Validation Accuracy: {score2b[1]:.3f}\"\"\")"
   ]
  },
  {
   "cell_type": "code",
   "execution_count": 0,
   "metadata": {
    "colab": {
     "base_uri": "https://localhost:8080/",
     "height": 51
    },
    "colab_type": "code",
    "id": "XcxZtPT9v_Gg",
    "outputId": "eb926f22-622c-491f-fe90-87b93432109a"
   },
   "outputs": [
    {
     "name": "stdout",
     "output_type": "stream",
     "text": [
      "BatchNorm/ResNet Validation Loss: 0.437\n",
      "BatchNorm/ResNet Validation Accuracy: 0.903\n"
     ]
    }
   ],
   "source": [
    "score2c = model2c.evaluate(X_val2, y_val2, verbose=0)\n",
    "print(f\"\"\"BatchNorm/ResNet Validation Loss: {score2c[0]:.3f}\"\"\")\n",
    "print(f\"\"\"BatchNorm/ResNet Validation Accuracy: {score2c[1]:.3f}\"\"\")"
   ]
  },
  {
   "cell_type": "markdown",
   "metadata": {
    "colab_type": "text",
    "id": "pG2DjN2q_Hr_"
   },
   "source": [
    "When I initially ran the models, I mimicked the feed forward model from Task 1, which included regularization.  However, through trial and error I found that removing the regularization significantly improved the validation score of each model (on the order of ~10% accuracy better).  Otherwise, I found that increasing the number of hidden layers improved the model, but the improvement leveled out after say 4-5 levels.  I also found increasing the number of hidden units per layer (relative to Task 1) improved the models by maybe a percent or two.  Increasing epochs also helped improve accuracy quite a bit.\n",
    "\n",
    "I tried to keep the tuned parameters somewhat similar between the three models in order to get a sense of whether Dropout, or Batch Normalization and Residual Connections themselves improved the validation score.  While these latter two models saw slight improvement, the scores for all three models were very similar.\n",
    "\n",
    "One thing to note also is that the ResNet model apparently trained much faster than the other models.  While it was the best of the three models by just a bit, it actually performed worse when I added additional layers to the model."
   ]
  },
  {
   "cell_type": "markdown",
   "metadata": {
    "colab_type": "text",
    "id": "WTbLRAWs8oGa"
   },
   "source": [
    "#### Learning Curves - Training and Validation\n",
    "\n",
    "Now I plot learning curves (accuracy v/s epoch) for each of the three models together:"
   ]
  },
  {
   "cell_type": "code",
   "execution_count": 0,
   "metadata": {
    "colab": {},
    "colab_type": "code",
    "id": "LLgDAutO6uX0"
   },
   "outputs": [],
   "source": [
    "models = {\n",
    "    'Vanilla': model2a,\n",
    "    'Dropout': model2b,\n",
    "    'BatchNorm/ResNet': model2c\n",
    "}"
   ]
  },
  {
   "cell_type": "code",
   "execution_count": 0,
   "metadata": {
    "colab": {
     "base_uri": "https://localhost:8080/",
     "height": 513
    },
    "colab_type": "code",
    "id": "LMI1Zpye8NST",
    "outputId": "9f7f562c-9145-49b9-ef0f-208a3d46650e"
   },
   "outputs": [
    {
     "data": {
      "image/png": "[encoded data removed]",
      "text/plain": [
       "<Figure size 864x576 with 1 Axes>"
      ]
     },
     "metadata": {
      "tags": []
     },
     "output_type": "display_data"
    }
   ],
   "source": [
    "learning_curves(models, **{'figsize': (12,8)})"
   ]
  },
  {
   "cell_type": "markdown",
   "metadata": {
    "colab_type": "text",
    "id": "ekj0x0-4BPYB"
   },
   "source": [
    "#### Generalization\n",
    "\n",
    "Finally let's see how each of the models generalize to the test set:"
   ]
  },
  {
   "cell_type": "code",
   "execution_count": 0,
   "metadata": {
    "colab": {
     "base_uri": "https://localhost:8080/",
     "height": 51
    },
    "colab_type": "code",
    "id": "XtVfGM_J-z6-",
    "outputId": "14cd6834-c1c4-41f4-e25d-db8dc7b92a3f"
   },
   "outputs": [
    {
     "name": "stdout",
     "output_type": "stream",
     "text": [
      "Test Loss: 0.377\n",
      "Test Accuracy: 0.888\n"
     ]
    }
   ],
   "source": [
    "# trial and error\n",
    "gen2a = model2a.evaluate(X_test2, y_test2, verbose=0)\n",
    "print(f\"\"\"Test Loss: {gen2a[0]:.3f}\"\"\")\n",
    "print(f\"\"\"Test Accuracy: {gen2a[1]:.3f}\"\"\")"
   ]
  },
  {
   "cell_type": "code",
   "execution_count": 0,
   "metadata": {
    "colab": {
     "base_uri": "https://localhost:8080/",
     "height": 51
    },
    "colab_type": "code",
    "id": "dmfkll0NBWej",
    "outputId": "acbdeb3f-ea04-4db8-8e31-65f9d31b0045"
   },
   "outputs": [
    {
     "name": "stdout",
     "output_type": "stream",
     "text": [
      "Test Loss: 0.318\n",
      "Test Accuracy: 0.889\n"
     ]
    }
   ],
   "source": [
    "# trial and error\n",
    "gen2b = model2b.evaluate(X_test2, y_test2, verbose=0)\n",
    "print(f\"\"\"Test Loss: {gen2b[0]:.3f}\"\"\")\n",
    "print(f\"\"\"Test Accuracy: {gen2b[1]:.3f}\"\"\")"
   ]
  },
  {
   "cell_type": "code",
   "execution_count": 0,
   "metadata": {
    "colab": {
     "base_uri": "https://localhost:8080/",
     "height": 51
    },
    "colab_type": "code",
    "id": "pKo5lZI9BGSu",
    "outputId": "f8fee5e8-73b7-4be2-ec72-ad5b2d8019f4"
   },
   "outputs": [
    {
     "name": "stdout",
     "output_type": "stream",
     "text": [
      "Test Loss: 0.318\n",
      "Test Accuracy: 0.889\n"
     ]
    }
   ],
   "source": [
    "# trial and error\n",
    "gen2b = model2b.evaluate(X_test2, y_test2, verbose=0)\n",
    "print(f\"\"\"Test Loss: {gen2b[0]:.3f}\"\"\")\n",
    "print(f\"\"\"Test Accuracy: {gen2b[1]:.3f}\"\"\")"
   ]
  },
  {
   "cell_type": "markdown",
   "metadata": {
    "colab_type": "text",
    "id": "Xufes5W_DBxE"
   },
   "source": [
    "The latter two models, Dropout and Batch Norm/ResNet perform slightly better than the Vanilla model on the final test set, but the improvement is so minimal that it is really immaterial."
   ]
  },
  {
   "cell_type": "markdown",
   "metadata": {
    "colab_type": "text",
    "id": "_MDw2J4EBVkv"
   },
   "source": [
    "### Task 3"
   ]
  },
  {
   "cell_type": "markdown",
   "metadata": {
    "colab_type": "text",
    "id": "mAXm6aR5iV8n"
   },
   "source": [
    "Train a convolutional neural network on the following dataset:\n",
    "https://www.kaggle.com/paultimothymooney/breast-histopathology-images"
   ]
  },
  {
   "cell_type": "markdown",
   "metadata": {
    "colab_type": "text",
    "id": "sP7EKxOMFUCj"
   },
   "source": [
    "#### Set up Kaggle API"
   ]
  },
  {
   "cell_type": "code",
   "execution_count": 0,
   "metadata": {
    "colab": {
     "base_uri": "https://localhost:8080/",
     "height": 88,
     "resources": {
      "http://localhost:8080/nbextensions/google.colab/files.js": {
       "data": "Ly8gQ29weXJpZ2h0IDIwMTcgR29vZ2xlIExMQwovLwovLyBMaWNlbnNlZCB1bmRlciB0aGUgQXBhY2hlIExpY2Vuc2UsIFZlcnNpb24gMi4wICh0aGUgIkxpY2Vuc2UiKTsKLy8geW91IG1heSBub3QgdXNlIHRoaXMgZmlsZSBleGNlcHQgaW4gY29tcGxpYW5jZSB3aXRoIHRoZSBMaWNlbnNlLgovLyBZb3UgbWF5IG9idGFpbiBhIGNvcHkgb2YgdGhlIExpY2Vuc2UgYXQKLy8KLy8gICAgICBodHRwOi8vd3d3LmFwYWNoZS5vcmcvbGljZW5zZXMvTElDRU5TRS0yLjAKLy8KLy8gVW5sZXNzIHJlcXVpcmVkIGJ5IGFwcGxpY2FibGUgbGF3IG9yIGFncmVlZCB0byBpbiB3cml0aW5nLCBzb2Z0d2FyZQovLyBkaXN0cmlidXRlZCB1bmRlciB0aGUgTGljZW5zZSBpcyBkaXN0cmlidXRlZCBvbiBhbiAiQVMgSVMiIEJBU0lTLAovLyBXSVRIT1VUIFdBUlJBTlRJRVMgT1IgQ09ORElUSU9OUyBPRiBBTlkgS0lORCwgZWl0aGVyIGV4cHJlc3Mgb3IgaW1wbGllZC4KLy8gU2VlIHRoZSBMaWNlbnNlIGZvciB0aGUgc3BlY2lmaWMgbGFuZ3VhZ2UgZ292ZXJuaW5nIHBlcm1pc3Npb25zIGFuZAovLyBsaW1pdGF0aW9ucyB1bmRlciB0aGUgTGljZW5zZS4KCi8qKgogKiBAZmlsZW92ZXJ2aWV3IEhlbHBlcnMgZm9yIGdvb2dsZS5jb2xhYiBQeXRob24gbW9kdWxlLgogKi8KKGZ1bmN0aW9uKHNjb3BlKSB7CmZ1bmN0aW9uIHNwYW4odGV4dCwgc3R5bGVBdHRyaWJ1dGVzID0ge30pIHsKICBjb25zdCBlbGVtZW50ID0gZG9jdW1lbnQuY3JlYXRlRWxlbWVudCgnc3BhbicpOwogIGVsZW1lbnQudGV4dENvbnRlbnQgPSB0ZXh0OwogIGZvciAoY29uc3Qga2V5IG9mIE9iamVjdC5rZXlzKHN0eWxlQXR0cmlidXRlcykpIHsKICAgIGVsZW1lbnQuc3R5bGVba2V5XSA9IHN0eWxlQXR0cmlidXRlc1trZXldOwogIH0KICByZXR1cm4gZWxlbWVudDsKfQoKLy8gTWF4IG51bWJlciBvZiBieXRlcyB3aGljaCB3aWxsIGJlIHVwbG9hZGVkIGF0IGEgdGltZS4KY29uc3QgTUFYX1BBWUxPQURfU0laRSA9IDEwMCAqIDEwMjQ7Ci8vIE1heCBhbW91bnQgb2YgdGltZSB0byBibG9jayB3YWl0aW5nIGZvciB0aGUgdXNlci4KY29uc3QgRklMRV9DSEFOR0VfVElNRU9VVF9NUyA9IDMwICogMTAwMDsKCmZ1bmN0aW9uIF91cGxvYWRGaWxlcyhpbnB1dElkLCBvdXRwdXRJZCkgewogIGNvbnN0IHN0ZXBzID0gdXBsb2FkRmlsZXNTdGVwKGlucHV0SWQsIG91dHB1dElkKTsKICBjb25zdCBvdXRwdXRFbGVtZW50ID0gZG9jdW1lbnQuZ2V0RWxlbWVudEJ5SWQob3V0cHV0SWQpOwogIC8vIENhY2hlIHN0ZXBzIG9uIHRoZSBvdXRwdXRFbGVtZW50IHRvIG1ha2UgaXQgYXZhaWxhYmxlIGZvciB0aGUgbmV4dCBjYWxsCiAgLy8gdG8gdXBsb2FkRmlsZXNDb250aW51ZSBmcm9tIFB5dGhvbi4KICBvdXRwdXRFbGVtZW50LnN0ZXBzID0gc3RlcHM7CgogIHJldHVybiBfdXBsb2FkRmlsZXNDb250aW51ZShvdXRwdXRJZCk7Cn0KCi8vIFRoaXMgaXMgcm91Z2hseSBhbiBhc3luYyBnZW5lcmF0b3IgKG5vdCBzdXBwb3J0ZWQgaW4gdGhlIGJyb3dzZXIgeWV0KSwKLy8gd2hlcmUgdGhlcmUgYXJlIG11bHRpcGxlIGFzeW5jaHJvbm91cyBzdGVwcyBhbmQgdGhlIFB5dGhvbiBzaWRlIGlzIGdvaW5nCi8vIHRvIHBvbGwgZm9yIGNvbXBsZXRpb24gb2YgZWFjaCBzdGVwLgovLyBUaGlzIHVzZXMgYSBQcm9taXNlIHRvIGJsb2NrIHRoZSBweXRob24gc2lkZSBvbiBjb21wbGV0aW9uIG9mIGVhY2ggc3RlcCwKLy8gdGhlbiBwYXNzZXMgdGhlIHJlc3VsdCBvZiB0aGUgcHJldmlvdXMgc3RlcCBhcyB0aGUgaW5wdXQgdG8gdGhlIG5leHQgc3RlcC4KZnVuY3Rpb24gX3VwbG9hZEZpbGVzQ29udGludWUob3V0cHV0SWQpIHsKICBjb25zdCBvdXRwdXRFbGVtZW50ID0gZG9jdW1lbnQuZ2V0RWxlbWVudEJ5SWQob3V0cHV0SWQpOwogIGNvbnN0IHN0ZXBzID0gb3V0cHV0RWxlbWVudC5zdGVwczsKCiAgY29uc3QgbmV4dCA9IHN0ZXBzLm5leHQob3V0cHV0RWxlbWVudC5sYXN0UHJvbWlzZVZhbHVlKTsKICByZXR1cm4gUHJvbWlzZS5yZXNvbHZlKG5leHQudmFsdWUucHJvbWlzZSkudGhlbigodmFsdWUpID0+IHsKICAgIC8vIENhY2hlIHRoZSBsYXN0IHByb21pc2UgdmFsdWUgdG8gbWFrZSBpdCBhdmFpbGFibGUgdG8gdGhlIG5leHQKICAgIC8vIHN0ZXAgb2YgdGhlIGdlbmVyYXRvci4KICAgIG91dHB1dEVsZW1lbnQubGFzdFByb21pc2VWYWx1ZSA9IHZhbHVlOwogICAgcmV0dXJuIG5leHQudmFsdWUucmVzcG9uc2U7CiAgfSk7Cn0KCi8qKgogKiBHZW5lcmF0b3IgZnVuY3Rpb24gd2hpY2ggaXMgY2FsbGVkIGJldHdlZW4gZWFjaCBhc3luYyBzdGVwIG9mIHRoZSB1cGxvYWQKICogcHJvY2Vzcy4KICogQHBhcmFtIHtzdHJpbmd9IGlucHV0SWQgRWxlbWVudCBJRCBvZiB0aGUgaW5wdXQgZmlsZSBwaWNrZXIgZWxlbWVudC4KICogQHBhcmFtIHtzdHJpbmd9IG91dHB1dElkIEVsZW1lbnQgSUQgb2YgdGhlIG91dHB1dCBkaXNwbGF5LgogKiBAcmV0dXJuIHshSXRlcmFibGU8IU9iamVjdD59IEl0ZXJhYmxlIG9mIG5leHQgc3RlcHMuCiAqLwpmdW5jdGlvbiogdXBsb2FkRmlsZXNTdGVwKGlucHV0SWQsIG91dHB1dElkKSB7CiAgY29uc3QgaW5wdXRFbGVtZW50ID0gZG9jdW1lbnQuZ2V0RWxlbWVudEJ5SWQoaW5wdXRJZCk7CiAgaW5wdXRFbGVtZW50LmRpc2FibGVkID0gZmFsc2U7CgogIGNvbnN0IG91dHB1dEVsZW1lbnQgPSBkb2N1bWVudC5nZXRFbGVtZW50QnlJZChvdXRwdXRJZCk7CiAgb3V0cHV0RWxlbWVudC5pbm5lckhUTUwgPSAnJzsKCiAgY29uc3QgcGlja2VkUHJvbWlzZSA9IG5ldyBQcm9taXNlKChyZXNvbHZlKSA9PiB7CiAgICBpbnB1dEVsZW1lbnQuYWRkRXZlbnRMaXN0ZW5lcignY2hhbmdlJywgKGUpID0+IHsKICAgICAgcmVzb2x2ZShlLnRhcmdldC5maWxlcyk7CiAgICB9KTsKICB9KTsKCiAgY29uc3QgY2FuY2VsID0gZG9jdW1lbnQuY3JlYXRlRWxlbWVudCgnYnV0dG9uJyk7CiAgaW5wdXRFbGVtZW50LnBhcmVudEVsZW1lbnQuYXBwZW5kQ2hpbGQoY2FuY2VsKTsKICBjYW5jZWwudGV4dENvbnRlbnQgPSAnQ2FuY2VsIHVwbG9hZCc7CiAgY29uc3QgY2FuY2VsUHJvbWlzZSA9IG5ldyBQcm9taXNlKChyZXNvbHZlKSA9PiB7CiAgICBjYW5jZWwub25jbGljayA9ICgpID0+IHsKICAgICAgcmVzb2x2ZShudWxsKTsKICAgIH07CiAgfSk7CgogIC8vIENhbmNlbCB1cGxvYWQgaWYgdXNlciBoYXNuJ3QgcGlja2VkIGFueXRoaW5nIGluIHRpbWVvdXQuCiAgY29uc3QgdGltZW91dFByb21pc2UgPSBuZXcgUHJvbWlzZSgocmVzb2x2ZSkgPT4gewogICAgc2V0VGltZW91dCgoKSA9PiB7CiAgICAgIHJlc29sdmUobnVsbCk7CiAgICB9LCBGSUxFX0NIQU5HRV9USU1FT1VUX01TKTsKICB9KTsKCiAgLy8gV2FpdCBmb3IgdGhlIHVzZXIgdG8gcGljayB0aGUgZmlsZXMuCiAgY29uc3QgZmlsZXMgPSB5aWVsZCB7CiAgICBwcm9taXNlOiBQcm9taXNlLnJhY2UoW3BpY2tlZFByb21pc2UsIHRpbWVvdXRQcm9taXNlLCBjYW5jZWxQcm9taXNlXSksCiAgICByZXNwb25zZTogewogICAgICBhY3Rpb246ICdzdGFydGluZycsCiAgICB9CiAgfTsKCiAgaWYgKCFmaWxlcykgewogICAgcmV0dXJuIHsKICAgICAgcmVzcG9uc2U6IHsKICAgICAgICBhY3Rpb246ICdjb21wbGV0ZScsCiAgICAgIH0KICAgIH07CiAgfQoKICBjYW5jZWwucmVtb3ZlKCk7CgogIC8vIERpc2FibGUgdGhlIGlucHV0IGVsZW1lbnQgc2luY2UgZnVydGhlciBwaWNrcyBhcmUgbm90IGFsbG93ZWQuCiAgaW5wdXRFbGVtZW50LmRpc2FibGVkID0gdHJ1ZTsKCiAgZm9yIChjb25zdCBmaWxlIG9mIGZpbGVzKSB7CiAgICBjb25zdCBsaSA9IGRvY3VtZW50LmNyZWF0ZUVsZW1lbnQoJ2xpJyk7CiAgICBsaS5hcHBlbmQoc3BhbihmaWxlLm5hbWUsIHtmb250V2VpZ2h0OiAnYm9sZCd9KSk7CiAgICBsaS5hcHBlbmQoc3BhbigKICAgICAgICBgKCR7ZmlsZS50eXBlIHx8ICduL2EnfSkgLSAke2ZpbGUuc2l6ZX0gYnl0ZXMsIGAgKwogICAgICAgIGBsYXN0IG1vZGlmaWVkOiAkewogICAgICAgICAgICBmaWxlLmxhc3RNb2RpZmllZERhdGUgPyBmaWxlLmxhc3RNb2RpZmllZERhdGUudG9Mb2NhbGVEYXRlU3RyaW5nKCkgOgogICAgICAgICAgICAgICAgICAgICAgICAgICAgICAgICAgICAnbi9hJ30gLSBgKSk7CiAgICBjb25zdCBwZXJjZW50ID0gc3BhbignMCUgZG9uZScpOwogICAgbGkuYXBwZW5kQ2hpbGQocGVyY2VudCk7CgogICAgb3V0cHV0RWxlbWVudC5hcHBlbmRDaGlsZChsaSk7CgogICAgY29uc3QgZmlsZURhdGFQcm9taXNlID0gbmV3IFByb21pc2UoKHJlc29sdmUpID0+IHsKICAgICAgY29uc3QgcmVhZGVyID0gbmV3IEZpbGVSZWFkZXIoKTsKICAgICAgcmVhZGVyLm9ubG9hZCA9IChlKSA9PiB7CiAgICAgICAgcmVzb2x2ZShlLnRhcmdldC5yZXN1bHQpOwogICAgICB9OwogICAgICByZWFkZXIucmVhZEFzQXJyYXlCdWZmZXIoZmlsZSk7CiAgICB9KTsKICAgIC8vIFdhaXQgZm9yIHRoZSBkYXRhIHRvIGJlIHJlYWR5LgogICAgbGV0IGZpbGVEYXRhID0geWllbGQgewogICAgICBwcm9taXNlOiBmaWxlRGF0YVByb21pc2UsCiAgICAgIHJlc3BvbnNlOiB7CiAgICAgICAgYWN0aW9uOiAnY29udGludWUnLAogICAgICB9CiAgICB9OwoKICAgIC8vIFVzZSBhIGNodW5rZWQgc2VuZGluZyB0byBhdm9pZCBtZXNzYWdlIHNpemUgbGltaXRzLiBTZWUgYi82MjExNTY2MC4KICAgIGxldCBwb3NpdGlvbiA9IDA7CiAgICB3aGlsZSAocG9zaXRpb24gPCBmaWxlRGF0YS5ieXRlTGVuZ3RoKSB7CiAgICAgIGNvbnN0IGxlbmd0aCA9IE1hdGgubWluKGZpbGVEYXRhLmJ5dGVMZW5ndGggLSBwb3NpdGlvbiwgTUFYX1BBWUxPQURfU0laRSk7CiAgICAgIGNvbnN0IGNodW5rID0gbmV3IFVpbnQ4QXJyYXkoZmlsZURhdGEsIHBvc2l0aW9uLCBsZW5ndGgpOwogICAgICBwb3NpdGlvbiArPSBsZW5ndGg7CgogICAgICBjb25zdCBiYXNlNjQgPSBidG9hKFN0cmluZy5mcm9tQ2hhckNvZGUuYXBwbHkobnVsbCwgY2h1bmspKTsKICAgICAgeWllbGQgewogICAgICAgIHJlc3BvbnNlOiB7CiAgICAgICAgICBhY3Rpb246ICdhcHBlbmQnLAogICAgICAgICAgZmlsZTogZmlsZS5uYW1lLAogICAgICAgICAgZGF0YTogYmFzZTY0LAogICAgICAgIH0sCiAgICAgIH07CiAgICAgIHBlcmNlbnQudGV4dENvbnRlbnQgPQogICAgICAgICAgYCR7TWF0aC5yb3VuZCgocG9zaXRpb24gLyBmaWxlRGF0YS5ieXRlTGVuZ3RoKSAqIDEwMCl9JSBkb25lYDsKICAgIH0KICB9CgogIC8vIEFsbCBkb25lLgogIHlpZWxkIHsKICAgIHJlc3BvbnNlOiB7CiAgICAgIGFjdGlvbjogJ2NvbXBsZXRlJywKICAgIH0KICB9Owp9CgpzY29wZS5nb29nbGUgPSBzY29wZS5nb29nbGUgfHwge307CnNjb3BlLmdvb2dsZS5jb2xhYiA9IHNjb3BlLmdvb2dsZS5jb2xhYiB8fCB7fTsKc2NvcGUuZ29vZ2xlLmNvbGFiLl9maWxlcyA9IHsKICBfdXBsb2FkRmlsZXMsCiAgX3VwbG9hZEZpbGVzQ29udGludWUsCn07Cn0pKHNlbGYpOwo=",
       "headers": [
        [
         "content-type",
         "application/javascript"
        ]
       ],
       "ok": true,
       "status": 200,
       "status_text": ""
      }
     }
    },
    "colab_type": "code",
    "id": "mNwqyQ-wI5S3",
    "outputId": "161d4620-9a12-401a-c24e-7774875577cb"
   },
   "outputs": [
    {
     "name": "stdout",
     "output_type": "stream",
     "text": [
      "mkdir: cannot create directory ‘/root/.kaggle’: File exists\n"
     ]
    },
    {
     "data": {
      "text/html": [
       "\n",
       "     <input type=\"file\" id=\"files-e37717a8-c43e-4b3e-b9de-432b651d2930\" name=\"files[]\" multiple disabled />\n",
       "     <output id=\"result-e37717a8-c43e-4b3e-b9de-432b651d2930\">\n",
       "      Upload widget is only available when the cell has been executed in the\n",
       "      current browser session. Please rerun this cell to enable.\n",
       "      </output>\n",
       "      <script src=\"/nbextensions/google.colab/files.js\"></script> "
      ],
      "text/plain": [
       "<IPython.core.display.HTML object>"
      ]
     },
     "metadata": {
      "tags": []
     },
     "output_type": "display_data"
    },
    {
     "name": "stdout",
     "output_type": "stream",
     "text": [
      "Saving kaggle.json to kaggle (2).json\n"
     ]
    }
   ],
   "source": [
    "# references: https://github.com/Kaggle/kaggle-api#api-credentials\n",
    "# https://gist.github.com/jayspeidell/d10b84b8d3da52df723beacc5b15cb27\n",
    "\n",
    "# The path /root/.kaggle should exist by default I think — if not run \n",
    "!mkdir /root/.kaggle\n",
    "os.chdir('/root/.kaggle')\n",
    "file = files.upload() # upload kaggle.json\n",
    "os.chdir('/content')"
   ]
  },
  {
   "cell_type": "code",
   "execution_count": 0,
   "metadata": {
    "colab": {
     "base_uri": "https://localhost:8080/",
     "height": 34
    },
    "colab_type": "code",
    "id": "A7YkRSQqKKLW",
    "outputId": "c6e134d2-cb1b-482b-cf15-576e68fbac7a"
   },
   "outputs": [
    {
     "name": "stdout",
     "output_type": "stream",
     "text": [
      "- path is now set to: /content\n"
     ]
    }
   ],
   "source": [
    "!chmod 600 /root/.kaggle/kaggle.json\n",
    "!kaggle config set -n path -v /content # configure where files are downloaded"
   ]
  },
  {
   "cell_type": "markdown",
   "metadata": {
    "colab_type": "text",
    "id": "GvSJcrl6HL4J"
   },
   "source": [
    "#### Download Data"
   ]
  },
  {
   "cell_type": "code",
   "execution_count": 0,
   "metadata": {
    "colab": {},
    "colab_type": "code",
    "id": "6yyVTNF6o0NJ"
   },
   "outputs": [],
   "source": [
    "path = 'datasets/paultimothymooney/breast-histopathology-images'"
   ]
  },
  {
   "cell_type": "code",
   "execution_count": 0,
   "metadata": {
    "colab": {
     "base_uri": "https://localhost:8080/",
     "height": 51
    },
    "colab_type": "code",
    "id": "U-UCwNjpL7we",
    "outputId": "80f89ffb-a42c-4b99-d390-eaf2990d773d"
   },
   "outputs": [
    {
     "name": "stdout",
     "output_type": "stream",
     "text": [
      "breast-histopathology-images.zip: Skipping, found more recently modified local copy (use --force to force download)\n",
      "Archive:  breast-histopathology-images.zip\n"
     ]
    }
   ],
   "source": [
    "!kaggle datasets download paultimothymooney/breast-histopathology-images\n",
    "\n",
    "os.chdir(f'/content/{path}/')\n",
    "!unzip -n breast-histopathology-images.zip"
   ]
  },
  {
   "cell_type": "code",
   "execution_count": 0,
   "metadata": {
    "colab": {
     "base_uri": "https://localhost:8080/",
     "height": 34
    },
    "colab_type": "code",
    "id": "8qFkEQc5SJZx",
    "outputId": "f41b88c3-bc22-48b9-8938-c53daa4f7b0c"
   },
   "outputs": [
    {
     "name": "stdout",
     "output_type": "stream",
     "text": [
      "Archive:  IDC_regular_ps50_idx5.zip\n"
     ]
    }
   ],
   "source": [
    "# this takes a while to unzip all the image data\n",
    "!unzip -n IDC_regular_ps50_idx5.zip # -n never overwrite\n",
    "os.chdir('/content')"
   ]
  },
  {
   "cell_type": "markdown",
   "metadata": {
    "colab_type": "text",
    "id": "J3USp0ekITGq"
   },
   "source": [
    "#### Build Dataset"
   ]
  },
  {
   "cell_type": "code",
   "execution_count": 0,
   "metadata": {
    "colab": {},
    "colab_type": "code",
    "id": "7OCHHq7adRhz"
   },
   "outputs": [],
   "source": [
    "def build_dataset(path, clss):\n",
    "  \"\"\" \n",
    "  loads and preps images, returns dataset\n",
    "  param path is where to load data from\n",
    "  param clss should be either 0 or 1 \n",
    "  \n",
    "  reference: https://www.kaggle.com/paultimothymooney/predict-idc-in-breast-cancer-histology-images\n",
    "  \"\"\"\n",
    "  x = []\n",
    "  y = []\n",
    "  WIDTH = 50\n",
    "  HEIGHT = 50\n",
    "  \n",
    "  img_patches = glob(f'./{path}/**/{clss}/*.png', recursive=True)\n",
    "\n",
    "  for img in img_patches:\n",
    "    full_size_image = cv2.imread(img)\n",
    "    x.append(cv2.resize(full_size_image, (WIDTH, HEIGHT), interpolation=cv2.INTER_CUBIC))\n",
    "    y.append(clss)\n",
    "  \n",
    "  return np.stack(x), np.stack(y)"
   ]
  },
  {
   "cell_type": "code",
   "execution_count": 0,
   "metadata": {
    "colab": {},
    "colab_type": "code",
    "id": "baibzEOvNrSD"
   },
   "outputs": [],
   "source": [
    "X_0, y_0 = build_dataset(path, 0)"
   ]
  },
  {
   "cell_type": "code",
   "execution_count": 0,
   "metadata": {
    "colab": {
     "base_uri": "https://localhost:8080/",
     "height": 34
    },
    "colab_type": "code",
    "id": "IjmVys3vO87R",
    "outputId": "6ea3cd18-0012-420b-c3a1-02a01046ece1"
   },
   "outputs": [
    {
     "data": {
      "text/plain": [
       "((198738, 50, 50, 3), (198738,))"
      ]
     },
     "execution_count": 16,
     "metadata": {
      "tags": []
     },
     "output_type": "execute_result"
    }
   ],
   "source": [
    "X_0.shape, y_0.shape"
   ]
  },
  {
   "cell_type": "code",
   "execution_count": 0,
   "metadata": {
    "colab": {},
    "colab_type": "code",
    "id": "rhvPass0jqy1"
   },
   "outputs": [],
   "source": [
    "X_1, y_1 = build_dataset(path, 1)"
   ]
  },
  {
   "cell_type": "code",
   "execution_count": 0,
   "metadata": {
    "colab": {
     "base_uri": "https://localhost:8080/",
     "height": 34
    },
    "colab_type": "code",
    "id": "LE_v2UUtjq90",
    "outputId": "2bd682a4-1c96-413e-f84e-0340b2ae7ff5"
   },
   "outputs": [
    {
     "data": {
      "text/plain": [
       "((78786, 50, 50, 3), (78786,))"
      ]
     },
     "execution_count": 18,
     "metadata": {
      "tags": []
     },
     "output_type": "execute_result"
    }
   ],
   "source": [
    "X_1.shape, y_1.shape"
   ]
  },
  {
   "cell_type": "markdown",
   "metadata": {
    "colab_type": "text",
    "id": "bOUWZwhaSad_"
   },
   "source": [
    "I handle class imbalance by subsampling the data.  I ran the models with various dataset sample sizes but chose to use a relatively small sample, 40k total, compared with the full dataset because the models took quite long to run / and rerun. Using a smaller sample allowed me to experiment and iterate more quickly while working on model selection:"
   ]
  },
  {
   "cell_type": "code",
   "execution_count": 0,
   "metadata": {
    "colab": {},
    "colab_type": "code",
    "id": "cKNd4tYk3mhn"
   },
   "outputs": [],
   "source": [
    "n = 20000 # 20k for each class, 40k total\n",
    "X = np.concatenate([X_0[:n], X_1[:n]], axis=0)\n",
    "y = np.concatenate([y_0[:n], y_1[:n]], axis=0)"
   ]
  },
  {
   "cell_type": "markdown",
   "metadata": {
    "colab_type": "text",
    "id": "GJ80912ZBRHF"
   },
   "source": [
    "Let's view some of the images for a sanity check"
   ]
  },
  {
   "cell_type": "code",
   "execution_count": 0,
   "metadata": {
    "colab": {
     "base_uri": "https://localhost:8080/",
     "height": 824
    },
    "colab_type": "code",
    "id": "HMVgm8QS3hui",
    "outputId": "a894963c-65fc-4535-cbd0-762f61fc164a"
   },
   "outputs": [
    {
     "name": "stdout",
     "output_type": "stream",
     "text": [
      "Label for Index 13,918:  IDC(-)\n"
     ]
    },
    {
     "data": {
      "image/png": "[encoded data removed]",
      "text/plain": [
       "<Figure size 432x288 with 1 Axes>"
      ]
     },
     "metadata": {
      "tags": []
     },
     "output_type": "display_data"
    },
    {
     "name": "stdout",
     "output_type": "stream",
     "text": [
      "Label for Index 26,342:  IDC(+)\n"
     ]
    },
    {
     "data": {
      "image/png": "[encoded data removed]",
      "text/plain": [
       "<Figure size 432x288 with 1 Axes>"
      ]
     },
     "metadata": {
      "tags": []
     },
     "output_type": "display_data"
    },
    {
     "name": "stdout",
     "output_type": "stream",
     "text": [
      "Label for Index 559:  IDC(-)\n"
     ]
    },
    {
     "data": {
      "image/png": "[encoded data removed]",
      "text/plain": [
       "<Figure size 432x288 with 1 Axes>"
      ]
     },
     "metadata": {
      "tags": []
     },
     "output_type": "display_data"
    }
   ],
   "source": [
    "IDC_labels = {0: 'IDC(-)', 1: 'IDC(+)'} # Invasive Ductal Carcinoma (IDC) \n",
    "\n",
    "for i in range(3):\n",
    "  show_image(X, y, IDC_labels)"
   ]
  },
  {
   "cell_type": "markdown",
   "metadata": {
    "colab_type": "text",
    "id": "eGIO2GhCCDq-"
   },
   "source": [
    "Now train test split to get a test set of 5k:"
   ]
  },
  {
   "cell_type": "code",
   "execution_count": 0,
   "metadata": {
    "colab": {},
    "colab_type": "code",
    "id": "QNWIddViCEwZ"
   },
   "outputs": [],
   "source": [
    "X_train3, X_test3, y_train3, y_test3 = train_test_split(X, y, test_size=5000, stratify=y, random_state=42)"
   ]
  },
  {
   "cell_type": "markdown",
   "metadata": {
    "colab_type": "text",
    "id": "SOkbb4OYn9l6"
   },
   "source": [
    "Then, like in Task 1 and 2, I split the training set again into a validation set of 5k\n"
   ]
  },
  {
   "cell_type": "code",
   "execution_count": 0,
   "metadata": {
    "colab": {},
    "colab_type": "code",
    "id": "MyS6iwIdn91C"
   },
   "outputs": [],
   "source": [
    "X_train3, X_val3, y_train3, y_val3 = train_test_split(X_train3, y_train3, test_size=5000, stratify=y_train3, random_state=42)"
   ]
  },
  {
   "cell_type": "markdown",
   "metadata": {
    "colab_type": "text",
    "id": "TX1gdsTVBoxD"
   },
   "source": [
    "Also like in Task 1 and 2, I one hot encode the target classes:"
   ]
  },
  {
   "cell_type": "code",
   "execution_count": 0,
   "metadata": {
    "colab": {},
    "colab_type": "code",
    "id": "DjkjW_GVBy2J"
   },
   "outputs": [],
   "source": [
    "y_train3 = keras.utils.to_categorical(y_train3, len(IDC_labels))\n",
    "y_val3 = keras.utils.to_categorical(y_val3, len(IDC_labels))\n",
    "y_test3 = keras.utils.to_categorical(y_test3, len(IDC_labels))"
   ]
  },
  {
   "cell_type": "code",
   "execution_count": 0,
   "metadata": {
    "colab": {
     "base_uri": "https://localhost:8080/",
     "height": 68
    },
    "colab_type": "code",
    "id": "4gZLgd_awnbP",
    "outputId": "c707d7bc-a265-4e1b-ddba-2d4d0b8e344a"
   },
   "outputs": [
    {
     "name": "stdout",
     "output_type": "stream",
     "text": [
      "X_train3 shape: (30000, 50, 50, 3) y_train3 shape: (30000, 2)\n",
      "X_val3 shape: (5000, 50, 50, 3) y_val3 shape: (5000, 2)\n",
      "X_test3 shape: (5000, 50, 50, 3) y_test3 shape: (5000, 2)\n"
     ]
    }
   ],
   "source": [
    "print(\"X_train3 shape:\", X_train3.shape, \"y_train3 shape:\", y_train3.shape)\n",
    "print(\"X_val3 shape:\", X_val3.shape, \"y_val3 shape:\", y_val3.shape)\n",
    "print(\"X_test3 shape:\", X_test3.shape, \"y_test3 shape:\", y_test3.shape)"
   ]
  },
  {
   "cell_type": "markdown",
   "metadata": {
    "colab_type": "text",
    "id": "0HjTH2fTiDki"
   },
   "source": [
    "#### 3.1 Vanilla CNN\n",
    "Start with a model without residual connections (using batch normalization is likely to be helpful and you should try it, whether you use dropout is your choice)."
   ]
  },
  {
   "cell_type": "code",
   "execution_count": 0,
   "metadata": {
    "colab": {},
    "colab_type": "code",
    "id": "MJviKq25xhAB"
   },
   "outputs": [],
   "source": [
    "cnn1 = Sequential()\n",
    "\n",
    "cnn1.add(Conv2D(32, kernel_size=(3, 3), input_shape=X_train3[0].shape))\n",
    "cnn1.add(BatchNormalization())\n",
    "cnn1.add(Activation('relu'))\n",
    "cnn1.add(MaxPooling2D(pool_size=(2, 2)))\n",
    "cnn1.add(Dropout(rate=.5))\n",
    "\n",
    "cnn1.add(Conv2D(64, kernel_size=(3, 3), input_shape=X_train3[0].shape))\n",
    "cnn1.add(BatchNormalization())\n",
    "cnn1.add(Activation('relu'))\n",
    "cnn1.add(MaxPooling2D(pool_size=(2, 2)))\n",
    "cnn1.add(Flatten())\n",
    "\n",
    "cnn1.add(Dense(128, activation='relu'))\n",
    "cnn1.add(Dense(len(IDC_labels), activation='softmax'))\n",
    "\n",
    "\n",
    "cnn1.compile(optimizer=SGD(lr=0.01), loss=\"categorical_crossentropy\", metrics=['accuracy'])"
   ]
  },
  {
   "cell_type": "code",
   "execution_count": 0,
   "metadata": {
    "colab": {
     "base_uri": "https://localhost:8080/",
     "height": 544
    },
    "colab_type": "code",
    "id": "W99u1vbJsMfA",
    "outputId": "0efe1741-5e90-48bd-d9f6-40f8ffa0a3ce"
   },
   "outputs": [
    {
     "name": "stdout",
     "output_type": "stream",
     "text": [
      "_________________________________________________________________\n",
      "Layer (type)                 Output Shape              Param #   \n",
      "=================================================================\n",
      "conv2d_6 (Conv2D)            (None, 48, 48, 32)        896       \n",
      "_________________________________________________________________\n",
      "batch_normalization_6 (Batch (None, 48, 48, 32)        128       \n",
      "_________________________________________________________________\n",
      "activation_1 (Activation)    (None, 48, 48, 32)        0         \n",
      "_________________________________________________________________\n",
      "max_pooling2d_5 (MaxPooling2 (None, 24, 24, 32)        0         \n",
      "_________________________________________________________________\n",
      "dropout_2 (Dropout)          (None, 24, 24, 32)        0         \n",
      "_________________________________________________________________\n",
      "conv2d_7 (Conv2D)            (None, 22, 22, 64)        18496     \n",
      "_________________________________________________________________\n",
      "batch_normalization_7 (Batch (None, 22, 22, 64)        256       \n",
      "_________________________________________________________________\n",
      "activation_2 (Activation)    (None, 22, 22, 64)        0         \n",
      "_________________________________________________________________\n",
      "max_pooling2d_6 (MaxPooling2 (None, 11, 11, 64)        0         \n",
      "_________________________________________________________________\n",
      "flatten_3 (Flatten)          (None, 7744)              0         \n",
      "_________________________________________________________________\n",
      "dense_5 (Dense)              (None, 128)               991360    \n",
      "_________________________________________________________________\n",
      "dense_6 (Dense)              (None, 2)                 258       \n",
      "=================================================================\n",
      "Total params: 1,011,394\n",
      "Trainable params: 1,011,202\n",
      "Non-trainable params: 192\n",
      "_________________________________________________________________\n"
     ]
    }
   ],
   "source": [
    "cnn1.summary()"
   ]
  },
  {
   "cell_type": "markdown",
   "metadata": {
    "colab_type": "text",
    "id": "dPMNXDszyBvO"
   },
   "source": [
    "**Note** While this model for 3.1 did not take too long to run, the models for 3.2 and 3.3 took much longer to train and required more RAM (which was limited in Google Colab), so I limited the epochs to ~20 so that I could experiment at a reasonable pace for model selection (I experimented with different values from 5 - 30 or so and settled on 20 as a reasonable number).  I kept the 3.1 model to only 20 epoch so that it was more comparable to the others for final reporting.  However I want to acknowledge here that I realize more epochs would likely improve the scores for all three models, simply due to limited time and resources I thought it was reasonable to limit the epochs (and dataset size) for the sake of completing the homework requirements."
   ]
  },
  {
   "cell_type": "code",
   "execution_count": 0,
   "metadata": {
    "colab": {
     "base_uri": "https://localhost:8080/",
     "height": 731
    },
    "colab_type": "code",
    "id": "FHH6NJeGcC4R",
    "outputId": "66e0f26a-fd50-437c-8bfe-0a293a47bbe7"
   },
   "outputs": [
    {
     "name": "stdout",
     "output_type": "stream",
     "text": [
      "Train on 30000 samples, validate on 5000 samples\n",
      "Epoch 1/20\n",
      "30000/30000 [==============================] - 4s 135us/step - loss: 7.2070 - acc: 0.5065 - val_loss: 6.3231 - val_acc: 0.5000\n",
      "Epoch 2/20\n",
      "30000/30000 [==============================] - 3s 114us/step - loss: 6.9642 - acc: 0.5173 - val_loss: 0.6234 - val_acc: 0.6966\n",
      "Epoch 3/20\n",
      "30000/30000 [==============================] - 3s 115us/step - loss: 0.5553 - acc: 0.7244 - val_loss: 0.6798 - val_acc: 0.6964\n",
      "Epoch 4/20\n",
      "30000/30000 [==============================] - 3s 115us/step - loss: 0.5156 - acc: 0.7554 - val_loss: 0.7732 - val_acc: 0.6306\n",
      "Epoch 5/20\n",
      "30000/30000 [==============================] - 3s 116us/step - loss: 0.5058 - acc: 0.7649 - val_loss: 0.6699 - val_acc: 0.6920\n",
      "Epoch 6/20\n",
      "30000/30000 [==============================] - 3s 116us/step - loss: 0.4809 - acc: 0.7810 - val_loss: 0.7472 - val_acc: 0.6096\n",
      "Epoch 7/20\n",
      "30000/30000 [==============================] - 3s 115us/step - loss: 0.4735 - acc: 0.7860 - val_loss: 0.5066 - val_acc: 0.7884\n",
      "Epoch 8/20\n",
      "30000/30000 [==============================] - 3s 115us/step - loss: 0.4610 - acc: 0.7937 - val_loss: 0.4829 - val_acc: 0.7942\n",
      "Epoch 9/20\n",
      "30000/30000 [==============================] - 3s 115us/step - loss: 0.4510 - acc: 0.7993 - val_loss: 0.4680 - val_acc: 0.7842\n",
      "Epoch 10/20\n",
      "30000/30000 [==============================] - 3s 115us/step - loss: 0.4446 - acc: 0.7986 - val_loss: 0.4657 - val_acc: 0.7828\n",
      "Epoch 11/20\n",
      "30000/30000 [==============================] - 3s 116us/step - loss: 0.4402 - acc: 0.8048 - val_loss: 0.4998 - val_acc: 0.7608\n",
      "Epoch 12/20\n",
      "30000/30000 [==============================] - 3s 116us/step - loss: 0.4392 - acc: 0.8037 - val_loss: 0.4749 - val_acc: 0.7740\n",
      "Epoch 13/20\n",
      "30000/30000 [==============================] - 3s 115us/step - loss: 0.4393 - acc: 0.8045 - val_loss: 0.4576 - val_acc: 0.7864\n",
      "Epoch 14/20\n",
      "30000/30000 [==============================] - 3s 116us/step - loss: 0.4372 - acc: 0.8048 - val_loss: 0.4761 - val_acc: 0.7756\n",
      "Epoch 15/20\n",
      "30000/30000 [==============================] - 3s 115us/step - loss: 0.4247 - acc: 0.8097 - val_loss: 0.4981 - val_acc: 0.7662\n",
      "Epoch 16/20\n",
      "30000/30000 [==============================] - 3s 115us/step - loss: 0.4217 - acc: 0.8125 - val_loss: 0.4400 - val_acc: 0.7998\n",
      "Epoch 17/20\n",
      "30000/30000 [==============================] - 3s 115us/step - loss: 0.4199 - acc: 0.8126 - val_loss: 0.5290 - val_acc: 0.7518\n",
      "Epoch 18/20\n",
      "30000/30000 [==============================] - 3s 114us/step - loss: 0.4189 - acc: 0.8156 - val_loss: 0.4974 - val_acc: 0.7662\n",
      "Epoch 19/20\n",
      "30000/30000 [==============================] - 3s 114us/step - loss: 0.4133 - acc: 0.8167 - val_loss: 0.4509 - val_acc: 0.7920\n",
      "Epoch 20/20\n",
      "30000/30000 [==============================] - 3s 114us/step - loss: 0.4157 - acc: 0.8165 - val_loss: 0.4566 - val_acc: 0.7898\n"
     ]
    },
    {
     "data": {
      "text/plain": [
       "<keras.callbacks.History at 0x7f5db1268080>"
      ]
     },
     "execution_count": 37,
     "metadata": {
      "tags": []
     },
     "output_type": "execute_result"
    }
   ],
   "source": [
    "cnn1.fit(X_train3, y_train3, batch_size=2000, epochs=20, validation_data=(X_val3, y_val3), verbose=1)"
   ]
  },
  {
   "cell_type": "code",
   "execution_count": 0,
   "metadata": {
    "colab": {
     "base_uri": "https://localhost:8080/",
     "height": 51
    },
    "colab_type": "code",
    "id": "BqBBh2d0WYHu",
    "outputId": "1938d6c9-5893-43d9-ddbe-92c9d548ea2e"
   },
   "outputs": [
    {
     "name": "stdout",
     "output_type": "stream",
     "text": [
      "Vanilla CNN Validation Loss: 0.457\n",
      "Vanilla CNN Validation Accuracy: 0.790\n"
     ]
    }
   ],
   "source": [
    "cnn1_score = cnn1.evaluate(X_val3, y_val3, verbose=0)\n",
    "print(f\"\"\"Vanilla CNN Validation Loss: {cnn1_score[0]:.3f}\"\"\")\n",
    "print(f\"\"\"Vanilla CNN Validation Accuracy: {cnn1_score[1]:.3f}\"\"\")"
   ]
  },
  {
   "cell_type": "markdown",
   "metadata": {
    "colab_type": "text",
    "id": "oLl9GiU6ak-Z"
   },
   "source": [
    "For this first model I kept it pretty general and did not add too many layers in order to establish a baseline.  I initially ran the model without batch normalization and it did not perform too well.  Adding batch normalization improved the model significantly.  \n",
    "\n",
    "Additionally, another change I made here (compared with Task 1 and Task 2) was to use Stocahstic Gradient Descent (SGD) with regularization for the optimizer, rather than Adam.  The reason was that my validation accuracy wasn't increasing relative to epochs, and after a bit of reading online (https://stackoverflow.com/questions/37213388/keras-accuracy-does-not-change) I found that one reason for this might be using an optimizer that is not well suited for this dataset.  Using SGD as the optimizer relieved this problem, as you can see the val_acc increases iteration over iteration."
   ]
  },
  {
   "cell_type": "code",
   "execution_count": 0,
   "metadata": {
    "colab": {
     "base_uri": "https://localhost:8080/",
     "height": 513
    },
    "colab_type": "code",
    "id": "kUo8IDpbidbf",
    "outputId": "0a82a082-0022-47fd-a97b-79f6f097d58d"
   },
   "outputs": [
    {
     "data": {
      "image/png": "[encoded data removed]",
      "text/plain": [
       "<Figure size 864x576 with 1 Axes>"
      ]
     },
     "metadata": {
      "tags": []
     },
     "output_type": "display_data"
    }
   ],
   "source": [
    "learning_curves({'Vanilla': cnn1}, **{'figsize': (12,8)}, title='3.1 Vanilla CNN')"
   ]
  },
  {
   "cell_type": "markdown",
   "metadata": {
    "colab_type": "text",
    "id": "YyALAn2DiFN7"
   },
   "source": [
    "#### 3.2 Augmented CNN\n",
    "\n",
    "Augment the data using rotations, mirroring and possibly other transformations. How much can you improve your original model by data augmentation?"
   ]
  },
  {
   "cell_type": "code",
   "execution_count": 0,
   "metadata": {
    "colab": {},
    "colab_type": "code",
    "id": "D93ZTf5vcrGj"
   },
   "outputs": [],
   "source": [
    "# https://blog.keras.io/building-powerful-image-classification-models-using-very-little-data.html\n",
    "datagen = ImageDataGenerator(\n",
    "        rotation_range=30,\n",
    "#         width_shift_range=0.2,\n",
    "#         height_shift_range=0.2,\n",
    "#         vertical_flip=True,\n",
    "        horizontal_flip=True)"
   ]
  },
  {
   "cell_type": "markdown",
   "metadata": {
    "colab_type": "text",
    "id": "eF1XYmlGiFsk"
   },
   "source": [
    "I tried a few different data augmentations including image rotation, shifting as well as horizontal and vertical flips.  Because these augmentations increase the size of the dataset significantly, training takes much longer than the model in 3.1.  \n",
    "\n",
    "The augmentations helped quite a bit when I ran on a very small sample dataset of ~10k elements for training, however as I increased the dataset size the improvement was less pronounced.  Additionally, rotation and flips seemed to improve the model, but shifting actually made it a bit worse. I settled on just using a 30 degree rotation and horizontal flips for the final model as it performed about as well as anything else I found and did not increase compute time as significantly compared to when I included a lot more augmentations."
   ]
  },
  {
   "cell_type": "code",
   "execution_count": 0,
   "metadata": {
    "colab": {},
    "colab_type": "code",
    "id": "T9YQSlUgcq2O"
   },
   "outputs": [],
   "source": [
    "cnn2 = Sequential()\n",
    "\n",
    "cnn2.add(Conv2D(32, kernel_size=(3, 3), input_shape=X_train3[0].shape))\n",
    "cnn2.add(BatchNormalization())\n",
    "cnn2.add(Activation('relu'))\n",
    "cnn2.add(MaxPooling2D(pool_size=(2, 2)))\n",
    "cnn2.add(Dropout(rate=.5))\n",
    "\n",
    "cnn2.add(Conv2D(64, kernel_size=(3, 3)))\n",
    "cnn2.add(BatchNormalization())\n",
    "cnn2.add(Activation('relu'))\n",
    "cnn2.add(MaxPooling2D(pool_size=(2, 2)))\n",
    "cnn2.add(Flatten())\n",
    "\n",
    "cnn2.add(Dense(128, activation='relu'))\n",
    "cnn2.add(Dense(len(IDC_labels), activation='softmax'))\n",
    "\n",
    "cnn2.compile(optimizer=SGD(lr=0.01), loss=\"categorical_crossentropy\", metrics=['accuracy'])"
   ]
  },
  {
   "cell_type": "code",
   "execution_count": 0,
   "metadata": {
    "colab": {
     "base_uri": "https://localhost:8080/",
     "height": 544
    },
    "colab_type": "code",
    "id": "1dUrM6KSsQFX",
    "outputId": "37ca14dc-084f-4c04-843b-4b8186449a89"
   },
   "outputs": [
    {
     "name": "stdout",
     "output_type": "stream",
     "text": [
      "_________________________________________________________________\n",
      "Layer (type)                 Output Shape              Param #   \n",
      "=================================================================\n",
      "conv2d_10 (Conv2D)           (None, 48, 48, 32)        896       \n",
      "_________________________________________________________________\n",
      "batch_normalization_10 (Batc (None, 48, 48, 32)        128       \n",
      "_________________________________________________________________\n",
      "activation_5 (Activation)    (None, 48, 48, 32)        0         \n",
      "_________________________________________________________________\n",
      "max_pooling2d_9 (MaxPooling2 (None, 24, 24, 32)        0         \n",
      "_________________________________________________________________\n",
      "dropout_4 (Dropout)          (None, 24, 24, 32)        0         \n",
      "_________________________________________________________________\n",
      "conv2d_11 (Conv2D)           (None, 22, 22, 64)        18496     \n",
      "_________________________________________________________________\n",
      "batch_normalization_11 (Batc (None, 22, 22, 64)        256       \n",
      "_________________________________________________________________\n",
      "activation_6 (Activation)    (None, 22, 22, 64)        0         \n",
      "_________________________________________________________________\n",
      "max_pooling2d_10 (MaxPooling (None, 11, 11, 64)        0         \n",
      "_________________________________________________________________\n",
      "flatten_5 (Flatten)          (None, 7744)              0         \n",
      "_________________________________________________________________\n",
      "dense_9 (Dense)              (None, 128)               991360    \n",
      "_________________________________________________________________\n",
      "dense_10 (Dense)             (None, 2)                 258       \n",
      "=================================================================\n",
      "Total params: 1,011,394\n",
      "Trainable params: 1,011,202\n",
      "Non-trainable params: 192\n",
      "_________________________________________________________________\n"
     ]
    }
   ],
   "source": [
    "cnn2.summary()"
   ]
  },
  {
   "cell_type": "code",
   "execution_count": 0,
   "metadata": {
    "colab": {
     "base_uri": "https://localhost:8080/",
     "height": 714
    },
    "colab_type": "code",
    "id": "VyJcU-qCmANF",
    "outputId": "7552fb60-8bd5-4895-9593-afec555914d3"
   },
   "outputs": [
    {
     "name": "stdout",
     "output_type": "stream",
     "text": [
      "Epoch 1/20\n",
      "15/15 [==============================] - 18s 1s/step - loss: 1.1659 - acc: 0.6619 - val_loss: 0.5331 - val_acc: 0.7420\n",
      "Epoch 2/20\n",
      "15/15 [==============================] - 18s 1s/step - loss: 0.5091 - acc: 0.7634 - val_loss: 0.5202 - val_acc: 0.7572\n",
      "Epoch 3/20\n",
      "15/15 [==============================] - 19s 1s/step - loss: 0.4905 - acc: 0.7758 - val_loss: 0.4694 - val_acc: 0.7920\n",
      "Epoch 4/20\n",
      "15/15 [==============================] - 17s 1s/step - loss: 0.4655 - acc: 0.7926 - val_loss: 0.4801 - val_acc: 0.7800\n",
      "Epoch 5/20\n",
      "15/15 [==============================] - 17s 1s/step - loss: 0.4522 - acc: 0.7976 - val_loss: 0.5277 - val_acc: 0.7476\n",
      "Epoch 6/20\n",
      "15/15 [==============================] - 17s 1s/step - loss: 0.4531 - acc: 0.7984 - val_loss: 0.7052 - val_acc: 0.6748\n",
      "Epoch 7/20\n",
      "15/15 [==============================] - 18s 1s/step - loss: 0.4379 - acc: 0.8054 - val_loss: 0.7929 - val_acc: 0.6456\n",
      "Epoch 8/20\n",
      "15/15 [==============================] - 18s 1s/step - loss: 0.4324 - acc: 0.8085 - val_loss: 1.0408 - val_acc: 0.5920\n",
      "Epoch 9/20\n",
      "15/15 [==============================] - 18s 1s/step - loss: 0.4399 - acc: 0.8038 - val_loss: 0.7944 - val_acc: 0.6480\n",
      "Epoch 10/20\n",
      "15/15 [==============================] - 18s 1s/step - loss: 0.4264 - acc: 0.8103 - val_loss: 0.7895 - val_acc: 0.6514\n",
      "Epoch 11/20\n",
      "15/15 [==============================] - 18s 1s/step - loss: 0.4252 - acc: 0.8104 - val_loss: 0.6807 - val_acc: 0.6920\n",
      "Epoch 12/20\n",
      "15/15 [==============================] - 19s 1s/step - loss: 0.4193 - acc: 0.8145 - val_loss: 0.5863 - val_acc: 0.7270\n",
      "Epoch 13/20\n",
      "15/15 [==============================] - 17s 1s/step - loss: 0.4136 - acc: 0.8179 - val_loss: 0.8348 - val_acc: 0.6456\n",
      "Epoch 14/20\n",
      "15/15 [==============================] - 18s 1s/step - loss: 0.4183 - acc: 0.8157 - val_loss: 0.7621 - val_acc: 0.6684\n",
      "Epoch 15/20\n",
      "15/15 [==============================] - 19s 1s/step - loss: 0.4115 - acc: 0.8184 - val_loss: 0.5041 - val_acc: 0.7660\n",
      "Epoch 16/20\n",
      "15/15 [==============================] - 18s 1s/step - loss: 0.4087 - acc: 0.8193 - val_loss: 0.5543 - val_acc: 0.7434\n",
      "Epoch 17/20\n",
      "15/15 [==============================] - 18s 1s/step - loss: 0.4064 - acc: 0.8175 - val_loss: 0.4184 - val_acc: 0.8146\n",
      "Epoch 18/20\n",
      "15/15 [==============================] - 17s 1s/step - loss: 0.4026 - acc: 0.8227 - val_loss: 0.4287 - val_acc: 0.8082\n",
      "Epoch 19/20\n",
      "15/15 [==============================] - 18s 1s/step - loss: 0.3989 - acc: 0.8240 - val_loss: 0.4223 - val_acc: 0.8114\n",
      "Epoch 20/20\n",
      "15/15 [==============================] - 17s 1s/step - loss: 0.4024 - acc: 0.8227 - val_loss: 0.5019 - val_acc: 0.7690\n"
     ]
    },
    {
     "data": {
      "text/plain": [
       "<keras.callbacks.History at 0x7f5db315d0b8>"
      ]
     },
     "execution_count": 48,
     "metadata": {
      "tags": []
     },
     "output_type": "execute_result"
    }
   ],
   "source": [
    "cnn2.fit_generator(\n",
    "    datagen.flow(X_train3, y_train3, batch_size=2000), \n",
    "    steps_per_epoch=X_train3.shape[0] / 2000, epochs=20, validation_data=(X_val3, y_val3), verbose=1)"
   ]
  },
  {
   "cell_type": "code",
   "execution_count": 0,
   "metadata": {
    "colab": {
     "base_uri": "https://localhost:8080/",
     "height": 51
    },
    "colab_type": "code",
    "id": "k8CJnUCJvZs-",
    "outputId": "7678ff55-4516-4968-ae33-f66bf1583282"
   },
   "outputs": [
    {
     "name": "stdout",
     "output_type": "stream",
     "text": [
      "Augmented CNN Validation Loss: 0.502\n",
      "Augmented CNN Validation Accuracy: 0.769\n"
     ]
    }
   ],
   "source": [
    "cnn2_score = cnn2.evaluate(X_val3, y_val3, verbose=0)\n",
    "print(f\"\"\"Augmented CNN Validation Loss: {cnn2_score[0]:.3f}\"\"\")\n",
    "print(f\"\"\"Augmented CNN Validation Accuracy: {cnn2_score[1]:.3f}\"\"\")"
   ]
  },
  {
   "cell_type": "code",
   "execution_count": 0,
   "metadata": {
    "colab": {
     "base_uri": "https://localhost:8080/",
     "height": 513
    },
    "colab_type": "code",
    "id": "vUx-8soQ8RYX",
    "outputId": "ac1375f3-15da-48e6-9b1e-d14ee0077f6b"
   },
   "outputs": [
    {
     "data": {
      "image/png": "[encoded data removed]",
      "text/plain": [
       "<Figure size 864x576 with 1 Axes>"
      ]
     },
     "metadata": {
      "tags": []
     },
     "output_type": "display_data"
    }
   ],
   "source": [
    "learning_curves({'Augmented': cnn2}, **{'figsize': (12,8)}, title='3.2 Augmented CNN')"
   ]
  },
  {
   "cell_type": "markdown",
   "metadata": {
    "colab_type": "text",
    "id": "nh-Zz3DQOq0o"
   },
   "source": [
    "One thing I did find peculiar is that the improvement in the validation score was significantly less consistent that the validations scores we observes in Task 2 — simply by looking at the training curves, there is an upward trend, but there are also large dips in the score at different epochs.  For further experimentation it might be useful to try something like Early Stopping, since, for instance if you look at the validation scores, the last three epochs (prior to the vary last) actually achieve above 80% accuracy which was better than the vanilla CNN, but it dropped off a bit at the last epoch on only left us with about 76% validation score."
   ]
  },
  {
   "cell_type": "markdown",
   "metadata": {
    "colab_type": "text",
    "id": "vfRDvE9UiGxX"
   },
   "source": [
    "#### 3.3 ResNet CNN\n",
    "\n",
    "Build a deeper model using residual connections. Show that you can build a deep model that would not be able to learn if you remove the residual connections (i.e. compare a deep model with and without residual connections while the rest of the architecture is constant)."
   ]
  },
  {
   "cell_type": "code",
   "execution_count": 0,
   "metadata": {
    "colab": {},
    "colab_type": "code",
    "id": "0SJp3aaglIOt"
   },
   "outputs": [],
   "source": [
    "def Unit(x, filters, residuals=True, pool=False):\n",
    "  \"\"\" \n",
    "  reference: https://towardsdatascience.com/understanding-residual-networks-9add4b664b03\n",
    "  \"\"\"\n",
    "  \n",
    "  if residuals:\n",
    "    res = x\n",
    "\n",
    "    if pool:\n",
    "      res = Conv2D(filters=filters, kernel_size=[1,1], strides=(2,2), padding='same')(res)\n",
    "\n",
    "  out = Conv2D(filters=filters, kernel_size=[3, 3], strides=(1, 1), padding='same')(x)\n",
    "  out = BatchNormalization()(out)\n",
    "  out = Activation('relu')(out)\n",
    "  \n",
    "  if pool:\n",
    "    out = MaxPooling2D(pool_size=(2, 2), padding='same')(out)\n",
    "      \n",
    "  out = Conv2D(filters=filters, kernel_size=[3, 3], strides=(1, 1), padding='same')(out)\n",
    "  out = BatchNormalization()(out)\n",
    "  out = Activation('relu')(out)\n",
    "  \n",
    "  if residuals:\n",
    "    out = Add()([res, out])\n",
    "\n",
    "  return out"
   ]
  },
  {
   "cell_type": "markdown",
   "metadata": {
    "colab_type": "text",
    "id": "NUdZmVz89_V-"
   },
   "source": [
    "Now I generate a deep ResNet with ~50 layers (each Unit() generates 2 convolutional layers):"
   ]
  },
  {
   "cell_type": "code",
   "execution_count": 0,
   "metadata": {
    "colab": {},
    "colab_type": "code",
    "id": "U6i1y2Mt9s8A"
   },
   "outputs": [],
   "source": [
    "resnet_inputs = Input(shape=X_train3[0].shape)\n",
    "\n",
    "net = Conv2D(filters=32, kernel_size=[3, 3], strides=(1, 1), padding='same')(resnet_inputs)\n",
    " \n",
    "# 12 layers\n",
    "for i in range(3):\n",
    "  net = Unit(net, 32, pool=True)\n",
    "  net = Unit(net, 32)\n",
    "\n",
    "# 12 layers\n",
    "for i in range(3):\n",
    "  net = Unit(net,64, pool=True)\n",
    "  net = Unit(net,64)\n",
    "\n",
    "# 12 layers\n",
    "for i in range(3):\n",
    "  net = Unit(net,128, pool=True)\n",
    "  net = Unit(net,128)\n",
    "\n",
    "# 12 layers\n",
    "for i in range(3):\n",
    "  net = Unit(net, 256, pool=True)\n",
    "  net = Unit(net, 256)\n",
    "\n",
    "net = BatchNormalization()(net)\n",
    "net = Activation('relu')(net)\n",
    "\n",
    "net = Flatten()(net)\n",
    "net = Dense(units=len(IDC_labels), activation=\"softmax\")(net)\n",
    "\n",
    "cnn3 = Model(inputs=resnet_inputs, outputs=net)\n",
    "\n",
    "cnn3.compile(optimizer=SGD(lr=0.01), loss='categorical_crossentropy', metrics=['accuracy'])\n"
   ]
  },
  {
   "cell_type": "code",
   "execution_count": 0,
   "metadata": {
    "colab": {
     "base_uri": "https://localhost:8080/",
     "height": 7276
    },
    "colab_type": "code",
    "id": "bSk82g-FsS54",
    "outputId": "4303bad3-bb66-47e4-a95b-edb6f709324e"
   },
   "outputs": [
    {
     "name": "stdout",
     "output_type": "stream",
     "text": [
      "__________________________________________________________________________________________________\n",
      "Layer (type)                    Output Shape         Param #     Connected to                     \n",
      "==================================================================================================\n",
      "input_3 (InputLayer)            (None, 50, 50, 3)    0                                            \n",
      "__________________________________________________________________________________________________\n",
      "conv2d_134 (Conv2D)             (None, 50, 50, 32)   896         input_3[0][0]                    \n",
      "__________________________________________________________________________________________________\n",
      "conv2d_136 (Conv2D)             (None, 50, 50, 32)   9248        conv2d_134[0][0]                 \n",
      "__________________________________________________________________________________________________\n",
      "batch_normalization_109 (BatchN (None, 50, 50, 32)   128         conv2d_136[0][0]                 \n",
      "__________________________________________________________________________________________________\n",
      "activation_104 (Activation)     (None, 50, 50, 32)   0           batch_normalization_109[0][0]    \n",
      "__________________________________________________________________________________________________\n",
      "max_pooling2d_35 (MaxPooling2D) (None, 25, 25, 32)   0           activation_104[0][0]             \n",
      "__________________________________________________________________________________________________\n",
      "conv2d_137 (Conv2D)             (None, 25, 25, 32)   9248        max_pooling2d_35[0][0]           \n",
      "__________________________________________________________________________________________________\n",
      "batch_normalization_110 (BatchN (None, 25, 25, 32)   128         conv2d_137[0][0]                 \n",
      "__________________________________________________________________________________________________\n",
      "conv2d_135 (Conv2D)             (None, 25, 25, 32)   1056        conv2d_134[0][0]                 \n",
      "__________________________________________________________________________________________________\n",
      "activation_105 (Activation)     (None, 25, 25, 32)   0           batch_normalization_110[0][0]    \n",
      "__________________________________________________________________________________________________\n",
      "add_49 (Add)                    (None, 25, 25, 32)   0           conv2d_135[0][0]                 \n",
      "                                                                 activation_105[0][0]             \n",
      "__________________________________________________________________________________________________\n",
      "conv2d_138 (Conv2D)             (None, 25, 25, 32)   9248        add_49[0][0]                     \n",
      "__________________________________________________________________________________________________\n",
      "batch_normalization_111 (BatchN (None, 25, 25, 32)   128         conv2d_138[0][0]                 \n",
      "__________________________________________________________________________________________________\n",
      "activation_106 (Activation)     (None, 25, 25, 32)   0           batch_normalization_111[0][0]    \n",
      "__________________________________________________________________________________________________\n",
      "conv2d_139 (Conv2D)             (None, 25, 25, 32)   9248        activation_106[0][0]             \n",
      "__________________________________________________________________________________________________\n",
      "batch_normalization_112 (BatchN (None, 25, 25, 32)   128         conv2d_139[0][0]                 \n",
      "__________________________________________________________________________________________________\n",
      "activation_107 (Activation)     (None, 25, 25, 32)   0           batch_normalization_112[0][0]    \n",
      "__________________________________________________________________________________________________\n",
      "add_50 (Add)                    (None, 25, 25, 32)   0           add_49[0][0]                     \n",
      "                                                                 activation_107[0][0]             \n",
      "__________________________________________________________________________________________________\n",
      "conv2d_141 (Conv2D)             (None, 25, 25, 32)   9248        add_50[0][0]                     \n",
      "__________________________________________________________________________________________________\n",
      "batch_normalization_113 (BatchN (None, 25, 25, 32)   128         conv2d_141[0][0]                 \n",
      "__________________________________________________________________________________________________\n",
      "activation_108 (Activation)     (None, 25, 25, 32)   0           batch_normalization_113[0][0]    \n",
      "__________________________________________________________________________________________________\n",
      "max_pooling2d_36 (MaxPooling2D) (None, 13, 13, 32)   0           activation_108[0][0]             \n",
      "__________________________________________________________________________________________________\n",
      "conv2d_142 (Conv2D)             (None, 13, 13, 32)   9248        max_pooling2d_36[0][0]           \n",
      "__________________________________________________________________________________________________\n",
      "batch_normalization_114 (BatchN (None, 13, 13, 32)   128         conv2d_142[0][0]                 \n",
      "__________________________________________________________________________________________________\n",
      "conv2d_140 (Conv2D)             (None, 13, 13, 32)   1056        add_50[0][0]                     \n",
      "__________________________________________________________________________________________________\n",
      "activation_109 (Activation)     (None, 13, 13, 32)   0           batch_normalization_114[0][0]    \n",
      "__________________________________________________________________________________________________\n",
      "add_51 (Add)                    (None, 13, 13, 32)   0           conv2d_140[0][0]                 \n",
      "                                                                 activation_109[0][0]             \n",
      "__________________________________________________________________________________________________\n",
      "conv2d_143 (Conv2D)             (None, 13, 13, 32)   9248        add_51[0][0]                     \n",
      "__________________________________________________________________________________________________\n",
      "batch_normalization_115 (BatchN (None, 13, 13, 32)   128         conv2d_143[0][0]                 \n",
      "__________________________________________________________________________________________________\n",
      "activation_110 (Activation)     (None, 13, 13, 32)   0           batch_normalization_115[0][0]    \n",
      "__________________________________________________________________________________________________\n",
      "conv2d_144 (Conv2D)             (None, 13, 13, 32)   9248        activation_110[0][0]             \n",
      "__________________________________________________________________________________________________\n",
      "batch_normalization_116 (BatchN (None, 13, 13, 32)   128         conv2d_144[0][0]                 \n",
      "__________________________________________________________________________________________________\n",
      "activation_111 (Activation)     (None, 13, 13, 32)   0           batch_normalization_116[0][0]    \n",
      "__________________________________________________________________________________________________\n",
      "add_52 (Add)                    (None, 13, 13, 32)   0           add_51[0][0]                     \n",
      "                                                                 activation_111[0][0]             \n",
      "__________________________________________________________________________________________________\n",
      "conv2d_146 (Conv2D)             (None, 13, 13, 32)   9248        add_52[0][0]                     \n",
      "__________________________________________________________________________________________________\n",
      "batch_normalization_117 (BatchN (None, 13, 13, 32)   128         conv2d_146[0][0]                 \n",
      "__________________________________________________________________________________________________\n",
      "activation_112 (Activation)     (None, 13, 13, 32)   0           batch_normalization_117[0][0]    \n",
      "__________________________________________________________________________________________________\n",
      "max_pooling2d_37 (MaxPooling2D) (None, 7, 7, 32)     0           activation_112[0][0]             \n",
      "__________________________________________________________________________________________________\n",
      "conv2d_147 (Conv2D)             (None, 7, 7, 32)     9248        max_pooling2d_37[0][0]           \n",
      "__________________________________________________________________________________________________\n",
      "batch_normalization_118 (BatchN (None, 7, 7, 32)     128         conv2d_147[0][0]                 \n",
      "__________________________________________________________________________________________________\n",
      "conv2d_145 (Conv2D)             (None, 7, 7, 32)     1056        add_52[0][0]                     \n",
      "__________________________________________________________________________________________________\n",
      "activation_113 (Activation)     (None, 7, 7, 32)     0           batch_normalization_118[0][0]    \n",
      "__________________________________________________________________________________________________\n",
      "add_53 (Add)                    (None, 7, 7, 32)     0           conv2d_145[0][0]                 \n",
      "                                                                 activation_113[0][0]             \n",
      "__________________________________________________________________________________________________\n",
      "conv2d_148 (Conv2D)             (None, 7, 7, 32)     9248        add_53[0][0]                     \n",
      "__________________________________________________________________________________________________\n",
      "batch_normalization_119 (BatchN (None, 7, 7, 32)     128         conv2d_148[0][0]                 \n",
      "__________________________________________________________________________________________________\n",
      "activation_114 (Activation)     (None, 7, 7, 32)     0           batch_normalization_119[0][0]    \n",
      "__________________________________________________________________________________________________\n",
      "conv2d_149 (Conv2D)             (None, 7, 7, 32)     9248        activation_114[0][0]             \n",
      "__________________________________________________________________________________________________\n",
      "batch_normalization_120 (BatchN (None, 7, 7, 32)     128         conv2d_149[0][0]                 \n",
      "__________________________________________________________________________________________________\n",
      "activation_115 (Activation)     (None, 7, 7, 32)     0           batch_normalization_120[0][0]    \n",
      "__________________________________________________________________________________________________\n",
      "add_54 (Add)                    (None, 7, 7, 32)     0           add_53[0][0]                     \n",
      "                                                                 activation_115[0][0]             \n",
      "__________________________________________________________________________________________________\n",
      "conv2d_151 (Conv2D)             (None, 7, 7, 64)     18496       add_54[0][0]                     \n",
      "__________________________________________________________________________________________________\n",
      "batch_normalization_121 (BatchN (None, 7, 7, 64)     256         conv2d_151[0][0]                 \n",
      "__________________________________________________________________________________________________\n",
      "activation_116 (Activation)     (None, 7, 7, 64)     0           batch_normalization_121[0][0]    \n",
      "__________________________________________________________________________________________________\n",
      "max_pooling2d_38 (MaxPooling2D) (None, 4, 4, 64)     0           activation_116[0][0]             \n",
      "__________________________________________________________________________________________________\n",
      "conv2d_152 (Conv2D)             (None, 4, 4, 64)     36928       max_pooling2d_38[0][0]           \n",
      "__________________________________________________________________________________________________\n",
      "batch_normalization_122 (BatchN (None, 4, 4, 64)     256         conv2d_152[0][0]                 \n",
      "__________________________________________________________________________________________________\n",
      "conv2d_150 (Conv2D)             (None, 4, 4, 64)     2112        add_54[0][0]                     \n",
      "__________________________________________________________________________________________________\n",
      "activation_117 (Activation)     (None, 4, 4, 64)     0           batch_normalization_122[0][0]    \n",
      "__________________________________________________________________________________________________\n",
      "add_55 (Add)                    (None, 4, 4, 64)     0           conv2d_150[0][0]                 \n",
      "                                                                 activation_117[0][0]             \n",
      "__________________________________________________________________________________________________\n",
      "conv2d_153 (Conv2D)             (None, 4, 4, 64)     36928       add_55[0][0]                     \n",
      "__________________________________________________________________________________________________\n",
      "batch_normalization_123 (BatchN (None, 4, 4, 64)     256         conv2d_153[0][0]                 \n",
      "__________________________________________________________________________________________________\n",
      "activation_118 (Activation)     (None, 4, 4, 64)     0           batch_normalization_123[0][0]    \n",
      "__________________________________________________________________________________________________\n",
      "conv2d_154 (Conv2D)             (None, 4, 4, 64)     36928       activation_118[0][0]             \n",
      "__________________________________________________________________________________________________\n",
      "batch_normalization_124 (BatchN (None, 4, 4, 64)     256         conv2d_154[0][0]                 \n",
      "__________________________________________________________________________________________________\n",
      "activation_119 (Activation)     (None, 4, 4, 64)     0           batch_normalization_124[0][0]    \n",
      "__________________________________________________________________________________________________\n",
      "add_56 (Add)                    (None, 4, 4, 64)     0           add_55[0][0]                     \n",
      "                                                                 activation_119[0][0]             \n",
      "__________________________________________________________________________________________________\n",
      "conv2d_156 (Conv2D)             (None, 4, 4, 64)     36928       add_56[0][0]                     \n",
      "__________________________________________________________________________________________________\n",
      "batch_normalization_125 (BatchN (None, 4, 4, 64)     256         conv2d_156[0][0]                 \n",
      "__________________________________________________________________________________________________\n",
      "activation_120 (Activation)     (None, 4, 4, 64)     0           batch_normalization_125[0][0]    \n",
      "__________________________________________________________________________________________________\n",
      "max_pooling2d_39 (MaxPooling2D) (None, 2, 2, 64)     0           activation_120[0][0]             \n",
      "__________________________________________________________________________________________________\n",
      "conv2d_157 (Conv2D)             (None, 2, 2, 64)     36928       max_pooling2d_39[0][0]           \n",
      "__________________________________________________________________________________________________\n",
      "batch_normalization_126 (BatchN (None, 2, 2, 64)     256         conv2d_157[0][0]                 \n",
      "__________________________________________________________________________________________________\n",
      "conv2d_155 (Conv2D)             (None, 2, 2, 64)     4160        add_56[0][0]                     \n",
      "__________________________________________________________________________________________________\n",
      "activation_121 (Activation)     (None, 2, 2, 64)     0           batch_normalization_126[0][0]    \n",
      "__________________________________________________________________________________________________\n",
      "add_57 (Add)                    (None, 2, 2, 64)     0           conv2d_155[0][0]                 \n",
      "                                                                 activation_121[0][0]             \n",
      "__________________________________________________________________________________________________\n",
      "conv2d_158 (Conv2D)             (None, 2, 2, 64)     36928       add_57[0][0]                     \n",
      "__________________________________________________________________________________________________\n",
      "batch_normalization_127 (BatchN (None, 2, 2, 64)     256         conv2d_158[0][0]                 \n",
      "__________________________________________________________________________________________________\n",
      "activation_122 (Activation)     (None, 2, 2, 64)     0           batch_normalization_127[0][0]    \n",
      "__________________________________________________________________________________________________\n",
      "conv2d_159 (Conv2D)             (None, 2, 2, 64)     36928       activation_122[0][0]             \n",
      "__________________________________________________________________________________________________\n",
      "batch_normalization_128 (BatchN (None, 2, 2, 64)     256         conv2d_159[0][0]                 \n",
      "__________________________________________________________________________________________________\n",
      "activation_123 (Activation)     (None, 2, 2, 64)     0           batch_normalization_128[0][0]    \n",
      "__________________________________________________________________________________________________\n",
      "add_58 (Add)                    (None, 2, 2, 64)     0           add_57[0][0]                     \n",
      "                                                                 activation_123[0][0]             \n",
      "__________________________________________________________________________________________________\n",
      "conv2d_161 (Conv2D)             (None, 2, 2, 64)     36928       add_58[0][0]                     \n",
      "__________________________________________________________________________________________________\n",
      "batch_normalization_129 (BatchN (None, 2, 2, 64)     256         conv2d_161[0][0]                 \n",
      "__________________________________________________________________________________________________\n",
      "activation_124 (Activation)     (None, 2, 2, 64)     0           batch_normalization_129[0][0]    \n",
      "__________________________________________________________________________________________________\n",
      "max_pooling2d_40 (MaxPooling2D) (None, 1, 1, 64)     0           activation_124[0][0]             \n",
      "__________________________________________________________________________________________________\n",
      "conv2d_162 (Conv2D)             (None, 1, 1, 64)     36928       max_pooling2d_40[0][0]           \n",
      "__________________________________________________________________________________________________\n",
      "batch_normalization_130 (BatchN (None, 1, 1, 64)     256         conv2d_162[0][0]                 \n",
      "__________________________________________________________________________________________________\n",
      "conv2d_160 (Conv2D)             (None, 1, 1, 64)     4160        add_58[0][0]                     \n",
      "__________________________________________________________________________________________________\n",
      "activation_125 (Activation)     (None, 1, 1, 64)     0           batch_normalization_130[0][0]    \n",
      "__________________________________________________________________________________________________\n",
      "add_59 (Add)                    (None, 1, 1, 64)     0           conv2d_160[0][0]                 \n",
      "                                                                 activation_125[0][0]             \n",
      "__________________________________________________________________________________________________\n",
      "conv2d_163 (Conv2D)             (None, 1, 1, 64)     36928       add_59[0][0]                     \n",
      "__________________________________________________________________________________________________\n",
      "batch_normalization_131 (BatchN (None, 1, 1, 64)     256         conv2d_163[0][0]                 \n",
      "__________________________________________________________________________________________________\n",
      "activation_126 (Activation)     (None, 1, 1, 64)     0           batch_normalization_131[0][0]    \n",
      "__________________________________________________________________________________________________\n",
      "conv2d_164 (Conv2D)             (None, 1, 1, 64)     36928       activation_126[0][0]             \n",
      "__________________________________________________________________________________________________\n",
      "batch_normalization_132 (BatchN (None, 1, 1, 64)     256         conv2d_164[0][0]                 \n",
      "__________________________________________________________________________________________________\n",
      "activation_127 (Activation)     (None, 1, 1, 64)     0           batch_normalization_132[0][0]    \n",
      "__________________________________________________________________________________________________\n",
      "add_60 (Add)                    (None, 1, 1, 64)     0           add_59[0][0]                     \n",
      "                                                                 activation_127[0][0]             \n",
      "__________________________________________________________________________________________________\n",
      "conv2d_166 (Conv2D)             (None, 1, 1, 128)    73856       add_60[0][0]                     \n",
      "__________________________________________________________________________________________________\n",
      "batch_normalization_133 (BatchN (None, 1, 1, 128)    512         conv2d_166[0][0]                 \n",
      "__________________________________________________________________________________________________\n",
      "activation_128 (Activation)     (None, 1, 1, 128)    0           batch_normalization_133[0][0]    \n",
      "__________________________________________________________________________________________________\n",
      "max_pooling2d_41 (MaxPooling2D) (None, 1, 1, 128)    0           activation_128[0][0]             \n",
      "__________________________________________________________________________________________________\n",
      "conv2d_167 (Conv2D)             (None, 1, 1, 128)    147584      max_pooling2d_41[0][0]           \n",
      "__________________________________________________________________________________________________\n",
      "batch_normalization_134 (BatchN (None, 1, 1, 128)    512         conv2d_167[0][0]                 \n",
      "__________________________________________________________________________________________________\n",
      "conv2d_165 (Conv2D)             (None, 1, 1, 128)    8320        add_60[0][0]                     \n",
      "__________________________________________________________________________________________________\n",
      "activation_129 (Activation)     (None, 1, 1, 128)    0           batch_normalization_134[0][0]    \n",
      "__________________________________________________________________________________________________\n",
      "add_61 (Add)                    (None, 1, 1, 128)    0           conv2d_165[0][0]                 \n",
      "                                                                 activation_129[0][0]             \n",
      "__________________________________________________________________________________________________\n",
      "conv2d_168 (Conv2D)             (None, 1, 1, 128)    147584      add_61[0][0]                     \n",
      "__________________________________________________________________________________________________\n",
      "batch_normalization_135 (BatchN (None, 1, 1, 128)    512         conv2d_168[0][0]                 \n",
      "__________________________________________________________________________________________________\n",
      "activation_130 (Activation)     (None, 1, 1, 128)    0           batch_normalization_135[0][0]    \n",
      "__________________________________________________________________________________________________\n",
      "conv2d_169 (Conv2D)             (None, 1, 1, 128)    147584      activation_130[0][0]             \n",
      "__________________________________________________________________________________________________\n",
      "batch_normalization_136 (BatchN (None, 1, 1, 128)    512         conv2d_169[0][0]                 \n",
      "__________________________________________________________________________________________________\n",
      "activation_131 (Activation)     (None, 1, 1, 128)    0           batch_normalization_136[0][0]    \n",
      "__________________________________________________________________________________________________\n",
      "add_62 (Add)                    (None, 1, 1, 128)    0           add_61[0][0]                     \n",
      "                                                                 activation_131[0][0]             \n",
      "__________________________________________________________________________________________________\n",
      "conv2d_171 (Conv2D)             (None, 1, 1, 128)    147584      add_62[0][0]                     \n",
      "__________________________________________________________________________________________________\n",
      "batch_normalization_137 (BatchN (None, 1, 1, 128)    512         conv2d_171[0][0]                 \n",
      "__________________________________________________________________________________________________\n",
      "activation_132 (Activation)     (None, 1, 1, 128)    0           batch_normalization_137[0][0]    \n",
      "__________________________________________________________________________________________________\n",
      "max_pooling2d_42 (MaxPooling2D) (None, 1, 1, 128)    0           activation_132[0][0]             \n",
      "__________________________________________________________________________________________________\n",
      "conv2d_172 (Conv2D)             (None, 1, 1, 128)    147584      max_pooling2d_42[0][0]           \n",
      "__________________________________________________________________________________________________\n",
      "batch_normalization_138 (BatchN (None, 1, 1, 128)    512         conv2d_172[0][0]                 \n",
      "__________________________________________________________________________________________________\n",
      "conv2d_170 (Conv2D)             (None, 1, 1, 128)    16512       add_62[0][0]                     \n",
      "__________________________________________________________________________________________________\n",
      "activation_133 (Activation)     (None, 1, 1, 128)    0           batch_normalization_138[0][0]    \n",
      "__________________________________________________________________________________________________\n",
      "add_63 (Add)                    (None, 1, 1, 128)    0           conv2d_170[0][0]                 \n",
      "                                                                 activation_133[0][0]             \n",
      "__________________________________________________________________________________________________\n",
      "conv2d_173 (Conv2D)             (None, 1, 1, 128)    147584      add_63[0][0]                     \n",
      "__________________________________________________________________________________________________\n",
      "batch_normalization_139 (BatchN (None, 1, 1, 128)    512         conv2d_173[0][0]                 \n",
      "__________________________________________________________________________________________________\n",
      "activation_134 (Activation)     (None, 1, 1, 128)    0           batch_normalization_139[0][0]    \n",
      "__________________________________________________________________________________________________\n",
      "conv2d_174 (Conv2D)             (None, 1, 1, 128)    147584      activation_134[0][0]             \n",
      "__________________________________________________________________________________________________\n",
      "batch_normalization_140 (BatchN (None, 1, 1, 128)    512         conv2d_174[0][0]                 \n",
      "__________________________________________________________________________________________________\n",
      "activation_135 (Activation)     (None, 1, 1, 128)    0           batch_normalization_140[0][0]    \n",
      "__________________________________________________________________________________________________\n",
      "add_64 (Add)                    (None, 1, 1, 128)    0           add_63[0][0]                     \n",
      "                                                                 activation_135[0][0]             \n",
      "__________________________________________________________________________________________________\n",
      "conv2d_176 (Conv2D)             (None, 1, 1, 128)    147584      add_64[0][0]                     \n",
      "__________________________________________________________________________________________________\n",
      "batch_normalization_141 (BatchN (None, 1, 1, 128)    512         conv2d_176[0][0]                 \n",
      "__________________________________________________________________________________________________\n",
      "activation_136 (Activation)     (None, 1, 1, 128)    0           batch_normalization_141[0][0]    \n",
      "__________________________________________________________________________________________________\n",
      "max_pooling2d_43 (MaxPooling2D) (None, 1, 1, 128)    0           activation_136[0][0]             \n",
      "__________________________________________________________________________________________________\n",
      "conv2d_177 (Conv2D)             (None, 1, 1, 128)    147584      max_pooling2d_43[0][0]           \n",
      "__________________________________________________________________________________________________\n",
      "batch_normalization_142 (BatchN (None, 1, 1, 128)    512         conv2d_177[0][0]                 \n",
      "__________________________________________________________________________________________________\n",
      "conv2d_175 (Conv2D)             (None, 1, 1, 128)    16512       add_64[0][0]                     \n",
      "__________________________________________________________________________________________________\n",
      "activation_137 (Activation)     (None, 1, 1, 128)    0           batch_normalization_142[0][0]    \n",
      "__________________________________________________________________________________________________\n",
      "add_65 (Add)                    (None, 1, 1, 128)    0           conv2d_175[0][0]                 \n",
      "                                                                 activation_137[0][0]             \n",
      "__________________________________________________________________________________________________\n",
      "conv2d_178 (Conv2D)             (None, 1, 1, 128)    147584      add_65[0][0]                     \n",
      "__________________________________________________________________________________________________\n",
      "batch_normalization_143 (BatchN (None, 1, 1, 128)    512         conv2d_178[0][0]                 \n",
      "__________________________________________________________________________________________________\n",
      "activation_138 (Activation)     (None, 1, 1, 128)    0           batch_normalization_143[0][0]    \n",
      "__________________________________________________________________________________________________\n",
      "conv2d_179 (Conv2D)             (None, 1, 1, 128)    147584      activation_138[0][0]             \n",
      "__________________________________________________________________________________________________\n",
      "batch_normalization_144 (BatchN (None, 1, 1, 128)    512         conv2d_179[0][0]                 \n",
      "__________________________________________________________________________________________________\n",
      "activation_139 (Activation)     (None, 1, 1, 128)    0           batch_normalization_144[0][0]    \n",
      "__________________________________________________________________________________________________\n",
      "add_66 (Add)                    (None, 1, 1, 128)    0           add_65[0][0]                     \n",
      "                                                                 activation_139[0][0]             \n",
      "__________________________________________________________________________________________________\n",
      "conv2d_181 (Conv2D)             (None, 1, 1, 256)    295168      add_66[0][0]                     \n",
      "__________________________________________________________________________________________________\n",
      "batch_normalization_145 (BatchN (None, 1, 1, 256)    1024        conv2d_181[0][0]                 \n",
      "__________________________________________________________________________________________________\n",
      "activation_140 (Activation)     (None, 1, 1, 256)    0           batch_normalization_145[0][0]    \n",
      "__________________________________________________________________________________________________\n",
      "max_pooling2d_44 (MaxPooling2D) (None, 1, 1, 256)    0           activation_140[0][0]             \n",
      "__________________________________________________________________________________________________\n",
      "conv2d_182 (Conv2D)             (None, 1, 1, 256)    590080      max_pooling2d_44[0][0]           \n",
      "__________________________________________________________________________________________________\n",
      "batch_normalization_146 (BatchN (None, 1, 1, 256)    1024        conv2d_182[0][0]                 \n",
      "__________________________________________________________________________________________________\n",
      "conv2d_180 (Conv2D)             (None, 1, 1, 256)    33024       add_66[0][0]                     \n",
      "__________________________________________________________________________________________________\n",
      "activation_141 (Activation)     (None, 1, 1, 256)    0           batch_normalization_146[0][0]    \n",
      "__________________________________________________________________________________________________\n",
      "add_67 (Add)                    (None, 1, 1, 256)    0           conv2d_180[0][0]                 \n",
      "                                                                 activation_141[0][0]             \n",
      "__________________________________________________________________________________________________\n",
      "conv2d_183 (Conv2D)             (None, 1, 1, 256)    590080      add_67[0][0]                     \n",
      "__________________________________________________________________________________________________\n",
      "batch_normalization_147 (BatchN (None, 1, 1, 256)    1024        conv2d_183[0][0]                 \n",
      "__________________________________________________________________________________________________\n",
      "activation_142 (Activation)     (None, 1, 1, 256)    0           batch_normalization_147[0][0]    \n",
      "__________________________________________________________________________________________________\n",
      "conv2d_184 (Conv2D)             (None, 1, 1, 256)    590080      activation_142[0][0]             \n",
      "__________________________________________________________________________________________________\n",
      "batch_normalization_148 (BatchN (None, 1, 1, 256)    1024        conv2d_184[0][0]                 \n",
      "__________________________________________________________________________________________________\n",
      "activation_143 (Activation)     (None, 1, 1, 256)    0           batch_normalization_148[0][0]    \n",
      "__________________________________________________________________________________________________\n",
      "add_68 (Add)                    (None, 1, 1, 256)    0           add_67[0][0]                     \n",
      "                                                                 activation_143[0][0]             \n",
      "__________________________________________________________________________________________________\n",
      "conv2d_186 (Conv2D)             (None, 1, 1, 256)    590080      add_68[0][0]                     \n",
      "__________________________________________________________________________________________________\n",
      "batch_normalization_149 (BatchN (None, 1, 1, 256)    1024        conv2d_186[0][0]                 \n",
      "__________________________________________________________________________________________________\n",
      "activation_144 (Activation)     (None, 1, 1, 256)    0           batch_normalization_149[0][0]    \n",
      "__________________________________________________________________________________________________\n",
      "max_pooling2d_45 (MaxPooling2D) (None, 1, 1, 256)    0           activation_144[0][0]             \n",
      "__________________________________________________________________________________________________\n",
      "conv2d_187 (Conv2D)             (None, 1, 1, 256)    590080      max_pooling2d_45[0][0]           \n",
      "__________________________________________________________________________________________________\n",
      "batch_normalization_150 (BatchN (None, 1, 1, 256)    1024        conv2d_187[0][0]                 \n",
      "__________________________________________________________________________________________________\n",
      "conv2d_185 (Conv2D)             (None, 1, 1, 256)    65792       add_68[0][0]                     \n",
      "__________________________________________________________________________________________________\n",
      "activation_145 (Activation)     (None, 1, 1, 256)    0           batch_normalization_150[0][0]    \n",
      "__________________________________________________________________________________________________\n",
      "add_69 (Add)                    (None, 1, 1, 256)    0           conv2d_185[0][0]                 \n",
      "                                                                 activation_145[0][0]             \n",
      "__________________________________________________________________________________________________\n",
      "conv2d_188 (Conv2D)             (None, 1, 1, 256)    590080      add_69[0][0]                     \n",
      "__________________________________________________________________________________________________\n",
      "batch_normalization_151 (BatchN (None, 1, 1, 256)    1024        conv2d_188[0][0]                 \n",
      "__________________________________________________________________________________________________\n",
      "activation_146 (Activation)     (None, 1, 1, 256)    0           batch_normalization_151[0][0]    \n",
      "__________________________________________________________________________________________________\n",
      "conv2d_189 (Conv2D)             (None, 1, 1, 256)    590080      activation_146[0][0]             \n",
      "__________________________________________________________________________________________________\n",
      "batch_normalization_152 (BatchN (None, 1, 1, 256)    1024        conv2d_189[0][0]                 \n",
      "__________________________________________________________________________________________________\n",
      "activation_147 (Activation)     (None, 1, 1, 256)    0           batch_normalization_152[0][0]    \n",
      "__________________________________________________________________________________________________\n",
      "add_70 (Add)                    (None, 1, 1, 256)    0           add_69[0][0]                     \n",
      "                                                                 activation_147[0][0]             \n",
      "__________________________________________________________________________________________________\n",
      "conv2d_191 (Conv2D)             (None, 1, 1, 256)    590080      add_70[0][0]                     \n",
      "__________________________________________________________________________________________________\n",
      "batch_normalization_153 (BatchN (None, 1, 1, 256)    1024        conv2d_191[0][0]                 \n",
      "__________________________________________________________________________________________________\n",
      "activation_148 (Activation)     (None, 1, 1, 256)    0           batch_normalization_153[0][0]    \n",
      "__________________________________________________________________________________________________\n",
      "max_pooling2d_46 (MaxPooling2D) (None, 1, 1, 256)    0           activation_148[0][0]             \n",
      "__________________________________________________________________________________________________\n",
      "conv2d_192 (Conv2D)             (None, 1, 1, 256)    590080      max_pooling2d_46[0][0]           \n",
      "__________________________________________________________________________________________________\n",
      "batch_normalization_154 (BatchN (None, 1, 1, 256)    1024        conv2d_192[0][0]                 \n",
      "__________________________________________________________________________________________________\n",
      "conv2d_190 (Conv2D)             (None, 1, 1, 256)    65792       add_70[0][0]                     \n",
      "__________________________________________________________________________________________________\n",
      "activation_149 (Activation)     (None, 1, 1, 256)    0           batch_normalization_154[0][0]    \n",
      "__________________________________________________________________________________________________\n",
      "add_71 (Add)                    (None, 1, 1, 256)    0           conv2d_190[0][0]                 \n",
      "                                                                 activation_149[0][0]             \n",
      "__________________________________________________________________________________________________\n",
      "conv2d_193 (Conv2D)             (None, 1, 1, 256)    590080      add_71[0][0]                     \n",
      "__________________________________________________________________________________________________\n",
      "batch_normalization_155 (BatchN (None, 1, 1, 256)    1024        conv2d_193[0][0]                 \n",
      "__________________________________________________________________________________________________\n",
      "activation_150 (Activation)     (None, 1, 1, 256)    0           batch_normalization_155[0][0]    \n",
      "__________________________________________________________________________________________________\n",
      "conv2d_194 (Conv2D)             (None, 1, 1, 256)    590080      activation_150[0][0]             \n",
      "__________________________________________________________________________________________________\n",
      "batch_normalization_156 (BatchN (None, 1, 1, 256)    1024        conv2d_194[0][0]                 \n",
      "__________________________________________________________________________________________________\n",
      "activation_151 (Activation)     (None, 1, 1, 256)    0           batch_normalization_156[0][0]    \n",
      "__________________________________________________________________________________________________\n",
      "add_72 (Add)                    (None, 1, 1, 256)    0           add_71[0][0]                     \n",
      "                                                                 activation_151[0][0]             \n",
      "__________________________________________________________________________________________________\n",
      "batch_normalization_157 (BatchN (None, 1, 1, 256)    1024        add_72[0][0]                     \n",
      "__________________________________________________________________________________________________\n",
      "activation_152 (Activation)     (None, 1, 1, 256)    0           batch_normalization_157[0][0]    \n",
      "__________________________________________________________________________________________________\n",
      "flatten_8 (Flatten)             (None, 256)          0           activation_152[0][0]             \n",
      "__________________________________________________________________________________________________\n",
      "dense_13 (Dense)                (None, 2)            514         flatten_8[0][0]                  \n",
      "==================================================================================================\n",
      "Total params: 9,264,034\n",
      "Trainable params: 9,252,002\n",
      "Non-trainable params: 12,032\n",
      "__________________________________________________________________________________________________\n"
     ]
    }
   ],
   "source": [
    "cnn3.summary()"
   ]
  },
  {
   "cell_type": "markdown",
   "metadata": {
    "colab_type": "text",
    "id": "MMxf2pck4WOv"
   },
   "source": [
    "Now I try the same model but without residual connections:"
   ]
  },
  {
   "cell_type": "code",
   "execution_count": 0,
   "metadata": {
    "colab": {},
    "colab_type": "code",
    "id": "One0WOeg91Sv"
   },
   "outputs": [],
   "source": [
    "no_res_inputs = Input(shape=X_train3[0].shape)\n",
    "\n",
    "net = Conv2D(filters=32, kernel_size=[3, 3], strides=(1, 1), padding='same')(no_res_inputs)\n",
    " \n",
    "# 12 layers\n",
    "for i in range(3):\n",
    "  net = Unit(net, 32, residuals=False, pool=True)\n",
    "  net = Unit(net, 32, residuals=False)\n",
    "\n",
    "# 12 layers\n",
    "for i in range(3):\n",
    "  net = Unit(net,64, residuals=False, pool=True)\n",
    "  net = Unit(net,64, residuals=False)\n",
    "\n",
    "# 12 layers\n",
    "for i in range(3):\n",
    "  net = Unit(net,128, residuals=False, pool=True)\n",
    "  net = Unit(net,128, residuals=False)\n",
    "\n",
    "# 12 layers\n",
    "for i in range(3):\n",
    "  net = Unit(net, 256, residuals=False, pool=True)\n",
    "  net = Unit(net, 256, residuals=False)\n",
    "\n",
    "net = BatchNormalization()(net)\n",
    "net = Activation('relu')(net)\n",
    "\n",
    "net = Flatten()(net)\n",
    "net = Dense(units=len(IDC_labels), activation=\"softmax\")(net)\n",
    "\n",
    "cnn4 = Model(inputs=no_res_inputs, outputs=net)\n",
    "\n",
    "cnn4.compile(optimizer=SGD(lr=0.01), loss='categorical_crossentropy', metrics=['accuracy'])\n"
   ]
  },
  {
   "cell_type": "code",
   "execution_count": 0,
   "metadata": {
    "colab": {
     "base_uri": "https://localhost:8080/",
     "height": 5576
    },
    "colab_type": "code",
    "id": "EOJP9XZGwgQn",
    "outputId": "af7a8467-bf40-4410-d070-b66a6e0c46fc"
   },
   "outputs": [
    {
     "name": "stdout",
     "output_type": "stream",
     "text": [
      "_________________________________________________________________\n",
      "Layer (type)                 Output Shape              Param #   \n",
      "=================================================================\n",
      "input_15 (InputLayer)        (None, 50, 50, 3)         0         \n",
      "_________________________________________________________________\n",
      "conv2d_771 (Conv2D)          (None, 50, 50, 32)        896       \n",
      "_________________________________________________________________\n",
      "conv2d_772 (Conv2D)          (None, 50, 50, 32)        9248      \n",
      "_________________________________________________________________\n",
      "batch_normalization_682 (Bat (None, 50, 50, 32)        128       \n",
      "_________________________________________________________________\n",
      "activation_684 (Activation)  (None, 50, 50, 32)        0         \n",
      "_________________________________________________________________\n",
      "max_pooling2d_169 (MaxPoolin (None, 25, 25, 32)        0         \n",
      "_________________________________________________________________\n",
      "conv2d_773 (Conv2D)          (None, 25, 25, 32)        9248      \n",
      "_________________________________________________________________\n",
      "batch_normalization_683 (Bat (None, 25, 25, 32)        128       \n",
      "_________________________________________________________________\n",
      "activation_685 (Activation)  (None, 25, 25, 32)        0         \n",
      "_________________________________________________________________\n",
      "conv2d_774 (Conv2D)          (None, 25, 25, 32)        9248      \n",
      "_________________________________________________________________\n",
      "batch_normalization_684 (Bat (None, 25, 25, 32)        128       \n",
      "_________________________________________________________________\n",
      "activation_686 (Activation)  (None, 25, 25, 32)        0         \n",
      "_________________________________________________________________\n",
      "conv2d_775 (Conv2D)          (None, 25, 25, 32)        9248      \n",
      "_________________________________________________________________\n",
      "batch_normalization_685 (Bat (None, 25, 25, 32)        128       \n",
      "_________________________________________________________________\n",
      "activation_687 (Activation)  (None, 25, 25, 32)        0         \n",
      "_________________________________________________________________\n",
      "conv2d_776 (Conv2D)          (None, 25, 25, 32)        9248      \n",
      "_________________________________________________________________\n",
      "batch_normalization_686 (Bat (None, 25, 25, 32)        128       \n",
      "_________________________________________________________________\n",
      "activation_688 (Activation)  (None, 25, 25, 32)        0         \n",
      "_________________________________________________________________\n",
      "max_pooling2d_170 (MaxPoolin (None, 13, 13, 32)        0         \n",
      "_________________________________________________________________\n",
      "conv2d_777 (Conv2D)          (None, 13, 13, 32)        9248      \n",
      "_________________________________________________________________\n",
      "batch_normalization_687 (Bat (None, 13, 13, 32)        128       \n",
      "_________________________________________________________________\n",
      "activation_689 (Activation)  (None, 13, 13, 32)        0         \n",
      "_________________________________________________________________\n",
      "conv2d_778 (Conv2D)          (None, 13, 13, 32)        9248      \n",
      "_________________________________________________________________\n",
      "batch_normalization_688 (Bat (None, 13, 13, 32)        128       \n",
      "_________________________________________________________________\n",
      "activation_690 (Activation)  (None, 13, 13, 32)        0         \n",
      "_________________________________________________________________\n",
      "conv2d_779 (Conv2D)          (None, 13, 13, 32)        9248      \n",
      "_________________________________________________________________\n",
      "batch_normalization_689 (Bat (None, 13, 13, 32)        128       \n",
      "_________________________________________________________________\n",
      "activation_691 (Activation)  (None, 13, 13, 32)        0         \n",
      "_________________________________________________________________\n",
      "conv2d_780 (Conv2D)          (None, 13, 13, 32)        9248      \n",
      "_________________________________________________________________\n",
      "batch_normalization_690 (Bat (None, 13, 13, 32)        128       \n",
      "_________________________________________________________________\n",
      "activation_692 (Activation)  (None, 13, 13, 32)        0         \n",
      "_________________________________________________________________\n",
      "max_pooling2d_171 (MaxPoolin (None, 7, 7, 32)          0         \n",
      "_________________________________________________________________\n",
      "conv2d_781 (Conv2D)          (None, 7, 7, 32)          9248      \n",
      "_________________________________________________________________\n",
      "batch_normalization_691 (Bat (None, 7, 7, 32)          128       \n",
      "_________________________________________________________________\n",
      "activation_693 (Activation)  (None, 7, 7, 32)          0         \n",
      "_________________________________________________________________\n",
      "conv2d_782 (Conv2D)          (None, 7, 7, 32)          9248      \n",
      "_________________________________________________________________\n",
      "batch_normalization_692 (Bat (None, 7, 7, 32)          128       \n",
      "_________________________________________________________________\n",
      "activation_694 (Activation)  (None, 7, 7, 32)          0         \n",
      "_________________________________________________________________\n",
      "conv2d_783 (Conv2D)          (None, 7, 7, 32)          9248      \n",
      "_________________________________________________________________\n",
      "batch_normalization_693 (Bat (None, 7, 7, 32)          128       \n",
      "_________________________________________________________________\n",
      "activation_695 (Activation)  (None, 7, 7, 32)          0         \n",
      "_________________________________________________________________\n",
      "conv2d_784 (Conv2D)          (None, 7, 7, 64)          18496     \n",
      "_________________________________________________________________\n",
      "batch_normalization_694 (Bat (None, 7, 7, 64)          256       \n",
      "_________________________________________________________________\n",
      "activation_696 (Activation)  (None, 7, 7, 64)          0         \n",
      "_________________________________________________________________\n",
      "max_pooling2d_172 (MaxPoolin (None, 4, 4, 64)          0         \n",
      "_________________________________________________________________\n",
      "conv2d_785 (Conv2D)          (None, 4, 4, 64)          36928     \n",
      "_________________________________________________________________\n",
      "batch_normalization_695 (Bat (None, 4, 4, 64)          256       \n",
      "_________________________________________________________________\n",
      "activation_697 (Activation)  (None, 4, 4, 64)          0         \n",
      "_________________________________________________________________\n",
      "conv2d_786 (Conv2D)          (None, 4, 4, 64)          36928     \n",
      "_________________________________________________________________\n",
      "batch_normalization_696 (Bat (None, 4, 4, 64)          256       \n",
      "_________________________________________________________________\n",
      "activation_698 (Activation)  (None, 4, 4, 64)          0         \n",
      "_________________________________________________________________\n",
      "conv2d_787 (Conv2D)          (None, 4, 4, 64)          36928     \n",
      "_________________________________________________________________\n",
      "batch_normalization_697 (Bat (None, 4, 4, 64)          256       \n",
      "_________________________________________________________________\n",
      "activation_699 (Activation)  (None, 4, 4, 64)          0         \n",
      "_________________________________________________________________\n",
      "conv2d_788 (Conv2D)          (None, 4, 4, 64)          36928     \n",
      "_________________________________________________________________\n",
      "batch_normalization_698 (Bat (None, 4, 4, 64)          256       \n",
      "_________________________________________________________________\n",
      "activation_700 (Activation)  (None, 4, 4, 64)          0         \n",
      "_________________________________________________________________\n",
      "max_pooling2d_173 (MaxPoolin (None, 2, 2, 64)          0         \n",
      "_________________________________________________________________\n",
      "conv2d_789 (Conv2D)          (None, 2, 2, 64)          36928     \n",
      "_________________________________________________________________\n",
      "batch_normalization_699 (Bat (None, 2, 2, 64)          256       \n",
      "_________________________________________________________________\n",
      "activation_701 (Activation)  (None, 2, 2, 64)          0         \n",
      "_________________________________________________________________\n",
      "conv2d_790 (Conv2D)          (None, 2, 2, 64)          36928     \n",
      "_________________________________________________________________\n",
      "batch_normalization_700 (Bat (None, 2, 2, 64)          256       \n",
      "_________________________________________________________________\n",
      "activation_702 (Activation)  (None, 2, 2, 64)          0         \n",
      "_________________________________________________________________\n",
      "conv2d_791 (Conv2D)          (None, 2, 2, 64)          36928     \n",
      "_________________________________________________________________\n",
      "batch_normalization_701 (Bat (None, 2, 2, 64)          256       \n",
      "_________________________________________________________________\n",
      "activation_703 (Activation)  (None, 2, 2, 64)          0         \n",
      "_________________________________________________________________\n",
      "conv2d_792 (Conv2D)          (None, 2, 2, 64)          36928     \n",
      "_________________________________________________________________\n",
      "batch_normalization_702 (Bat (None, 2, 2, 64)          256       \n",
      "_________________________________________________________________\n",
      "activation_704 (Activation)  (None, 2, 2, 64)          0         \n",
      "_________________________________________________________________\n",
      "max_pooling2d_174 (MaxPoolin (None, 1, 1, 64)          0         \n",
      "_________________________________________________________________\n",
      "conv2d_793 (Conv2D)          (None, 1, 1, 64)          36928     \n",
      "_________________________________________________________________\n",
      "batch_normalization_703 (Bat (None, 1, 1, 64)          256       \n",
      "_________________________________________________________________\n",
      "activation_705 (Activation)  (None, 1, 1, 64)          0         \n",
      "_________________________________________________________________\n",
      "conv2d_794 (Conv2D)          (None, 1, 1, 64)          36928     \n",
      "_________________________________________________________________\n",
      "batch_normalization_704 (Bat (None, 1, 1, 64)          256       \n",
      "_________________________________________________________________\n",
      "activation_706 (Activation)  (None, 1, 1, 64)          0         \n",
      "_________________________________________________________________\n",
      "conv2d_795 (Conv2D)          (None, 1, 1, 64)          36928     \n",
      "_________________________________________________________________\n",
      "batch_normalization_705 (Bat (None, 1, 1, 64)          256       \n",
      "_________________________________________________________________\n",
      "activation_707 (Activation)  (None, 1, 1, 64)          0         \n",
      "_________________________________________________________________\n",
      "conv2d_796 (Conv2D)          (None, 1, 1, 128)         73856     \n",
      "_________________________________________________________________\n",
      "batch_normalization_706 (Bat (None, 1, 1, 128)         512       \n",
      "_________________________________________________________________\n",
      "activation_708 (Activation)  (None, 1, 1, 128)         0         \n",
      "_________________________________________________________________\n",
      "max_pooling2d_175 (MaxPoolin (None, 1, 1, 128)         0         \n",
      "_________________________________________________________________\n",
      "conv2d_797 (Conv2D)          (None, 1, 1, 128)         147584    \n",
      "_________________________________________________________________\n",
      "batch_normalization_707 (Bat (None, 1, 1, 128)         512       \n",
      "_________________________________________________________________\n",
      "activation_709 (Activation)  (None, 1, 1, 128)         0         \n",
      "_________________________________________________________________\n",
      "conv2d_798 (Conv2D)          (None, 1, 1, 128)         147584    \n",
      "_________________________________________________________________\n",
      "batch_normalization_708 (Bat (None, 1, 1, 128)         512       \n",
      "_________________________________________________________________\n",
      "activation_710 (Activation)  (None, 1, 1, 128)         0         \n",
      "_________________________________________________________________\n",
      "conv2d_799 (Conv2D)          (None, 1, 1, 128)         147584    \n",
      "_________________________________________________________________\n",
      "batch_normalization_709 (Bat (None, 1, 1, 128)         512       \n",
      "_________________________________________________________________\n",
      "activation_711 (Activation)  (None, 1, 1, 128)         0         \n",
      "_________________________________________________________________\n",
      "conv2d_800 (Conv2D)          (None, 1, 1, 128)         147584    \n",
      "_________________________________________________________________\n",
      "batch_normalization_710 (Bat (None, 1, 1, 128)         512       \n",
      "_________________________________________________________________\n",
      "activation_712 (Activation)  (None, 1, 1, 128)         0         \n",
      "_________________________________________________________________\n",
      "max_pooling2d_176 (MaxPoolin (None, 1, 1, 128)         0         \n",
      "_________________________________________________________________\n",
      "conv2d_801 (Conv2D)          (None, 1, 1, 128)         147584    \n",
      "_________________________________________________________________\n",
      "batch_normalization_711 (Bat (None, 1, 1, 128)         512       \n",
      "_________________________________________________________________\n",
      "activation_713 (Activation)  (None, 1, 1, 128)         0         \n",
      "_________________________________________________________________\n",
      "conv2d_802 (Conv2D)          (None, 1, 1, 128)         147584    \n",
      "_________________________________________________________________\n",
      "batch_normalization_712 (Bat (None, 1, 1, 128)         512       \n",
      "_________________________________________________________________\n",
      "activation_714 (Activation)  (None, 1, 1, 128)         0         \n",
      "_________________________________________________________________\n",
      "conv2d_803 (Conv2D)          (None, 1, 1, 128)         147584    \n",
      "_________________________________________________________________\n",
      "batch_normalization_713 (Bat (None, 1, 1, 128)         512       \n",
      "_________________________________________________________________\n",
      "activation_715 (Activation)  (None, 1, 1, 128)         0         \n",
      "_________________________________________________________________\n",
      "conv2d_804 (Conv2D)          (None, 1, 1, 128)         147584    \n",
      "_________________________________________________________________\n",
      "batch_normalization_714 (Bat (None, 1, 1, 128)         512       \n",
      "_________________________________________________________________\n",
      "activation_716 (Activation)  (None, 1, 1, 128)         0         \n",
      "_________________________________________________________________\n",
      "max_pooling2d_177 (MaxPoolin (None, 1, 1, 128)         0         \n",
      "_________________________________________________________________\n",
      "conv2d_805 (Conv2D)          (None, 1, 1, 128)         147584    \n",
      "_________________________________________________________________\n",
      "batch_normalization_715 (Bat (None, 1, 1, 128)         512       \n",
      "_________________________________________________________________\n",
      "activation_717 (Activation)  (None, 1, 1, 128)         0         \n",
      "_________________________________________________________________\n",
      "conv2d_806 (Conv2D)          (None, 1, 1, 128)         147584    \n",
      "_________________________________________________________________\n",
      "batch_normalization_716 (Bat (None, 1, 1, 128)         512       \n",
      "_________________________________________________________________\n",
      "activation_718 (Activation)  (None, 1, 1, 128)         0         \n",
      "_________________________________________________________________\n",
      "conv2d_807 (Conv2D)          (None, 1, 1, 128)         147584    \n",
      "_________________________________________________________________\n",
      "batch_normalization_717 (Bat (None, 1, 1, 128)         512       \n",
      "_________________________________________________________________\n",
      "activation_719 (Activation)  (None, 1, 1, 128)         0         \n",
      "_________________________________________________________________\n",
      "conv2d_808 (Conv2D)          (None, 1, 1, 256)         295168    \n",
      "_________________________________________________________________\n",
      "batch_normalization_718 (Bat (None, 1, 1, 256)         1024      \n",
      "_________________________________________________________________\n",
      "activation_720 (Activation)  (None, 1, 1, 256)         0         \n",
      "_________________________________________________________________\n",
      "max_pooling2d_178 (MaxPoolin (None, 1, 1, 256)         0         \n",
      "_________________________________________________________________\n",
      "conv2d_809 (Conv2D)          (None, 1, 1, 256)         590080    \n",
      "_________________________________________________________________\n",
      "batch_normalization_719 (Bat (None, 1, 1, 256)         1024      \n",
      "_________________________________________________________________\n",
      "activation_721 (Activation)  (None, 1, 1, 256)         0         \n",
      "_________________________________________________________________\n",
      "conv2d_810 (Conv2D)          (None, 1, 1, 256)         590080    \n",
      "_________________________________________________________________\n",
      "batch_normalization_720 (Bat (None, 1, 1, 256)         1024      \n",
      "_________________________________________________________________\n",
      "activation_722 (Activation)  (None, 1, 1, 256)         0         \n",
      "_________________________________________________________________\n",
      "conv2d_811 (Conv2D)          (None, 1, 1, 256)         590080    \n",
      "_________________________________________________________________\n",
      "batch_normalization_721 (Bat (None, 1, 1, 256)         1024      \n",
      "_________________________________________________________________\n",
      "activation_723 (Activation)  (None, 1, 1, 256)         0         \n",
      "_________________________________________________________________\n",
      "conv2d_812 (Conv2D)          (None, 1, 1, 256)         590080    \n",
      "_________________________________________________________________\n",
      "batch_normalization_722 (Bat (None, 1, 1, 256)         1024      \n",
      "_________________________________________________________________\n",
      "activation_724 (Activation)  (None, 1, 1, 256)         0         \n",
      "_________________________________________________________________\n",
      "max_pooling2d_179 (MaxPoolin (None, 1, 1, 256)         0         \n",
      "_________________________________________________________________\n",
      "conv2d_813 (Conv2D)          (None, 1, 1, 256)         590080    \n",
      "_________________________________________________________________\n",
      "batch_normalization_723 (Bat (None, 1, 1, 256)         1024      \n",
      "_________________________________________________________________\n",
      "activation_725 (Activation)  (None, 1, 1, 256)         0         \n",
      "_________________________________________________________________\n",
      "conv2d_814 (Conv2D)          (None, 1, 1, 256)         590080    \n",
      "_________________________________________________________________\n",
      "batch_normalization_724 (Bat (None, 1, 1, 256)         1024      \n",
      "_________________________________________________________________\n",
      "activation_726 (Activation)  (None, 1, 1, 256)         0         \n",
      "_________________________________________________________________\n",
      "conv2d_815 (Conv2D)          (None, 1, 1, 256)         590080    \n",
      "_________________________________________________________________\n",
      "batch_normalization_725 (Bat (None, 1, 1, 256)         1024      \n",
      "_________________________________________________________________\n",
      "activation_727 (Activation)  (None, 1, 1, 256)         0         \n",
      "_________________________________________________________________\n",
      "conv2d_816 (Conv2D)          (None, 1, 1, 256)         590080    \n",
      "_________________________________________________________________\n",
      "batch_normalization_726 (Bat (None, 1, 1, 256)         1024      \n",
      "_________________________________________________________________\n",
      "activation_728 (Activation)  (None, 1, 1, 256)         0         \n",
      "_________________________________________________________________\n",
      "max_pooling2d_180 (MaxPoolin (None, 1, 1, 256)         0         \n",
      "_________________________________________________________________\n",
      "conv2d_817 (Conv2D)          (None, 1, 1, 256)         590080    \n",
      "_________________________________________________________________\n",
      "batch_normalization_727 (Bat (None, 1, 1, 256)         1024      \n",
      "_________________________________________________________________\n",
      "activation_729 (Activation)  (None, 1, 1, 256)         0         \n",
      "_________________________________________________________________\n",
      "conv2d_818 (Conv2D)          (None, 1, 1, 256)         590080    \n",
      "_________________________________________________________________\n",
      "batch_normalization_728 (Bat (None, 1, 1, 256)         1024      \n",
      "_________________________________________________________________\n",
      "activation_730 (Activation)  (None, 1, 1, 256)         0         \n",
      "_________________________________________________________________\n",
      "conv2d_819 (Conv2D)          (None, 1, 1, 256)         590080    \n",
      "_________________________________________________________________\n",
      "batch_normalization_729 (Bat (None, 1, 1, 256)         1024      \n",
      "_________________________________________________________________\n",
      "activation_731 (Activation)  (None, 1, 1, 256)         0         \n",
      "_________________________________________________________________\n",
      "flatten_15 (Flatten)         (None, 256)               0         \n",
      "_________________________________________________________________\n",
      "dense_15 (Dense)             (None, 2)                 514       \n",
      "=================================================================\n",
      "Total params: 9,043,458\n",
      "Trainable params: 9,031,938\n",
      "Non-trainable params: 11,520\n",
      "_________________________________________________________________\n"
     ]
    }
   ],
   "source": [
    "cnn4.summary()"
   ]
  },
  {
   "cell_type": "markdown",
   "metadata": {
    "colab_type": "text",
    "id": "mFrIWJ1wwoxW"
   },
   "source": [
    "Now model training:"
   ]
  },
  {
   "cell_type": "code",
   "execution_count": 0,
   "metadata": {
    "colab": {
     "base_uri": "https://localhost:8080/",
     "height": 731
    },
    "colab_type": "code",
    "id": "j2M63WUczrdU",
    "outputId": "6feee30f-789c-4183-eff2-2ab0520c55e9"
   },
   "outputs": [
    {
     "name": "stdout",
     "output_type": "stream",
     "text": [
      "Train on 30000 samples, validate on 5000 samples\n",
      "Epoch 1/20\n",
      "30000/30000 [==============================] - 25s 843us/step - loss: 0.6436 - acc: 0.6674 - val_loss: 0.5732 - val_acc: 0.7134\n",
      "Epoch 2/20\n",
      "30000/30000 [==============================] - 11s 367us/step - loss: 0.5281 - acc: 0.7547 - val_loss: 0.7040 - val_acc: 0.6656\n",
      "Epoch 3/20\n",
      "30000/30000 [==============================] - 11s 369us/step - loss: 0.5070 - acc: 0.7674 - val_loss: 0.5892 - val_acc: 0.7164\n",
      "Epoch 4/20\n",
      "30000/30000 [==============================] - 11s 368us/step - loss: 0.4919 - acc: 0.7751 - val_loss: 1.1338 - val_acc: 0.5714\n",
      "Epoch 5/20\n",
      "30000/30000 [==============================] - 11s 364us/step - loss: 0.4839 - acc: 0.7798 - val_loss: 0.5382 - val_acc: 0.7452\n",
      "Epoch 6/20\n",
      "30000/30000 [==============================] - 11s 361us/step - loss: 0.4713 - acc: 0.7848 - val_loss: 0.6496 - val_acc: 0.6928\n",
      "Epoch 7/20\n",
      "30000/30000 [==============================] - 11s 361us/step - loss: 0.4629 - acc: 0.7903 - val_loss: 1.2139 - val_acc: 0.5538\n",
      "Epoch 8/20\n",
      "30000/30000 [==============================] - 11s 362us/step - loss: 0.4626 - acc: 0.7920 - val_loss: 0.6716 - val_acc: 0.6956\n",
      "Epoch 9/20\n",
      "30000/30000 [==============================] - 11s 363us/step - loss: 0.4468 - acc: 0.7974 - val_loss: 0.4911 - val_acc: 0.7778\n",
      "Epoch 10/20\n",
      "30000/30000 [==============================] - 11s 364us/step - loss: 0.4410 - acc: 0.8011 - val_loss: 0.9491 - val_acc: 0.6090\n",
      "Epoch 11/20\n",
      "30000/30000 [==============================] - 11s 365us/step - loss: 0.4464 - acc: 0.7998 - val_loss: 0.6484 - val_acc: 0.6566\n",
      "Epoch 12/20\n",
      "30000/30000 [==============================] - 11s 366us/step - loss: 0.4285 - acc: 0.8099 - val_loss: 0.6108 - val_acc: 0.7040\n",
      "Epoch 13/20\n",
      "30000/30000 [==============================] - 11s 365us/step - loss: 0.4225 - acc: 0.8120 - val_loss: 0.8286 - val_acc: 0.6106\n",
      "Epoch 14/20\n",
      "30000/30000 [==============================] - 11s 363us/step - loss: 0.4205 - acc: 0.8124 - val_loss: 0.9361 - val_acc: 0.6092\n",
      "Epoch 15/20\n",
      "30000/30000 [==============================] - 11s 363us/step - loss: 0.4202 - acc: 0.8119 - val_loss: 0.5077 - val_acc: 0.7688\n",
      "Epoch 16/20\n",
      "30000/30000 [==============================] - 11s 362us/step - loss: 0.4096 - acc: 0.8180 - val_loss: 0.6900 - val_acc: 0.6750\n",
      "Epoch 17/20\n",
      "30000/30000 [==============================] - 11s 363us/step - loss: 0.4117 - acc: 0.8175 - val_loss: 0.4655 - val_acc: 0.7926\n",
      "Epoch 18/20\n",
      "30000/30000 [==============================] - 11s 363us/step - loss: 0.4076 - acc: 0.8182 - val_loss: 0.6217 - val_acc: 0.6756\n",
      "Epoch 19/20\n",
      "30000/30000 [==============================] - 11s 366us/step - loss: 0.4096 - acc: 0.8198 - val_loss: 0.5504 - val_acc: 0.7102\n",
      "Epoch 20/20\n",
      "30000/30000 [==============================] - 11s 365us/step - loss: 0.3975 - acc: 0.8247 - val_loss: 0.6482 - val_acc: 0.6590\n"
     ]
    },
    {
     "data": {
      "text/plain": [
       "<keras.callbacks.History at 0x7f59e8864668>"
      ]
     },
     "execution_count": 60,
     "metadata": {
      "tags": []
     },
     "output_type": "execute_result"
    }
   ],
   "source": [
    "cnn3.fit(X_train3, y_train3, batch_size=4000, epochs=20, validation_data=(X_val3, y_val3), verbose=1)"
   ]
  },
  {
   "cell_type": "code",
   "execution_count": 0,
   "metadata": {
    "colab": {
     "base_uri": "https://localhost:8080/",
     "height": 731
    },
    "colab_type": "code",
    "id": "znOY96jO-idd",
    "outputId": "23932611-2ebc-449d-9f63-88ff22af5948"
   },
   "outputs": [
    {
     "name": "stdout",
     "output_type": "stream",
     "text": [
      "Train on 30000 samples, validate on 5000 samples\n",
      "Epoch 1/20\n",
      "30000/30000 [==============================] - 61s 2ms/step - loss: 0.7635 - acc: 0.5600 - val_loss: 8.0664 - val_acc: 0.4966\n",
      "Epoch 2/20\n",
      "30000/30000 [==============================] - 10s 330us/step - loss: 0.6697 - acc: 0.6289 - val_loss: 6.0616 - val_acc: 0.5078\n",
      "Epoch 3/20\n",
      "30000/30000 [==============================] - 10s 329us/step - loss: 0.6543 - acc: 0.6489 - val_loss: 1.7126 - val_acc: 0.7050\n",
      "Epoch 4/20\n",
      "30000/30000 [==============================] - 10s 327us/step - loss: 0.6042 - acc: 0.6969 - val_loss: 1.3774 - val_acc: 0.6920\n",
      "Epoch 5/20\n",
      "30000/30000 [==============================] - 10s 325us/step - loss: 0.6008 - acc: 0.6942 - val_loss: 1.4195 - val_acc: 0.4982\n",
      "Epoch 6/20\n",
      "30000/30000 [==============================] - 10s 324us/step - loss: 0.5768 - acc: 0.7269 - val_loss: 1.0515 - val_acc: 0.4966\n",
      "Epoch 7/20\n",
      "30000/30000 [==============================] - 10s 323us/step - loss: 0.5419 - acc: 0.7434 - val_loss: 1.0688 - val_acc: 0.4950\n",
      "Epoch 8/20\n",
      "30000/30000 [==============================] - 10s 324us/step - loss: 0.5231 - acc: 0.7573 - val_loss: 0.7248 - val_acc: 0.4754\n",
      "Epoch 9/20\n",
      "30000/30000 [==============================] - 10s 325us/step - loss: 0.5155 - acc: 0.7608 - val_loss: 0.8266 - val_acc: 0.4854\n",
      "Epoch 10/20\n",
      "30000/30000 [==============================] - 10s 325us/step - loss: 0.5235 - acc: 0.7617 - val_loss: 0.7756 - val_acc: 0.4846\n",
      "Epoch 11/20\n",
      "30000/30000 [==============================] - 10s 325us/step - loss: 0.5112 - acc: 0.7637 - val_loss: 0.7400 - val_acc: 0.4802\n",
      "Epoch 12/20\n",
      "30000/30000 [==============================] - 10s 326us/step - loss: 0.4965 - acc: 0.7731 - val_loss: 0.7348 - val_acc: 0.4876\n",
      "Epoch 13/20\n",
      "30000/30000 [==============================] - 10s 325us/step - loss: 0.5001 - acc: 0.7725 - val_loss: 0.9295 - val_acc: 0.4716\n",
      "Epoch 14/20\n",
      "30000/30000 [==============================] - 10s 324us/step - loss: 0.4846 - acc: 0.7800 - val_loss: 0.9741 - val_acc: 0.4510\n",
      "Epoch 15/20\n",
      "30000/30000 [==============================] - 10s 325us/step - loss: 0.4793 - acc: 0.7852 - val_loss: 0.8389 - val_acc: 0.4928\n",
      "Epoch 16/20\n",
      "30000/30000 [==============================] - 10s 324us/step - loss: 0.4814 - acc: 0.7825 - val_loss: 0.7625 - val_acc: 0.4932\n",
      "Epoch 17/20\n",
      "30000/30000 [==============================] - 10s 326us/step - loss: 0.4668 - acc: 0.7924 - val_loss: 0.6241 - val_acc: 0.6474\n",
      "Epoch 18/20\n",
      "30000/30000 [==============================] - 10s 325us/step - loss: 0.4686 - acc: 0.7891 - val_loss: 0.6907 - val_acc: 0.5118\n",
      "Epoch 19/20\n",
      "30000/30000 [==============================] - 10s 324us/step - loss: 0.4603 - acc: 0.7959 - val_loss: 0.6455 - val_acc: 0.6168\n",
      "Epoch 20/20\n",
      "30000/30000 [==============================] - 10s 325us/step - loss: 0.4590 - acc: 0.7975 - val_loss: 0.7896 - val_acc: 0.4968\n"
     ]
    },
    {
     "data": {
      "text/plain": [
       "<keras.callbacks.History at 0x7fea2a11fb38>"
      ]
     },
     "execution_count": 75,
     "metadata": {
      "tags": []
     },
     "output_type": "execute_result"
    }
   ],
   "source": [
    "cnn4.fit(X_train3, y_train3, batch_size=4000, epochs=20, validation_data=(X_val3, y_val3), verbose=1)"
   ]
  },
  {
   "cell_type": "markdown",
   "metadata": {
    "colab_type": "text",
    "id": "avVO57DSNSYi"
   },
   "source": [
    "Let's compare the results with and without ResNet:"
   ]
  },
  {
   "cell_type": "code",
   "execution_count": 0,
   "metadata": {
    "colab": {
     "base_uri": "https://localhost:8080/",
     "height": 51
    },
    "colab_type": "code",
    "id": "5-ocSJoXzyq7",
    "outputId": "0e40f43b-0ab0-4967-8130-f16e1d3417fc"
   },
   "outputs": [
    {
     "name": "stdout",
     "output_type": "stream",
     "text": [
      "ResNet Validation Loss: 0.648\n",
      "ResNet Validation Accuracy: 0.659\n"
     ]
    }
   ],
   "source": [
    "cnn3_score = cnn3.evaluate(X_val3, y_val3, verbose=0)\n",
    "print(f\"\"\"ResNet Validation Loss: {cnn3_score[0]:.3f}\"\"\")\n",
    "print(f\"\"\"ResNet Validation Accuracy: {cnn3_score[1]:.3f}\"\"\")"
   ]
  },
  {
   "cell_type": "code",
   "execution_count": 0,
   "metadata": {
    "colab": {
     "base_uri": "https://localhost:8080/",
     "height": 51
    },
    "colab_type": "code",
    "id": "0AQgOKme-igk",
    "outputId": "89883fd6-15ec-4149-9c09-8d925ad0b7aa"
   },
   "outputs": [
    {
     "name": "stdout",
     "output_type": "stream",
     "text": [
      "Without ResNet Validation Loss: 0.790\n",
      "Without ResNet Validation Accuracy: 0.497\n"
     ]
    }
   ],
   "source": [
    "cnn4_score = cnn4.evaluate(X_val3, y_val3, verbose=0)\n",
    "print(f\"\"\"Without ResNet Validation Loss: {cnn4_score[0]:.3f}\"\"\")\n",
    "print(f\"\"\"Without ResNet Validation Accuracy: {cnn4_score[1]:.3f}\"\"\")"
   ]
  },
  {
   "cell_type": "code",
   "execution_count": 0,
   "metadata": {
    "colab": {
     "base_uri": "https://localhost:8080/",
     "height": 513
    },
    "colab_type": "code",
    "id": "7SfExtRV-ijX",
    "outputId": "b4f138b0-64b6-4716-fbb9-a716dd1ad399"
   },
   "outputs": [
    {
     "data": {
      "image/png": "[encoded data removed]",
      "text/plain": [
       "<Figure size 864x576 with 1 Axes>"
      ]
     },
     "metadata": {
      "tags": []
     },
     "output_type": "display_data"
    }
   ],
   "source": [
    "resnet = {\n",
    "    'ResNet': cnn3,\n",
    "    'Without ResNet': cnn4\n",
    "}\n",
    "\n",
    "learning_curves(resnet, **{'figsize': (12,8)}, title='3.3 ResNet CNN')"
   ]
  },
  {
   "cell_type": "markdown",
   "metadata": {
    "colab_type": "text",
    "id": "xJCyUS2MLnsG"
   },
   "source": [
    "Clearly when I remove the residual connections the model does not learn—the validation accuracy with residual connection doesn't achieve better than a random guess, whereas with residual connection the model performs much better.\n",
    "\n",
    "Interestingly, when I used a small dataset of ~10k this was even more pronounced, and the training accuracy also didn't improve much beyond a random guess.  What I have inferred from running these CNN models is that having a large enough dataset size has a big impact on performance.\n",
    "\n",
    "I also saw the problem with the ResNet that the validation score improvement was inconsistent, despite that it was in fact improving over time.  Early stopping might help here also.  One other possiblity is that because there are so many more layers, we need a lot more epochs to thoroughly train the model."
   ]
  },
  {
   "cell_type": "markdown",
   "metadata": {
    "colab_type": "text",
    "id": "9NeeSgjwbuQX"
   },
   "source": [
    "#### Learning Curves - Training and Validation\n",
    "\n",
    "Now like in Task 2 I plot the learning curves:"
   ]
  },
  {
   "cell_type": "code",
   "execution_count": 0,
   "metadata": {
    "colab": {
     "base_uri": "https://localhost:8080/",
     "height": 513
    },
    "colab_type": "code",
    "id": "JFLiBfbnY3fa",
    "outputId": "26af72e0-b38b-4c8d-95e3-1478d457a8dc"
   },
   "outputs": [
    {
     "data": {
      "image/png": "[encoded data removed]",
      "text/plain": [
       "<Figure size 864x576 with 1 Axes>"
      ]
     },
     "metadata": {
      "tags": []
     },
     "output_type": "display_data"
    }
   ],
   "source": [
    "models = {\n",
    "    'Vanilla': cnn1,\n",
    "    'Augmented': cnn2,\n",
    "    'ResNet': cnn3\n",
    "}\n",
    "\n",
    "learning_curves(models, **{'figsize': (12,8)})"
   ]
  },
  {
   "cell_type": "markdown",
   "metadata": {
    "colab_type": "text",
    "id": "jdWyTgv643kw"
   },
   "source": [
    "#### Generalization"
   ]
  },
  {
   "cell_type": "code",
   "execution_count": 0,
   "metadata": {
    "colab": {
     "base_uri": "https://localhost:8080/",
     "height": 51
    },
    "colab_type": "code",
    "id": "ul9gbv0d44gS",
    "outputId": "655cd322-fdcb-4aca-c1e5-86e1d4a1d2be"
   },
   "outputs": [
    {
     "name": "stdout",
     "output_type": "stream",
     "text": [
      "Vanilla CNN Test Loss: 0.439\n",
      "Vanilla CNN Test Accuracy: 0.797\n"
     ]
    }
   ],
   "source": [
    "cnn1_gen = cnn1.evaluate(X_test3, y_test3, verbose=0)\n",
    "print(f\"\"\"Vanilla CNN Test Loss: {cnn1_gen[0]:.3f}\"\"\")\n",
    "print(f\"\"\"Vanilla CNN Test Accuracy: {cnn1_gen[1]:.3f}\"\"\")"
   ]
  },
  {
   "cell_type": "code",
   "execution_count": 0,
   "metadata": {
    "colab": {
     "base_uri": "https://localhost:8080/",
     "height": 51
    },
    "colab_type": "code",
    "id": "eA4bwrig46Xn",
    "outputId": "53dbab1b-a608-4aef-9af8-d34192f55d7f"
   },
   "outputs": [
    {
     "name": "stdout",
     "output_type": "stream",
     "text": [
      "Augmented CNN Test Loss: 0.483\n",
      "Augmented CNN Test Accuracy: 0.779\n"
     ]
    }
   ],
   "source": [
    "cnn2_gen = cnn2.evaluate(X_test3, y_test3, verbose=0)\n",
    "print(f\"\"\"Augmented CNN Test Loss: {cnn2_gen[0]:.3f}\"\"\")\n",
    "print(f\"\"\"Augmented CNN Test Accuracy: {cnn2_gen[1]:.3f}\"\"\")"
   ]
  },
  {
   "cell_type": "code",
   "execution_count": 0,
   "metadata": {
    "colab": {
     "base_uri": "https://localhost:8080/",
     "height": 51
    },
    "colab_type": "code",
    "id": "ekU4vZdS46ez",
    "outputId": "fb2ad3e0-0ccc-4ea8-cd63-bd0680e5dcd8"
   },
   "outputs": [
    {
     "name": "stdout",
     "output_type": "stream",
     "text": [
      "ResNet CNN Test Loss: 0.629\n",
      "ResNet CNN Test Accuracy: 0.677\n"
     ]
    }
   ],
   "source": [
    "cnn3_gen = cnn3.evaluate(X_test3, y_test3, verbose=0)\n",
    "print(f\"\"\"ResNet CNN Test Loss: {cnn3_gen[0]:.3f}\"\"\")\n",
    "print(f\"\"\"ResNet CNN Test Accuracy: {cnn3_gen[1]:.3f}\"\"\")"
   ]
  },
  {
   "cell_type": "markdown",
   "metadata": {
    "colab_type": "text",
    "id": "HRzP4LbZP7Tf"
   },
   "source": [
    "Depsire that the Augmented CNN did achieve the highest validation scores at certain epochs, it dropped on the final epoch and does not outperform the Vanilla CNN on the test set.  Also, the ResNet was not able to achieve a higher score than the Vanilla CNN or Augmented CNN, possibly because it requires more epochs/ compute time to thoroughly train such a deep model."
   ]
  },
  {
   "cell_type": "code",
   "execution_count": 0,
   "metadata": {
    "colab": {},
    "colab_type": "code",
    "id": "kqS5HA9rAavr"
   },
   "outputs": [],
   "source": []
  }
 ],
 "metadata": {
  "accelerator": "GPU",
  "colab": {
   "collapsed_sections": [],
   "name": "homework-5-bsv2111.ipynb",
   "provenance": [],
   "toc_visible": true,
   "version": "0.3.2"
  },
  "kernelspec": {
   "display_name": "Multigraph UER",
   "language": "python",
   "name": "python3"
  },
  "language_info": {
   "codemirror_mode": {
    "name": "ipython",
    "version": 3
   },
   "file_extension": ".py",
   "mimetype": "text/x-python",
   "name": "python",
   "nbconvert_exporter": "python",
   "pygments_lexer": "ipython3",
   "version": "3.6.5"
  }
 },
 "nbformat": 4,
 "nbformat_minor": 1
}
